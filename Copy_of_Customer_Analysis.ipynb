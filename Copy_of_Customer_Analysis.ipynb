{
  "nbformat": 4,
  "nbformat_minor": 0,
  "metadata": {
    "colab": {
      "name": "Copy of Customer Analysis",
      "version": "0.3.2",
      "provenance": [],
      "collapsed_sections": [
        "1UumtERs5DvG",
        "tA3CgjXjdImb",
        "Ss22YrFMdgfo",
        "ioN0CVhCjkmC",
        "F1KVLIYkeS6-",
        "TrzD56eoqfQm",
        "s_H0KxQ1mHQS",
        "sTPfF6Ti73jX",
        "wAmb5uBG8Ze4",
        "EQ-Hacl_F7fo",
        "mwjjPbPY9BrD"
      ],
      "include_colab_link": true
    },
    "kernelspec": {
      "name": "python3",
      "display_name": "Python 3"
    }
  },
  "cells": [
    {
      "cell_type": "markdown",
      "metadata": {
        "id": "view-in-github",
        "colab_type": "text"
      },
      "source": [
        "<a href=\"https://colab.research.google.com/github/snehamehrin/Customer-Segmentation/blob/master/Copy_of_Customer_Analysis.ipynb\" target=\"_parent\"><img src=\"https://colab.research.google.com/assets/colab-badge.svg\" alt=\"Open In Colab\"/></a>"
      ]
    },
    {
      "cell_type": "markdown",
      "metadata": {
        "id": "RB_-Q28iiNhO",
        "colab_type": "text"
      },
      "source": [
        "#Customer Segmentation / future business prospects **\n",
        "\n",
        "## Goal: We will be classifying customers data into groups of similar habits, interests, products they purchase and so on, to gain a deeper understanding of how we can improve the workflow to benefit our business having happier customers. This could reveal more questions along the way with each perhaps being a new project. \n"
      ]
    },
    {
      "cell_type": "code",
      "metadata": {
        "id": "hI8wwpfI9f67",
        "colab_type": "code",
        "outputId": "4fe76765-951b-4760-b7a5-507019063e7e",
        "colab": {
          "base_uri": "https://localhost:8080/",
          "height": 272
        }
      },
      "source": [
        "##Importing Libraries\n",
        "\n",
        "import pandas as pd\n",
        "from datetime import datetime \n",
        "import seaborn as sns\n",
        "import re\n",
        "import difflib\n",
        "from difflib import SequenceMatcher\n",
        "import string\n",
        "!pip install beautifulsoup4\n",
        "!pip install google\n",
        "from googlesearch import search \n",
        "import requests\n",
        "!pip install fuzzy\n",
        "import fuzzy\n",
        "import nltk\n",
        "import bs4\n",
        "nltk.download('stopwords')\n",
        "nltk.download('punkt')\n",
        "from nltk.tokenize import word_tokenize\n",
        "from collections import Counter\n",
        "import itertools\n",
        "from nltk.util import ngrams"
      ],
      "execution_count": 0,
      "outputs": [
        {
          "output_type": "stream",
          "text": [
            "Requirement already satisfied: beautifulsoup4 in /usr/local/lib/python3.6/dist-packages (4.6.3)\n",
            "Requirement already satisfied: google in /usr/local/lib/python3.6/dist-packages (2.0.2)\n",
            "Requirement already satisfied: beautifulsoup4 in /usr/local/lib/python3.6/dist-packages (from google) (4.6.3)\n",
            "Collecting fuzzy\n",
            "  Downloading https://files.pythonhosted.org/packages/ad/b0/210f790e81e3c9f86a740f5384c758ad6c7bc1958332cf64263a9d3cf336/Fuzzy-1.2.2.tar.gz\n",
            "Building wheels for collected packages: fuzzy\n",
            "  Building wheel for fuzzy (setup.py) ... \u001b[?25l\u001b[?25hdone\n",
            "  Stored in directory: /root/.cache/pip/wheels/79/f7/14/b7e20855729780e85322529469b2d1eadfd940e83d981373cc\n",
            "Successfully built fuzzy\n",
            "Installing collected packages: fuzzy\n",
            "Successfully installed fuzzy-1.2.2\n",
            "[nltk_data] Downloading package stopwords to /root/nltk_data...\n",
            "[nltk_data]   Unzipping corpora/stopwords.zip.\n",
            "[nltk_data] Downloading package punkt to /root/nltk_data...\n",
            "[nltk_data]   Unzipping tokenizers/punkt.zip.\n"
          ],
          "name": "stdout"
        }
      ]
    },
    {
      "cell_type": "code",
      "metadata": {
        "id": "DtQrYTKxfYhf",
        "colab_type": "code",
        "outputId": "021efee7-98bd-4836-fc76-3908c1a051b3",
        "colab": {
          "resources": {
            "http://localhost:8080/nbextensions/google.colab/files.js": {
              "data": "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",
              "ok": true,
              "headers": [
                [
                  "content-type",
                  "application/javascript"
                ]
              ],
              "status": 200,
              "status_text": ""
            }
          },
          "base_uri": "https://localhost:8080/",
          "height": 71
        }
      },
      "source": [
        "#Importing File\n",
        "from google.colab import files\n",
        "uploaded = files.upload()"
      ],
      "execution_count": 0,
      "outputs": [
        {
          "output_type": "display_data",
          "data": {
            "text/html": [
              "\n",
              "     <input type=\"file\" id=\"files-b3a3ce11-a84c-48ff-9470-4c9128aa3d70\" name=\"files[]\" multiple disabled />\n",
              "     <output id=\"result-b3a3ce11-a84c-48ff-9470-4c9128aa3d70\">\n",
              "      Upload widget is only available when the cell has been executed in the\n",
              "      current browser session. Please rerun this cell to enable.\n",
              "      </output>\n",
              "      <script src=\"/nbextensions/google.colab/files.js\"></script> "
            ],
            "text/plain": [
              "<IPython.core.display.HTML object>"
            ]
          },
          "metadata": {
            "tags": []
          }
        },
        {
          "output_type": "stream",
          "text": [
            "Saving yyc manifest history bestbuy.csv to yyc manifest history bestbuy.csv\n"
          ],
          "name": "stdout"
        }
      ]
    },
    {
      "cell_type": "code",
      "metadata": {
        "id": "4KxgZG7jf0nu",
        "colab_type": "code",
        "colab": {}
      },
      "source": [
        "#Reading Data\n",
        "train_data=pd.read_csv('yyc manifest history bestbuy.csv')"
      ],
      "execution_count": 0,
      "outputs": []
    },
    {
      "cell_type": "markdown",
      "metadata": {
        "id": "F8OVJR3635UM",
        "colab_type": "text"
      },
      "source": [
        "##1)EXPLORING DATA"
      ]
    },
    {
      "cell_type": "code",
      "metadata": {
        "id": "OX7QOqLyf6xV",
        "colab_type": "code",
        "outputId": "003ef946-5044-4056-9c28-3f12e90514ad",
        "colab": {
          "base_uri": "https://localhost:8080/",
          "height": 391
        }
      },
      "source": [
        "#Checking the first few columns\n",
        "train_data.head()"
      ],
      "execution_count": 0,
      "outputs": [
        {
          "output_type": "execute_result",
          "data": {
            "text/html": [
              "<div>\n",
              "<style scoped>\n",
              "    .dataframe tbody tr th:only-of-type {\n",
              "        vertical-align: middle;\n",
              "    }\n",
              "\n",
              "    .dataframe tbody tr th {\n",
              "        vertical-align: top;\n",
              "    }\n",
              "\n",
              "    .dataframe thead th {\n",
              "        text-align: right;\n",
              "    }\n",
              "</style>\n",
              "<table border=\"1\" class=\"dataframe\">\n",
              "  <thead>\n",
              "    <tr style=\"text-align: right;\">\n",
              "      <th></th>\n",
              "      <th>Client</th>\n",
              "      <th>Date</th>\n",
              "      <th>Invoice #</th>\n",
              "      <th>Pick up</th>\n",
              "      <th>Window_Start</th>\n",
              "      <th>Window_End</th>\n",
              "      <th>Pick Up Location</th>\n",
              "      <th>City/Town</th>\n",
              "      <th>Customer Name</th>\n",
              "      <th>Delivery Team</th>\n",
              "      <th>Product Information</th>\n",
              "      <th>Comments</th>\n",
              "      <th>Unnamed: 12</th>\n",
              "    </tr>\n",
              "  </thead>\n",
              "  <tbody>\n",
              "    <tr>\n",
              "      <th>0</th>\n",
              "      <td>NaN</td>\n",
              "      <td>2001-Aug.-18</td>\n",
              "      <td>900-907325 VIP LE</td>\n",
              "      <td>Bestbuy</td>\n",
              "      <td>11:00</td>\n",
              "      <td>14:00</td>\n",
              "      <td>CDS Warehouse 5811 46 Street SE</td>\n",
              "      <td>Calgary</td>\n",
              "      <td>James Attwood</td>\n",
              "      <td>Adam / Musa</td>\n",
              "      <td>GE 5.3CF TOP LD WSHR WH, GE 7.4 CF DRYER</td>\n",
              "      <td>NaN</td>\n",
              "      <td>NaN</td>\n",
              "    </tr>\n",
              "    <tr>\n",
              "      <th>1</th>\n",
              "      <td>NaN</td>\n",
              "      <td>2001-Aug.-18</td>\n",
              "      <td>976-416905</td>\n",
              "      <td>Bestbuy</td>\n",
              "      <td>11:30</td>\n",
              "      <td>14:30</td>\n",
              "      <td>CDS Warehouse 5811 46 Street SE</td>\n",
              "      <td>CALGARY</td>\n",
              "      <td>lynch marilyn</td>\n",
              "      <td>Adam / Musa</td>\n",
              "      <td>BOSCH 24\" 300S BAR DISHWSH</td>\n",
              "      <td>1 X REMOVAL</td>\n",
              "      <td>NaN</td>\n",
              "    </tr>\n",
              "    <tr>\n",
              "      <th>2</th>\n",
              "      <td>NaN</td>\n",
              "      <td>2001-Aug.-18</td>\n",
              "      <td>947-417497 PICK UP / RETURN</td>\n",
              "      <td>Bestbuy</td>\n",
              "      <td>12:00</td>\n",
              "      <td>15:00</td>\n",
              "      <td>127 CANTRELL PL SW *Call Cx 30 minutes before ...</td>\n",
              "      <td>CALGARY</td>\n",
              "      <td>Gevin Bebault</td>\n",
              "      <td>Adam / Musa</td>\n",
              "      <td>FRIGIDAIRE 24\" DISHWASHER</td>\n",
              "      <td>DAMAGE Was dropped (damaged). Exchanging for a...</td>\n",
              "      <td>NaN</td>\n",
              "    </tr>\n",
              "    <tr>\n",
              "      <th>3</th>\n",
              "      <td>NaN</td>\n",
              "      <td>2001-Aug.-18</td>\n",
              "      <td>947-417497 DELIVER</td>\n",
              "      <td>Bestbuy</td>\n",
              "      <td>12:00</td>\n",
              "      <td>15:00</td>\n",
              "      <td>CDS Warehouse 5811 46 Street SE</td>\n",
              "      <td>CALGARY</td>\n",
              "      <td>Gevin Bebault</td>\n",
              "      <td>Adam / Musa</td>\n",
              "      <td>FRIGIDAIRE 24\" DSHWSHR SS</td>\n",
              "      <td>NaN</td>\n",
              "      <td>NaN</td>\n",
              "    </tr>\n",
              "    <tr>\n",
              "      <th>4</th>\n",
              "      <td>NaN</td>\n",
              "      <td>2001-Aug.-18</td>\n",
              "      <td>900-905868</td>\n",
              "      <td>Bestbuy</td>\n",
              "      <td>13:00</td>\n",
              "      <td>16:00</td>\n",
              "      <td>CDS Warehouse 5811 46 Street SE</td>\n",
              "      <td>Calgary</td>\n",
              "      <td>George Popovic</td>\n",
              "      <td>Adam / Musa</td>\n",
              "      <td>INSIGNIA 18 TOP MOUNT FRIDGE</td>\n",
              "      <td>NO UNIT #?? and could not get intouch with cus...</td>\n",
              "      <td>NaN</td>\n",
              "    </tr>\n",
              "  </tbody>\n",
              "</table>\n",
              "</div>"
            ],
            "text/plain": [
              "  Client  ... Unnamed: 12\n",
              "0    NaN  ...         NaN\n",
              "1    NaN  ...         NaN\n",
              "2    NaN  ...         NaN\n",
              "3    NaN  ...         NaN\n",
              "4    NaN  ...         NaN\n",
              "\n",
              "[5 rows x 13 columns]"
            ]
          },
          "metadata": {
            "tags": []
          },
          "execution_count": 5
        }
      ]
    },
    {
      "cell_type": "code",
      "metadata": {
        "id": "t_q-8KP7rP82",
        "colab_type": "code",
        "outputId": "6b3fb29a-f8f0-406c-b6ff-cbb882ab4853",
        "colab": {
          "base_uri": "https://localhost:8080/",
          "height": 323
        }
      },
      "source": [
        "train_data.info()"
      ],
      "execution_count": 0,
      "outputs": [
        {
          "output_type": "stream",
          "text": [
            "<class 'pandas.core.frame.DataFrame'>\n",
            "RangeIndex: 7520 entries, 0 to 7519\n",
            "Data columns (total 13 columns):\n",
            "Client                 7431 non-null object\n",
            "Date                   7509 non-null object\n",
            "Invoice #              7507 non-null object\n",
            "Pick up                7510 non-null object\n",
            "Window_Start           7479 non-null object\n",
            "Window_End             6700 non-null object\n",
            "Pick Up Location       7511 non-null object\n",
            "City/Town              7509 non-null object\n",
            "Customer Name          7508 non-null object\n",
            "Delivery Team          7272 non-null object\n",
            "Product Information    7500 non-null object\n",
            "Comments               4095 non-null object\n",
            "Unnamed: 12            5 non-null object\n",
            "dtypes: object(13)\n",
            "memory usage: 763.8+ KB\n"
          ],
          "name": "stdout"
        }
      ]
    },
    {
      "cell_type": "code",
      "metadata": {
        "id": "sYYUU_hYqt2z",
        "colab_type": "code",
        "colab": {}
      },
      "source": [
        "#Dropping Unwanted columns\n",
        "train_data=train_data.drop(columns=['Unnamed: 12'])"
      ],
      "execution_count": 0,
      "outputs": []
    },
    {
      "cell_type": "code",
      "metadata": {
        "id": "viAtZtb1cG7v",
        "colab_type": "code",
        "colab": {}
      },
      "source": [
        "#Giving proper name to columns\n",
        "train_data.rename(columns={'Invoice #':'Invoice','City/Town':'City'},inplace=True)"
      ],
      "execution_count": 0,
      "outputs": []
    },
    {
      "cell_type": "code",
      "metadata": {
        "id": "Pqa3NJXUch6A",
        "colab_type": "code",
        "outputId": "cd2509d9-3f7a-4a09-8327-e871b3d74872",
        "colab": {
          "base_uri": "https://localhost:8080/",
          "height": 85
        }
      },
      "source": [
        "#Checking the columns\n",
        "\n",
        "train_data.columns"
      ],
      "execution_count": 0,
      "outputs": [
        {
          "output_type": "execute_result",
          "data": {
            "text/plain": [
              "Index(['Client', 'Date', 'Invoice', 'Pick up', 'Window_Start', 'Window_End',\n",
              "       'Pick Up Location', 'City', 'Customer Name', 'Delivery Team',\n",
              "       'Product Information', 'Comments'],\n",
              "      dtype='object')"
            ]
          },
          "metadata": {
            "tags": []
          },
          "execution_count": 9
        }
      ]
    },
    {
      "cell_type": "code",
      "metadata": {
        "id": "y6auoq83rg2i",
        "colab_type": "code",
        "outputId": "cb82c759-40dc-4de8-cd54-79a78e2a6691",
        "colab": {
          "base_uri": "https://localhost:8080/",
          "height": 238
        }
      },
      "source": [
        "#Checking for null values\n",
        "train_data.isnull().sum()"
      ],
      "execution_count": 0,
      "outputs": [
        {
          "output_type": "execute_result",
          "data": {
            "text/plain": [
              "Client                   89\n",
              "Date                     11\n",
              "Invoice                  13\n",
              "Pick up                  10\n",
              "Window_Start             41\n",
              "Window_End              820\n",
              "Pick Up Location          9\n",
              "City                     11\n",
              "Customer Name            12\n",
              "Delivery Team           248\n",
              "Product Information      20\n",
              "Comments               3425\n",
              "dtype: int64"
            ]
          },
          "metadata": {
            "tags": []
          },
          "execution_count": 10
        }
      ]
    },
    {
      "cell_type": "code",
      "metadata": {
        "id": "UwVcDKKW4f0z",
        "colab_type": "code",
        "colab": {}
      },
      "source": [
        "#Drop rows where all elements are missing\n",
        "\n",
        "train_data.dropna(how='all',inplace=True)"
      ],
      "execution_count": 0,
      "outputs": []
    },
    {
      "cell_type": "code",
      "metadata": {
        "id": "7mYzCxOl435E",
        "colab_type": "code",
        "outputId": "27d72570-7583-43b9-b424-260d74dc40e8",
        "colab": {
          "base_uri": "https://localhost:8080/",
          "height": 238
        }
      },
      "source": [
        "#Checking how many null values are remaining\n",
        "train_data.isnull().sum()"
      ],
      "execution_count": 0,
      "outputs": [
        {
          "output_type": "execute_result",
          "data": {
            "text/plain": [
              "Client                   80\n",
              "Date                      2\n",
              "Invoice                   4\n",
              "Pick up                   1\n",
              "Window_Start             32\n",
              "Window_End              811\n",
              "Pick Up Location          0\n",
              "City                      2\n",
              "Customer Name             3\n",
              "Delivery Team           239\n",
              "Product Information      11\n",
              "Comments               3416\n",
              "dtype: int64"
            ]
          },
          "metadata": {
            "tags": []
          },
          "execution_count": 12
        }
      ]
    },
    {
      "cell_type": "markdown",
      "metadata": {
        "id": "1UumtERs5DvG",
        "colab_type": "text"
      },
      "source": [
        "###Observations\n",
        "\n",
        "There are still null values.\n",
        "\n",
        "We will replace them with meaningful values after we check each column seperately"
      ]
    },
    {
      "cell_type": "markdown",
      "metadata": {
        "id": "YiKLdMmW5Qvk",
        "colab_type": "text"
      },
      "source": [
        "##3)DATA WRANGLING"
      ]
    },
    {
      "cell_type": "code",
      "metadata": {
        "id": "68lLOeWhG68Y",
        "colab_type": "code",
        "colab": {}
      },
      "source": [
        "#Function to remove punctuation\n",
        "def remove_punctuation(x):\n",
        "  cleantext=re.sub('[^\\w\\s+\\d+,]',\" \",x)\n",
        "  return cleantext"
      ],
      "execution_count": 0,
      "outputs": []
    },
    {
      "cell_type": "code",
      "metadata": {
        "id": "3SZVvP4NDES9",
        "colab_type": "code",
        "colab": {}
      },
      "source": [
        "#Function to remove digits\n",
        "\n",
        "def remove_digits(x):\n",
        "  cleantext=re.sub(r'\\d+',' ',x)\n",
        "  return cleantext\n"
      ],
      "execution_count": 0,
      "outputs": []
    },
    {
      "cell_type": "code",
      "metadata": {
        "id": "ztqG9-gXz1qA",
        "colab_type": "code",
        "colab": {}
      },
      "source": [
        "#Function to Remove Stop words\n",
        "from nltk.corpus import stopwords\n",
        "stopwords = set(stopwords.words(\"english\"))\n",
        "def remove_stopwords(x):\n",
        "  words=nltk.word_tokenize(x)\n",
        "  token_words=[x for x in words if not x in stopwords]\n",
        "  token_words=' '.join(token_words)\n",
        "  return token_words"
      ],
      "execution_count": 0,
      "outputs": []
    },
    {
      "cell_type": "code",
      "metadata": {
        "id": "uSNfDAgL0Z-h",
        "colab_type": "code",
        "colab": {}
      },
      "source": [
        "#Function to remove duplicate spaces\n",
        "\n",
        "def remove_duplicatespaces(x):\n",
        "  \n",
        "  cleantext=re.sub('[\\s*?]{2,}',' ',x)\n",
        "  return cleantext"
      ],
      "execution_count": 0,
      "outputs": []
    },
    {
      "cell_type": "code",
      "metadata": {
        "id": "t5GGGZNg9Avu",
        "colab_type": "code",
        "colab": {}
      },
      "source": [
        "#Function to remove space before comma\n",
        "def remove_space_beforecomma(x):\n",
        "  clean_text=re.sub(r'( , )',',',x)\n",
        "  return clean_text"
      ],
      "execution_count": 0,
      "outputs": []
    },
    {
      "cell_type": "code",
      "metadata": {
        "id": "7cnPxsKMHemF",
        "colab_type": "code",
        "colab": {}
      },
      "source": [
        "#Finding misspelled words\n",
        "from difflib import get_close_matches\n",
        "\n",
        "def fix_typoerror(x,correct_words):\n",
        "  correct_word=get_close_matches(x,correct_words,n=1,cutoff=0.6)\n",
        "  if len(correct_word)!=0:\n",
        "    return correct_word[0]\n",
        "  else:\n",
        "      return x"
      ],
      "execution_count": 0,
      "outputs": []
    },
    {
      "cell_type": "markdown",
      "metadata": {
        "id": "-UNV8FHUc5Oo",
        "colab_type": "text"
      },
      "source": [
        "###3.1 CLIENT"
      ]
    },
    {
      "cell_type": "code",
      "metadata": {
        "id": "GZWGYCAAr9dJ",
        "colab_type": "code",
        "outputId": "065fba60-6e7f-465f-ae01-d00a7f8b2fbe",
        "colab": {
          "base_uri": "https://localhost:8080/",
          "height": 102
        }
      },
      "source": [
        "train_data['Client'].unique()"
      ],
      "execution_count": 0,
      "outputs": [
        {
          "output_type": "execute_result",
          "data": {
            "text/plain": [
              "array([nan, 'BestBuy', 'Best Buy', 'Bestbuy', 'Bestuy', 'Betsbuy',\n",
              "       'Betsbuy ', 'Bestbuy ', 'BB DTV', 'bestbuy ', 'BBDTV ', 'BBDTV',\n",
              "       'Same Day BB', 'Best buy ', 'best Buy', 'BB DTV ', 'bestbuy',\n",
              "       'Best Buy ', 'BB Same Day', '319-524778', 'BBSameday ',\n",
              "       'BB Sameday ', 'Best buy'], dtype=object)"
            ]
          },
          "metadata": {
            "tags": []
          },
          "execution_count": 19
        }
      ]
    },
    {
      "cell_type": "code",
      "metadata": {
        "id": "b11VXSw8MbvG",
        "colab_type": "code",
        "outputId": "c81d3494-bfa5-47eb-bfe0-570ae6ef259f",
        "colab": {
          "base_uri": "https://localhost:8080/",
          "height": 408
        }
      },
      "source": [
        "train_data['Client'].value_counts()"
      ],
      "execution_count": 0,
      "outputs": [
        {
          "output_type": "execute_result",
          "data": {
            "text/plain": [
              "Best Buy       4836\n",
              "BestBuy        1232\n",
              "Bestbuy        1080\n",
              "Betsbuy          98\n",
              "Betsbuy          81\n",
              "Bestbuy          62\n",
              "BB DTV           15\n",
              "BB DTV            6\n",
              "BBDTV             3\n",
              "Best buy          3\n",
              "bestbuy           2\n",
              "Same Day BB       2\n",
              "Bestuy            2\n",
              "BB Sameday        1\n",
              "bestbuy           1\n",
              "BBSameday         1\n",
              "BBDTV             1\n",
              "Best buy          1\n",
              "319-524778        1\n",
              "best Buy          1\n",
              "BB Same Day       1\n",
              "Best Buy          1\n",
              "Name: Client, dtype: int64"
            ]
          },
          "metadata": {
            "tags": []
          },
          "execution_count": 20
        }
      ]
    },
    {
      "cell_type": "code",
      "metadata": {
        "id": "xP2q_e1NHxIL",
        "colab_type": "code",
        "colab": {}
      },
      "source": [
        "\n",
        "#Applying Spelling Check\n",
        "correct_list=['BestBuy','BBDTV','BBSameday']\n",
        "\n",
        "train_data['Client1']=train_data['Client'].astype(str).apply(lambda x : fix_typoerror(x,correct_list))"
      ],
      "execution_count": 0,
      "outputs": []
    },
    {
      "cell_type": "code",
      "metadata": {
        "id": "-gbo2BkNKx5n",
        "colab_type": "code",
        "outputId": "de23e3cb-5fc8-4ba6-f1e0-a9ffe45b9b18",
        "colab": {
          "base_uri": "https://localhost:8080/",
          "height": 119
        }
      },
      "source": [
        "train_data['Client1'].value_counts()\n"
      ],
      "execution_count": 0,
      "outputs": [
        {
          "output_type": "execute_result",
          "data": {
            "text/plain": [
              "BestBuy       7400\n",
              "nan             80\n",
              "BBDTV           25\n",
              "BBSameday        5\n",
              "319-524778       1\n",
              "Name: Client1, dtype: int64"
            ]
          },
          "metadata": {
            "tags": []
          },
          "execution_count": 22
        }
      ]
    },
    {
      "cell_type": "markdown",
      "metadata": {
        "id": "hmkcEB9Bc_ad",
        "colab_type": "text"
      },
      "source": [
        "There are 89 null values in Client which will need to be checked"
      ]
    },
    {
      "cell_type": "code",
      "metadata": {
        "id": "Yw2BQoEAsPeV",
        "colab_type": "code",
        "colab": {}
      },
      "source": [
        "##Drop Client column\n",
        "train_data_cleaned=train_data"
      ],
      "execution_count": 0,
      "outputs": []
    },
    {
      "cell_type": "markdown",
      "metadata": {
        "id": "tA3CgjXjdImb",
        "colab_type": "text"
      },
      "source": [
        "###3.2 DATE"
      ]
    },
    {
      "cell_type": "code",
      "metadata": {
        "id": "3s5WdFsns5K0",
        "colab_type": "code",
        "outputId": "9cd66da1-166f-49bc-f5fd-6c71cf80d143",
        "colab": {
          "base_uri": "https://localhost:8080/",
          "height": 1139
        }
      },
      "source": [
        "#Type of Date column\n",
        "print(\"Type of Date field is \",train_data_cleaned['Date'].dtype,\"\\n\\n\\n\")\n",
        "#Check different types of text data in this column\n",
        "train_data_cleaned['Date'].value_counts()"
      ],
      "execution_count": 0,
      "outputs": [
        {
          "output_type": "stream",
          "text": [
            "Type of Date field is  object \n",
            "\n",
            "\n",
            "\n"
          ],
          "name": "stdout"
        },
        {
          "output_type": "execute_result",
          "data": {
            "text/plain": [
              "########         421\n",
              "January 5        135\n",
              "January 3        129\n",
              "January 4        120\n",
              "December 1       106\n",
              "January 2         93\n",
              "November 29       92\n",
              "November 28       92\n",
              "November 30       89\n",
              "December 4        84\n",
              "December 29       79\n",
              "December 5        78\n",
              "December 8        74\n",
              "January 9         74\n",
              "December 12       73\n",
              "2008-Sep.-18      67\n",
              "December 28       67\n",
              "22-Aug.-18        66\n",
              "2009-Aug.-18      66\n",
              "2006-Sep.-18      66\n",
              "December 6        65\n",
              "December 13       63\n",
              "October 24        61\n",
              "October 13        61\n",
              "26-Sep.-18        60\n",
              "19-Sep.-18        58\n",
              "January 11        58\n",
              "January 12        57\n",
              "November 14       55\n",
              "January 10        54\n",
              "                ... \n",
              "May 1              2\n",
              "December 3         2\n",
              "March 17           2\n",
              "9-Oct.-09          1\n",
              "2018-Oct.-20       1\n",
              "04-Dec.-18         1\n",
              "2002-Sep.-18       1\n",
              "November 19        1\n",
              "oct 17th           1\n",
              "March 24           1\n",
              "February 3         1\n",
              "December 31        1\n",
              "13-Aug.-18         1\n",
              "Dcember 5          1\n",
              "13-Oct.-18         1\n",
              "November 11        1\n",
              "Oct 27th           1\n",
              "21-Oct.            1\n",
              "February 17        1\n",
              "December 23        1\n",
              "January 28         1\n",
              "March 31           1\n",
              "October 12         1\n",
              "Oct 23rd           1\n",
              "Oct 23rd           1\n",
              "06-Nov.-18         1\n",
              "December 15th      1\n",
              "April 8            1\n",
              "April 21           1\n",
              "27-Aug.-18         1\n",
              "Name: Date, Length: 223, dtype: int64"
            ]
          },
          "metadata": {
            "tags": []
          },
          "execution_count": 24
        }
      ]
    },
    {
      "cell_type": "markdown",
      "metadata": {
        "id": "Ss22YrFMdgfo",
        "colab_type": "text"
      },
      "source": [
        "###Observations\n",
        "It looks like the data in the date column is very inconsistent.\n",
        "\n",
        "We will extract only the first three letters of the month "
      ]
    },
    {
      "cell_type": "code",
      "metadata": {
        "id": "krha1u4meAzF",
        "colab_type": "code",
        "colab": {}
      },
      "source": [
        "def preprocess_date(x):\n",
        "  if re.search(r'[A-Za-z]',x):\n",
        "    word=''.join(re.findall(r'[A-Za-z]{3}',x)[0])\n",
        "    word=word.title()\n",
        "    return word\n",
        "  else:\n",
        "    return \"No Date\""
      ],
      "execution_count": 0,
      "outputs": []
    },
    {
      "cell_type": "code",
      "metadata": {
        "id": "N-slWZn-efPg",
        "colab_type": "code",
        "colab": {}
      },
      "source": [
        "train_data_cleaned['Date1']=train_data_cleaned['Date'].astype(str).apply(preprocess_date)"
      ],
      "execution_count": 0,
      "outputs": []
    },
    {
      "cell_type": "code",
      "metadata": {
        "id": "SfWbLepJhvPM",
        "colab_type": "code",
        "outputId": "776a0a06-0b48-4001-d081-951929170682",
        "colab": {
          "base_uri": "https://localhost:8080/",
          "height": 442
        }
      },
      "source": [
        "train_data_cleaned.head()"
      ],
      "execution_count": 0,
      "outputs": [
        {
          "output_type": "execute_result",
          "data": {
            "text/html": [
              "<div>\n",
              "<style scoped>\n",
              "    .dataframe tbody tr th:only-of-type {\n",
              "        vertical-align: middle;\n",
              "    }\n",
              "\n",
              "    .dataframe tbody tr th {\n",
              "        vertical-align: top;\n",
              "    }\n",
              "\n",
              "    .dataframe thead th {\n",
              "        text-align: right;\n",
              "    }\n",
              "</style>\n",
              "<table border=\"1\" class=\"dataframe\">\n",
              "  <thead>\n",
              "    <tr style=\"text-align: right;\">\n",
              "      <th></th>\n",
              "      <th>Client</th>\n",
              "      <th>Date</th>\n",
              "      <th>Invoice</th>\n",
              "      <th>Pick up</th>\n",
              "      <th>Window_Start</th>\n",
              "      <th>Window_End</th>\n",
              "      <th>Pick Up Location</th>\n",
              "      <th>City</th>\n",
              "      <th>Customer Name</th>\n",
              "      <th>Delivery Team</th>\n",
              "      <th>Product Information</th>\n",
              "      <th>Comments</th>\n",
              "      <th>Client1</th>\n",
              "      <th>Date1</th>\n",
              "    </tr>\n",
              "  </thead>\n",
              "  <tbody>\n",
              "    <tr>\n",
              "      <th>0</th>\n",
              "      <td>NaN</td>\n",
              "      <td>2001-Aug.-18</td>\n",
              "      <td>900-907325 VIP LE</td>\n",
              "      <td>Bestbuy</td>\n",
              "      <td>11:00</td>\n",
              "      <td>14:00</td>\n",
              "      <td>CDS Warehouse 5811 46 Street SE</td>\n",
              "      <td>Calgary</td>\n",
              "      <td>James Attwood</td>\n",
              "      <td>Adam / Musa</td>\n",
              "      <td>GE 5.3CF TOP LD WSHR WH, GE 7.4 CF DRYER</td>\n",
              "      <td>NaN</td>\n",
              "      <td>nan</td>\n",
              "      <td>Aug</td>\n",
              "    </tr>\n",
              "    <tr>\n",
              "      <th>1</th>\n",
              "      <td>NaN</td>\n",
              "      <td>2001-Aug.-18</td>\n",
              "      <td>976-416905</td>\n",
              "      <td>Bestbuy</td>\n",
              "      <td>11:30</td>\n",
              "      <td>14:30</td>\n",
              "      <td>CDS Warehouse 5811 46 Street SE</td>\n",
              "      <td>CALGARY</td>\n",
              "      <td>lynch marilyn</td>\n",
              "      <td>Adam / Musa</td>\n",
              "      <td>BOSCH 24\" 300S BAR DISHWSH</td>\n",
              "      <td>1 X REMOVAL</td>\n",
              "      <td>nan</td>\n",
              "      <td>Aug</td>\n",
              "    </tr>\n",
              "    <tr>\n",
              "      <th>2</th>\n",
              "      <td>NaN</td>\n",
              "      <td>2001-Aug.-18</td>\n",
              "      <td>947-417497 PICK UP / RETURN</td>\n",
              "      <td>Bestbuy</td>\n",
              "      <td>12:00</td>\n",
              "      <td>15:00</td>\n",
              "      <td>127 CANTRELL PL SW *Call Cx 30 minutes before ...</td>\n",
              "      <td>CALGARY</td>\n",
              "      <td>Gevin Bebault</td>\n",
              "      <td>Adam / Musa</td>\n",
              "      <td>FRIGIDAIRE 24\" DISHWASHER</td>\n",
              "      <td>DAMAGE Was dropped (damaged). Exchanging for a...</td>\n",
              "      <td>nan</td>\n",
              "      <td>Aug</td>\n",
              "    </tr>\n",
              "    <tr>\n",
              "      <th>3</th>\n",
              "      <td>NaN</td>\n",
              "      <td>2001-Aug.-18</td>\n",
              "      <td>947-417497 DELIVER</td>\n",
              "      <td>Bestbuy</td>\n",
              "      <td>12:00</td>\n",
              "      <td>15:00</td>\n",
              "      <td>CDS Warehouse 5811 46 Street SE</td>\n",
              "      <td>CALGARY</td>\n",
              "      <td>Gevin Bebault</td>\n",
              "      <td>Adam / Musa</td>\n",
              "      <td>FRIGIDAIRE 24\" DSHWSHR SS</td>\n",
              "      <td>NaN</td>\n",
              "      <td>nan</td>\n",
              "      <td>Aug</td>\n",
              "    </tr>\n",
              "    <tr>\n",
              "      <th>4</th>\n",
              "      <td>NaN</td>\n",
              "      <td>2001-Aug.-18</td>\n",
              "      <td>900-905868</td>\n",
              "      <td>Bestbuy</td>\n",
              "      <td>13:00</td>\n",
              "      <td>16:00</td>\n",
              "      <td>CDS Warehouse 5811 46 Street SE</td>\n",
              "      <td>Calgary</td>\n",
              "      <td>George Popovic</td>\n",
              "      <td>Adam / Musa</td>\n",
              "      <td>INSIGNIA 18 TOP MOUNT FRIDGE</td>\n",
              "      <td>NO UNIT #?? and could not get intouch with cus...</td>\n",
              "      <td>nan</td>\n",
              "      <td>Aug</td>\n",
              "    </tr>\n",
              "  </tbody>\n",
              "</table>\n",
              "</div>"
            ],
            "text/plain": [
              "  Client          Date  ... Client1 Date1\n",
              "0    NaN  2001-Aug.-18  ...     nan   Aug\n",
              "1    NaN  2001-Aug.-18  ...     nan   Aug\n",
              "2    NaN  2001-Aug.-18  ...     nan   Aug\n",
              "3    NaN  2001-Aug.-18  ...     nan   Aug\n",
              "4    NaN  2001-Aug.-18  ...     nan   Aug\n",
              "\n",
              "[5 rows x 14 columns]"
            ]
          },
          "metadata": {
            "tags": []
          },
          "execution_count": 27
        }
      ]
    },
    {
      "cell_type": "code",
      "metadata": {
        "id": "0oFb1LDcAx4Z",
        "colab_type": "code",
        "colab": {}
      },
      "source": [
        "#Manually fix any inconsistent data\n",
        "train_data_cleaned.loc[train_data_cleaned['Date1']=='Dce','Date1']='Dec'"
      ],
      "execution_count": 0,
      "outputs": []
    },
    {
      "cell_type": "code",
      "metadata": {
        "id": "G1XukUc_swsZ",
        "colab_type": "code",
        "outputId": "3b899025-697f-41f8-b895-f26546bf78f3",
        "colab": {
          "base_uri": "https://localhost:8080/",
          "height": 238
        }
      },
      "source": [
        "#Check if the data is consistent or not\n",
        "train_data_cleaned['Date1'].value_counts()"
      ],
      "execution_count": 0,
      "outputs": [
        {
          "output_type": "execute_result",
          "data": {
            "text/plain": [
              "Jan        1255\n",
              "Dec        1149\n",
              "Nov         864\n",
              "Oct         689\n",
              "Mar         689\n",
              "Apr         662\n",
              "Aug         634\n",
              "Sep         614\n",
              "Feb         526\n",
              "No Date     425\n",
              "Nan           2\n",
              "May           2\n",
              "Name: Date1, dtype: int64"
            ]
          },
          "metadata": {
            "tags": []
          },
          "execution_count": 29
        }
      ]
    },
    {
      "cell_type": "markdown",
      "metadata": {
        "id": "juzWD8sJGUC_",
        "colab_type": "text"
      },
      "source": [
        "##3.3 INVOICE"
      ]
    },
    {
      "cell_type": "code",
      "metadata": {
        "id": "q-0DQ3_xOTDJ",
        "colab_type": "code",
        "outputId": "c68c772c-c747-4c74-df55-e43c8994e05c",
        "colab": {
          "base_uri": "https://localhost:8080/",
          "height": 1071
        }
      },
      "source": [
        "train_data_cleaned['Invoice'].value_counts()"
      ],
      "execution_count": 0,
      "outputs": [
        {
          "output_type": "execute_result",
          "data": {
            "text/plain": [
              "741419103    6\n",
              "741480407    6\n",
              "741637480    6\n",
              "976462760    6\n",
              "945463846    6\n",
              "741637625    6\n",
              "902422219    6\n",
              "741412445    6\n",
              "             5\n",
              "900958623    5\n",
              "746062964    5\n",
              "902426541    5\n",
              "947489558    5\n",
              "746636198    5\n",
              "976417353    5\n",
              "998651048    5\n",
              "319560966    5\n",
              "960405231    5\n",
              "976401146    5\n",
              "976408930    5\n",
              "746421138    4\n",
              "976418428    4\n",
              "945430260    4\n",
              "960426136    4\n",
              "945421734    4\n",
              "945429126    4\n",
              "319551371    4\n",
              "976480304    4\n",
              "900922791    4\n",
              "900969212    4\n",
              "            ..\n",
              "900931242    1\n",
              "976410137    1\n",
              "900933789    1\n",
              "741481107    1\n",
              "900900519    1\n",
              "947486951    1\n",
              "900946878    1\n",
              "900924571    1\n",
              "900957314    1\n",
              "741480253    1\n",
              "741480460    1\n",
              "900982785    1\n",
              "49087331     1\n",
              "947488819    1\n",
              "746636816    1\n",
              "900926748    1\n",
              "746636012    1\n",
              "741480095    1\n",
              "976480007    1\n",
              "947600399    1\n",
              "947413582    1\n",
              "900950256    1\n",
              "945431609    1\n",
              "741481641    1\n",
              "900992181    1\n",
              "947487507    1\n",
              "960300874    1\n",
              "746636898    1\n",
              "746634644    1\n",
              "902482257    1\n",
              "Name: Invoice, Length: 6011, dtype: int64"
            ]
          },
          "metadata": {
            "tags": []
          },
          "execution_count": 45
        }
      ]
    },
    {
      "cell_type": "code",
      "metadata": {
        "id": "lqmw92cVM0i0",
        "colab_type": "code",
        "colab": {}
      },
      "source": [
        "train_data_cleaned['Invoice1']=train_data_cleaned['Invoice'].astype(str).apply(lambda x : ''.join(re.findall(r'[A-Za-z]',x)))\n",
        "train_data_cleaned['Invoice']=train_data_cleaned['Invoice'].astype(str).apply(lambda x : ''.join(re.findall(r'[\\d+]',x)))"
      ],
      "execution_count": 0,
      "outputs": []
    },
    {
      "cell_type": "code",
      "metadata": {
        "id": "_yNwkrDxOafw",
        "colab_type": "code",
        "outputId": "144b2e2b-da5f-44f3-b68c-58047c2f40a2",
        "colab": {
          "base_uri": "https://localhost:8080/",
          "height": 592
        }
      },
      "source": [
        "train_data_cleaned.loc[train_data_cleaned['Invoice']=='741637480']\n"
      ],
      "execution_count": 0,
      "outputs": [
        {
          "output_type": "execute_result",
          "data": {
            "text/html": [
              "<div>\n",
              "<style scoped>\n",
              "    .dataframe tbody tr th:only-of-type {\n",
              "        vertical-align: middle;\n",
              "    }\n",
              "\n",
              "    .dataframe tbody tr th {\n",
              "        vertical-align: top;\n",
              "    }\n",
              "\n",
              "    .dataframe thead th {\n",
              "        text-align: right;\n",
              "    }\n",
              "</style>\n",
              "<table border=\"1\" class=\"dataframe\">\n",
              "  <thead>\n",
              "    <tr style=\"text-align: right;\">\n",
              "      <th></th>\n",
              "      <th>Client</th>\n",
              "      <th>Date</th>\n",
              "      <th>Invoice</th>\n",
              "      <th>Pick up</th>\n",
              "      <th>Window_Start</th>\n",
              "      <th>Window_End</th>\n",
              "      <th>Pick Up Location</th>\n",
              "      <th>City</th>\n",
              "      <th>Customer Name</th>\n",
              "      <th>Delivery Team</th>\n",
              "      <th>Product Information</th>\n",
              "      <th>Comments</th>\n",
              "      <th>Client1</th>\n",
              "      <th>Date1</th>\n",
              "      <th>Invoice1</th>\n",
              "    </tr>\n",
              "  </thead>\n",
              "  <tbody>\n",
              "    <tr>\n",
              "      <th>1036</th>\n",
              "      <td>Best Buy</td>\n",
              "      <td>########</td>\n",
              "      <td>741637480</td>\n",
              "      <td>Bestbuy</td>\n",
              "      <td>13:00</td>\n",
              "      <td>16:00</td>\n",
              "      <td>741 Shawnessy</td>\n",
              "      <td>Calgary</td>\n",
              "      <td>Darren Price</td>\n",
              "      <td>Jordan / Tony K</td>\n",
              "      <td>samsung 30' range</td>\n",
              "      <td>NaN</td>\n",
              "      <td>BestBuy</td>\n",
              "      <td>No Date</td>\n",
              "      <td>pickup</td>\n",
              "    </tr>\n",
              "    <tr>\n",
              "      <th>1209</th>\n",
              "      <td>Best Buy</td>\n",
              "      <td>19-Sep.-18</td>\n",
              "      <td>741637480</td>\n",
              "      <td>Bestbuy</td>\n",
              "      <td>15:00</td>\n",
              "      <td>18:00</td>\n",
              "      <td>cds wh</td>\n",
              "      <td>Foothills</td>\n",
              "      <td>Darren Price</td>\n",
              "      <td>Jordan / Anthony</td>\n",
              "      <td>samsung 30' range</td>\n",
              "      <td>Call the cx before leaving to attempt delivery...</td>\n",
              "      <td>BestBuy</td>\n",
              "      <td>Sep</td>\n",
              "      <td>delivery</td>\n",
              "    </tr>\n",
              "    <tr>\n",
              "      <th>1511</th>\n",
              "      <td>Bestbuy</td>\n",
              "      <td>########</td>\n",
              "      <td>741637480</td>\n",
              "      <td>Bestbuy</td>\n",
              "      <td>12:00</td>\n",
              "      <td>15:00</td>\n",
              "      <td>CDS Warehouse</td>\n",
              "      <td>Foothills</td>\n",
              "      <td>Darren Price</td>\n",
              "      <td>YYC8</td>\n",
              "      <td>samsung 30' range</td>\n",
              "      <td>Call the cx before leaving to attempt delivery...</td>\n",
              "      <td>BestBuy</td>\n",
              "      <td>No Date</td>\n",
              "      <td>RETURN</td>\n",
              "    </tr>\n",
              "    <tr>\n",
              "      <th>1696</th>\n",
              "      <td>Bestbuy</td>\n",
              "      <td>29 sept</td>\n",
              "      <td>741637480</td>\n",
              "      <td>Bestbuy</td>\n",
              "      <td>12:00</td>\n",
              "      <td>15:00</td>\n",
              "      <td>CDS Warehouse</td>\n",
              "      <td>Foothills</td>\n",
              "      <td>Darren Price</td>\n",
              "      <td>YYC8</td>\n",
              "      <td>samsung 30' range</td>\n",
              "      <td>Call the cx before leaving to attempt delivery...</td>\n",
              "      <td>BestBuy</td>\n",
              "      <td>Sep</td>\n",
              "      <td>RETURN</td>\n",
              "    </tr>\n",
              "    <tr>\n",
              "      <th>1815</th>\n",
              "      <td>Betsbuy</td>\n",
              "      <td>October 5</td>\n",
              "      <td>741637480</td>\n",
              "      <td>Bestbuy</td>\n",
              "      <td>5:30 p.m.</td>\n",
              "      <td>8:30 p.m.</td>\n",
              "      <td>741 Shawnessy</td>\n",
              "      <td>CALGARY</td>\n",
              "      <td>Darren Price</td>\n",
              "      <td>YYC7</td>\n",
              "      <td>RANGE, MICROWAVE, SAMSUNG FRIDGE</td>\n",
              "      <td>NaN</td>\n",
              "      <td>BestBuy</td>\n",
              "      <td>Oct</td>\n",
              "      <td>PICKUP</td>\n",
              "    </tr>\n",
              "    <tr>\n",
              "      <th>1839</th>\n",
              "      <td>Bestbuy</td>\n",
              "      <td>October 6</td>\n",
              "      <td>741637480</td>\n",
              "      <td>Bestbuy</td>\n",
              "      <td>3:30 p.m.</td>\n",
              "      <td>6:30 p.m.</td>\n",
              "      <td>CDS Warehouse 5811 46 Street SE</td>\n",
              "      <td>Foothills</td>\n",
              "      <td>Darren Price</td>\n",
              "      <td>YYC8</td>\n",
              "      <td>RANGE, MICROWAVE, SAMSUNG FRIDGE</td>\n",
              "      <td>this is a large fridge and the client has a wa...</td>\n",
              "      <td>BestBuy</td>\n",
              "      <td>Oct</td>\n",
              "      <td>DELIVER</td>\n",
              "    </tr>\n",
              "  </tbody>\n",
              "</table>\n",
              "</div>"
            ],
            "text/plain": [
              "        Client        Date    Invoice  ...  Client1    Date1  Invoice1\n",
              "1036  Best Buy    ########  741637480  ...  BestBuy  No Date    pickup\n",
              "1209  Best Buy  19-Sep.-18  741637480  ...  BestBuy      Sep  delivery\n",
              "1511   Bestbuy    ########  741637480  ...  BestBuy  No Date    RETURN\n",
              "1696   Bestbuy     29 sept  741637480  ...  BestBuy      Sep    RETURN\n",
              "1815   Betsbuy   October 5  741637480  ...  BestBuy      Oct    PICKUP\n",
              "1839   Bestbuy   October 6  741637480  ...  BestBuy      Oct   DELIVER\n",
              "\n",
              "[6 rows x 15 columns]"
            ]
          },
          "metadata": {
            "tags": []
          },
          "execution_count": 49
        }
      ]
    },
    {
      "cell_type": "code",
      "metadata": {
        "id": "iRnrO2jJQTYY",
        "colab_type": "code",
        "outputId": "b26d59e8-de37-4b71-c641-96e6e75012a3",
        "colab": {
          "base_uri": "https://localhost:8080/",
          "height": 1071
        }
      },
      "source": [
        "train_data_cleaned['Invoice1'].value_counts()"
      ],
      "execution_count": 0,
      "outputs": [
        {
          "output_type": "execute_result",
          "data": {
            "text/plain": [
              "                                                                              6198\n",
              "PICKUPRETURN                                                                   439\n",
              "DELIVER                                                                        378\n",
              "PICKUP                                                                         182\n",
              "RETURN                                                                          54\n",
              "delivery                                                                        20\n",
              "pickup                                                                          18\n",
              "DELIVERY                                                                        13\n",
              "VIP                                                                              8\n",
              "Delivery                                                                         7\n",
              "PICKUPRETURNS                                                                    7\n",
              "return                                                                           5\n",
              "nan                                                                              4\n",
              "specialtimerequestampm                                                           4\n",
              "SPECIALTIMEREQUESTED                                                             4\n",
              "specialtimerequestofampm                                                         3\n",
              "SPECIALTIMEREQUESTpm                                                             3\n",
              "Specialtimerequesttopm                                                           3\n",
              "Pickup                                                                           3\n",
              "SPECIALTIMEREQUEST                                                               3\n",
              "SPECIALTIMECONFIRMED                                                             3\n",
              "Dis                                                                              3\n",
              "DELIVERYSTORE                                                                    3\n",
              "exchange                                                                         2\n",
              "VIPLE                                                                            2\n",
              "MANDELIVERY                                                                      2\n",
              "BUSINESSDELIVERYMONDAYFRIDAYAMPM                                                 2\n",
              "SPECIALTIMEREQUESTtoPM                                                           2\n",
              "SPECIALTMEREQUEST                                                                2\n",
              "SPECIALTIMEREQUESTPM                                                             2\n",
              "                                                                              ... \n",
              "SPECIALTIMEPMAPROVED                                                             1\n",
              "SpecialTimeRequest                                                               1\n",
              "SecialTimeRequesttopm                                                            1\n",
              "Thisdeliveryneedstobescheduledbetweenampmasitisabusinessaddress                  1\n",
              "specialtimerequestpmapproved                                                     1\n",
              "SpecialTimeRequestafterpm                                                        1\n",
              "DELIVERbill                                                                      1\n",
              "Specialdeliveryreuestmaddelivery                                                 1\n",
              "DoNotBill                                                                        1\n",
              "SPECIALTIMEBEFOREPMAPPROVED                                                      1\n",
              "PrefredDeliveryAfterPM                                                           1\n",
              "SpeciaTime                                                                       1\n",
              "ManService                                                                       1\n",
              "SpecialRequestman                                                                1\n",
              "billstoragefromNovth                                                             1\n",
              "Deliver                                                                          1\n",
              "SPECIALTIMEAMTOPM                                                                1\n",
              "SERVICE                                                                          1\n",
              "DELIVERFLYBY                                                                     1\n",
              "Donotbill                                                                        1\n",
              "specialtimerequestafterpm                                                        1\n",
              "DELIVERSPECIALTIMEREQUESTEDPMAPPROVED                                            1\n",
              "PICKUPRETURNSPECIALTIMEREQUEST                                                   1\n",
              "SecialTimeRequestamtopm                                                          1\n",
              "additionalchargeduetopickuptruckfordelivery                                      1\n",
              "nochargebilloutonorgduetorewnotupdatingcleardcorrectly                           1\n",
              "Customerprefersmorningdelivery                                                   1\n",
              "BusinessDeliveryMonFriamtopm                                                     1\n",
              "ForrentalpropertysopleasecalltheCxoncelltwodayspriortoarrangingthedelivery       1\n",
              "specialtimerequestpm                                                             1\n",
              "Name: Invoice1, Length: 150, dtype: int64"
            ]
          },
          "metadata": {
            "tags": []
          },
          "execution_count": 50
        }
      ]
    },
    {
      "cell_type": "code",
      "metadata": {
        "id": "v66ICNhpVYSM",
        "colab_type": "code",
        "colab": {}
      },
      "source": [
        "#Applying Spelling Check\n",
        "correct_list=['DELIVER','PICKUP','SPECIALTIMEREQUEST','RETURN','DONOTBILL']\n",
        "train_data['Invoice1']=train_data['Invoice1'].astype(str).apply(lambda x : x.upper())\n",
        "\n",
        "train_data['Invoice1']=train_data['Invoice1'].astype(str).apply(lambda x : fix_typoerror(x,correct_list))"
      ],
      "execution_count": 0,
      "outputs": []
    },
    {
      "cell_type": "code",
      "metadata": {
        "id": "l4CmZyyhV1KG",
        "colab_type": "code",
        "outputId": "ccbc0792-f4f6-4698-d504-699e40ff59ca",
        "colab": {
          "base_uri": "https://localhost:8080/",
          "height": 918
        }
      },
      "source": [
        "train_data['Invoice1'].value_counts()"
      ],
      "execution_count": 0,
      "outputs": [
        {
          "output_type": "execute_result",
          "data": {
            "text/plain": [
              "                                                                                           6198\n",
              "RETURN                                                                                      512\n",
              "DELIVER                                                                                     430\n",
              "PICKUP                                                                                      206\n",
              "SPECIALTIMEREQUEST                                                                           92\n",
              "VIP                                                                                           8\n",
              "DONOTBILL                                                                                     7\n",
              "DIS                                                                                           5\n",
              "NAN                                                                                           4\n",
              "VIPLE                                                                                         2\n",
              "PRODUCTUNDERORDERNUMBER                                                                       2\n",
              "NOCHARGE                                                                                      2\n",
              "BUSINESSDELIVERYMONDAYFRIDAYAMPM                                                              2\n",
              "EXCHANGE                                                                                      2\n",
              "VIPDISPATCH                                                                                   2\n",
              "MORNINGDELIVERYPLEASE                                                                         1\n",
              "MENDELIVERYBREQUEST                                                                           1\n",
              "LARGEORDERCHARGESEEEMAIL                                                                      1\n",
              "BILLQUOTEDBYMARK                                                                              1\n",
              "SECONDDELIVERYCHARGEAPPROVEDBYSEAN                                                            1\n",
              "BILLSTORAGEFROMNOVTH                                                                          1\n",
              "PICKUPRETURNWAITINGFORCONFIRMATION                                                            1\n",
              "PICKUPRETURNVIP                                                                               1\n",
              "LE                                                                                            1\n",
              "PICKUPLOANERPIECE                                                                             1\n",
              "F                                                                                             1\n",
              "BUSINESSDELIVERYMONFRIAMTOPMAPPROVED                                                          1\n",
              "NOCHARGEBILLOUTONORGDUETOREWNOTUPDATINGCLEARDCORRECTLY                                        1\n",
              "DELIVERSPEICALTIMEFRAME                                                                       1\n",
              "MANDELIVERAPPROVAL                                                                            1\n",
              "TIMESPECIALAMPM                                                                               1\n",
              "MANSERVICE                                                                                    1\n",
              "BUSINESSDELIVERYMFAMPMPO                                                                      1\n",
              "SPECIALDELIVERYREQUESTFORMANDELIVERY                                                          1\n",
              "CUSTOMERPREFERSMORNINGDELIVERY                                                                1\n",
              "EVENINGDELIVERYPREFFERED                                                                      1\n",
              "THISDELIVERYNEEDSTOBESCHEDULEDBETWEENAMPMASITISABUSINESSADDRESS                               1\n",
              "FORRENTALPROPERTYSOPLEASECALLTHECXONCELLTWODAYSPRIORTOARRANGINGTHEDELIVERY                    1\n",
              "BUSINESSDELIVERYMONFRIAMTOPM                                                                  1\n",
              "RESCHEDULEADDRESSCHANGE                                                                       1\n",
              "DELIVERYADDRESSISABUSINESSLOCATIONHOURSAREFROMPMPLEASEENSURECARRIERSCHEDULEDACCORDINGLY       1\n",
              "PREFREDDELIVERYAFTERPM                                                                        1\n",
              "DELIVERKMFROMREDDEERBILLACCORDINGLY                                                           1\n",
              "RETURNTOBBYBILL                                                                               1\n",
              "ADDITIONALCHARGEDUETOPICKUPTRUCKFORDELIVERY                                                   1\n",
              "SERVICE                                                                                       1\n",
              "MISSINGPRODUCTUSINGORDERTOCOMPLETEDELIVERY                                                    1\n",
              "VIPDISPATCHCHANGEDBACKTOCUSTOMER                                                              1\n",
              "VIPLVV                                                                                        1\n",
              "PICKUPRETURNSPEICALTIMEFRAME                                                                  1\n",
              "SPECIALDELIVERYREQUESTFORBETWEENAMTOPM                                                        1\n",
              "SPEICALDELIVERYINSTRUCTIONS                                                                   1\n",
              "Name: Invoice1, dtype: int64"
            ]
          },
          "metadata": {
            "tags": []
          },
          "execution_count": 55
        }
      ]
    },
    {
      "cell_type": "markdown",
      "metadata": {
        "id": "I2A-S5FXbfVc",
        "colab_type": "text"
      },
      "source": [
        "###3.3 CITY"
      ]
    },
    {
      "cell_type": "code",
      "metadata": {
        "id": "mNDkC7SPbhgK",
        "colab_type": "code",
        "outputId": "8086a64d-8c47-4e13-91e9-10edb15b622b",
        "colab": {
          "base_uri": "https://localhost:8080/",
          "height": 1071
        }
      },
      "source": [
        "#Check different types of data\n",
        "train_data_cleaned['City'].value_counts()\n"
      ],
      "execution_count": 0,
      "outputs": [
        {
          "output_type": "execute_result",
          "data": {
            "text/plain": [
              "CALGARY                           3714\n",
              "Calgary                           2170\n",
              "Langley                            250\n",
              "RED DEER                           158\n",
              "Calgary                            135\n",
              "calgary                            122\n",
              "COCHRANE                            84\n",
              "Red Deer                            78\n",
              "calgary                             73\n",
              "Airdrie                             71\n",
              "Cochrane                            58\n",
              "AIRDRIE                             50\n",
              "CHESTERMERE                         46\n",
              "OKOTOKS                             36\n",
              "Canmore                             35\n",
              "Chestermere                         35\n",
              "Banff                               28\n",
              "Okotoks                             24\n",
              "LACOMBE                             19\n",
              "HIGH RIVER                          18\n",
              "Lacombe                             15\n",
              "SYLVAN LAKE                         14\n",
              "Sylvan Lake                         13\n",
              "Blackfalds                          11\n",
              "Strathmore                           9\n",
              "CANMORE                              8\n",
              "Red Deer County                      8\n",
              "STRATHMORE                           8\n",
              "DE WINTON                            8\n",
              "INNISFAIL                            7\n",
              "                                  ... \n",
              "RIMBEY                               1\n",
              "Crossfields                          1\n",
              "High River                           1\n",
              "innisfail                            1\n",
              "canmore                              1\n",
              "a                                    1\n",
              "benalto                              1\n",
              "BASHAW, AB                           1\n",
              "Okotoks                              1\n",
              "EDMONTON                             1\n",
              "Bearspaw Area                        1\n",
              "Lyalta                               1\n",
              "Alhambra, Alberta                    1\n",
              "Gull lake                            1\n",
              "Rocky Mnt house                      1\n",
              "Rockyview, Alberta                   1\n",
              "Starthmore                           1\n",
              "Delburne                             1\n",
              "clive                                1\n",
              "Calgary Alberta                      1\n",
              "Sylvan Lake                          1\n",
              "Lacombe T4L2N1                       1\n",
              "Ghost Lake                           1\n",
              "Clagary                              1\n",
              "Stettler                             1\n",
              "Penhold, Alberta                     1\n",
              "blackfalds                           1\n",
              "Spruce view                          1\n",
              "RED DEER ,            T4R 3R1        1\n",
              "Chestemere                           1\n",
              "Name: City, Length: 147, dtype: int64"
            ]
          },
          "metadata": {
            "tags": []
          },
          "execution_count": 56
        }
      ]
    },
    {
      "cell_type": "markdown",
      "metadata": {
        "id": "TrzD56eoqfQm",
        "colab_type": "text"
      },
      "source": [
        "###Observations\n",
        "\n",
        "We will preprocess the text by performing following steps\n",
        "\n",
        "1)Remove punctuation\n",
        "\n",
        "2)Remove digits\n",
        "\n",
        "3)Normalize the data\n",
        "\n",
        "4)Remove words Alberta and County\n",
        "\n",
        "5)Extract first two words"
      ]
    },
    {
      "cell_type": "code",
      "metadata": {
        "id": "DtompkAmimVk",
        "colab_type": "code",
        "colab": {}
      },
      "source": [
        "##Function to extract first two words\n",
        "def extract_words(x):\n",
        "  x=x.replace(',','')\n",
        "  x=x.replace('Alberta','')\n",
        "  x=x.replace('County','')\n",
        "  x=x.strip()\n",
        "  count=x.count(' ')\n",
        "  if count >=1.0:\n",
        "    y=x.split()[0]\n",
        "    z=x.split()[1]\n",
        "    return y +\" \"+ z\n",
        "  else:\n",
        "    return x\n",
        "  \n",
        " \n"
      ],
      "execution_count": 0,
      "outputs": []
    },
    {
      "cell_type": "code",
      "metadata": {
        "id": "BXoskakPkENl",
        "colab_type": "code",
        "colab": {}
      },
      "source": [
        "#Function to preprocess data\n",
        "def preprocess_city(x):\n",
        "  x=x.apply(remove_punctuation)\n",
        "  x=x.apply(remove_digits)\n",
        "  x=x.str.title()\n",
        "  x=x.apply(extract_words)\n",
        "  return x"
      ],
      "execution_count": 0,
      "outputs": []
    },
    {
      "cell_type": "markdown",
      "metadata": {
        "id": "6tsSnUn2xsNd",
        "colab_type": "text"
      },
      "source": [
        "##Observations\n",
        "\n",
        "There still seems to be a lot of typo or errors in the city\n",
        "We will perform the below steps to perform a spell check\n",
        "\n",
        "1)Extract the towns and cities in alberta using google search and beautiful soup and put into a series\n",
        "\n",
        "2)Perform a spell check by comparing with the city values in the data frame and the extracted values(--Still in progresss--)"
      ]
    },
    {
      "cell_type": "code",
      "metadata": {
        "id": "VeQJffgcnqcL",
        "colab_type": "code",
        "colab": {}
      },
      "source": [
        "#Apply to dataframe\n",
        "train_data_cleaned['City1']=preprocess_city(train_data_cleaned['City'].astype(str))"
      ],
      "execution_count": 0,
      "outputs": []
    },
    {
      "cell_type": "code",
      "metadata": {
        "id": "qhzaZpcKP8Mp",
        "colab_type": "code",
        "colab": {}
      },
      "source": [
        "\n",
        "\n",
        "def extract_albertacity(x):\n",
        "  for query in search(x, tld=\"co.in\", num=1, stop=1, pause=2):\n",
        "    url=query\n",
        "    title_list=find_city(url) \n",
        "    final_city=title_list.astype(str).apply(extract_city)\n",
        "    final_city=preprocess_town(final_city)\n",
        "    return final_city"
      ],
      "execution_count": 0,
      "outputs": []
    },
    {
      "cell_type": "code",
      "metadata": {
        "id": "GGb6kPi-uAHw",
        "colab_type": "code",
        "colab": {}
      },
      "source": [
        "##Function to find city and town\n",
        "\n",
        "def find_city(url):\n",
        "  title_list=[]\n",
        "  response = requests.get(url)\n",
        "  soup = bs4.BeautifulSoup(response.text, \"html.parser\")\n",
        "  my_table = soup.find('table',{'class':'wikitable sortable'})\n",
        "  for tr in my_table.findAll('tr'):\n",
        "    for td in tr.findAll('td')[0:1]:\n",
        "      for title in td.findAll('a'):\n",
        "        title_list.append(title)\n",
        "  return pd.Series(title_list)\n",
        "  \n",
        "   "
      ],
      "execution_count": 0,
      "outputs": []
    },
    {
      "cell_type": "code",
      "metadata": {
        "id": "ONaHOnMJDlA8",
        "colab_type": "code",
        "colab": {}
      },
      "source": [
        "#Function to extract just the city or town\n",
        "def extract_city(x):\n",
        "  if re.search(r'<a href=\"/wiki/',x):\n",
        "    final_city=x.replace('<a href=\"/wiki/',\"\")\n",
        "    for words in nltk.word_tokenize(final_city):\n",
        "      return words\n",
        "  else:\n",
        "    return \"None\""
      ],
      "execution_count": 0,
      "outputs": []
    },
    {
      "cell_type": "code",
      "metadata": {
        "id": "9flwtipfTDhd",
        "colab_type": "code",
        "colab": {}
      },
      "source": [
        "#Preprocess the town by removing punctuation and underscore\n",
        "def preprocess_town(x):\n",
        "  final_town=x[x!='None']\n",
        "  final_town=final_town.astype(str).apply(remove_punctuation)\n",
        "  final_town=final_town.astype(str).str.replace('_',' ')\n",
        "  return final_town"
      ],
      "execution_count": 0,
      "outputs": []
    },
    {
      "cell_type": "code",
      "metadata": {
        "id": "DdGBx5krT1ry",
        "colab_type": "code",
        "colab": {}
      },
      "source": [
        "final_town=extract_albertacity(\"List of towns in Alberta\")\n",
        "final_city=extract_albertacity(\"List of cities in Alberta\")\n",
        "final_towncity=final_city.append(final_town)"
      ],
      "execution_count": 0,
      "outputs": []
    },
    {
      "cell_type": "code",
      "metadata": {
        "id": "hjy9nBOFHK0U",
        "colab_type": "code",
        "outputId": "01698bf4-0d13-4d18-a51b-9c0a0d24afef",
        "colab": {
          "base_uri": "https://localhost:8080/",
          "height": 1122
        }
      },
      "source": [
        "print(\"List of Town\\City in Alberta\\n\\n\")\n",
        "print(final_towncity)"
      ],
      "execution_count": 0,
      "outputs": [
        {
          "output_type": "stream",
          "text": [
            "List of Town\\City in Alberta\n",
            "\n",
            "\n",
            "0                Airdrie\n",
            "1               Beaumont\n",
            "3                 Brooks\n",
            "4                Calgary\n",
            "6                Camrose\n",
            "7            Chestermere\n",
            "9              Cold Lake\n",
            "10              Edmonton\n",
            "12     Fort Saskatchewan\n",
            "13        Grande Prairie\n",
            "14               Lacombe\n",
            "15                 Leduc\n",
            "16            Lethbridge\n",
            "17          Lloydminster\n",
            "19          Medicine Hat\n",
            "20              Red Deer\n",
            "21          Spruce Grove\n",
            "22            St  Albert\n",
            "23            Wetaskiwin\n",
            "0              Athabasca\n",
            "2                  Banff\n",
            "3               Barrhead\n",
            "4                 Bashaw\n",
            "5                Bassano\n",
            "6            Beaverlodge\n",
            "7                Bentley\n",
            "8          Black Diamond\n",
            "9             Blackfalds\n",
            "10            Bon Accord\n",
            "11            Bonnyville\n",
            "             ...        \n",
            "82             Sedgewick\n",
            "83              Sexsmith\n",
            "84            Slave Lake\n",
            "85            Smoky Lake\n",
            "86          Spirit River\n",
            "87              St  Paul\n",
            "89               Stavely\n",
            "90              Stettler\n",
            "91           Stony Plain\n",
            "92            Strathmore\n",
            "93                Sundre\n",
            "94            Swan Hills\n",
            "95           Sylvan Lake\n",
            "96                 Taber\n",
            "97               Thorsby\n",
            "98           Three Hills\n",
            "99               Tofield\n",
            "100               Trochu\n",
            "101        Turner Valley\n",
            "102            Two Hills\n",
            "103           Valleyview\n",
            "104             Vauxhall\n",
            "105           Vegreville\n",
            "106            Vermilion\n",
            "107               Viking\n",
            "108               Vulcan\n",
            "109           Wainwright\n",
            "110              Wembley\n",
            "111             Westlock\n",
            "112           Whitecourt\n",
            "Length: 126, dtype: object\n"
          ],
          "name": "stdout"
        }
      ]
    },
    {
      "cell_type": "markdown",
      "metadata": {
        "id": "ftWJaIfBxMQs",
        "colab_type": "text"
      },
      "source": [
        "Observationa\n",
        "\n",
        "There are still a lot of typo's\n",
        "\n",
        "Spell check won't work here\n",
        "\n",
        "Let's try and find the misspelled words (Words which are not cities or towns according to wikipedia page of Alberta)\n",
        "\n",
        "For these misspelled words,let's find the closest match by comparing it with the town and city list"
      ]
    },
    {
      "cell_type": "code",
      "metadata": {
        "id": "DksB-VvgJY7V",
        "colab_type": "code",
        "colab": {}
      },
      "source": [
        "#Find the misspelled words by comparing it with the full town city of Alberta\n",
        "full_citytown=train_data_cleaned['City1'].value_counts().index.to_list()\n",
        "misspelled_words=[]\n",
        "for word in full_citytown:\n",
        "  if word not in final_towncity.to_list():\n",
        "    misspelled_words.append(word)"
      ],
      "execution_count": 0,
      "outputs": []
    },
    {
      "cell_type": "code",
      "metadata": {
        "id": "3QFMguiXN67h",
        "colab_type": "code",
        "colab": {}
      },
      "source": [
        "#For these misspelled words let's find the closest match\n",
        "from difflib import get_close_matches\n",
        "\n",
        "def fix_typoerror(x):\n",
        "  correct_word=get_close_matches(x,final_towncity,n=3,cutoff=0.7)\n",
        "  if len(correct_word)!=0:\n",
        "    return correct_word[0]\n",
        "  else:\n",
        "      return word"
      ],
      "execution_count": 0,
      "outputs": []
    },
    {
      "cell_type": "code",
      "metadata": {
        "id": "OB-p5zu8Q5Fm",
        "colab_type": "code",
        "colab": {}
      },
      "source": [
        "#Applying the function only to the misspelled words instead of the whole city\n",
        "for word in misspelled_words:\n",
        "  mask=train_data_cleaned['City1']==word\n",
        "  train_data_cleaned.loc[mask,'City1']=train_data_cleaned.loc[mask,'City1'].astype(str).apply(fix_typoerror)"
      ],
      "execution_count": 0,
      "outputs": []
    },
    {
      "cell_type": "code",
      "metadata": {
        "id": "WFwhB06KxNLf",
        "colab_type": "code",
        "outputId": "35aa9389-106c-4374-e505-400198416ae2",
        "colab": {
          "base_uri": "https://localhost:8080/",
          "height": 547
        }
      },
      "source": [
        "train_data_cleaned.head()"
      ],
      "execution_count": 0,
      "outputs": [
        {
          "output_type": "execute_result",
          "data": {
            "text/html": [
              "<div>\n",
              "<style scoped>\n",
              "    .dataframe tbody tr th:only-of-type {\n",
              "        vertical-align: middle;\n",
              "    }\n",
              "\n",
              "    .dataframe tbody tr th {\n",
              "        vertical-align: top;\n",
              "    }\n",
              "\n",
              "    .dataframe thead th {\n",
              "        text-align: right;\n",
              "    }\n",
              "</style>\n",
              "<table border=\"1\" class=\"dataframe\">\n",
              "  <thead>\n",
              "    <tr style=\"text-align: right;\">\n",
              "      <th></th>\n",
              "      <th>Client</th>\n",
              "      <th>Date</th>\n",
              "      <th>Invoice</th>\n",
              "      <th>Pick up</th>\n",
              "      <th>Window_Start</th>\n",
              "      <th>Window_End</th>\n",
              "      <th>Pick Up Location</th>\n",
              "      <th>City</th>\n",
              "      <th>Customer Name</th>\n",
              "      <th>Delivery Team</th>\n",
              "      <th>Product Information</th>\n",
              "      <th>Comments</th>\n",
              "      <th>Client1</th>\n",
              "      <th>Product Information1</th>\n",
              "      <th>Product Information2</th>\n",
              "      <th>City1</th>\n",
              "    </tr>\n",
              "  </thead>\n",
              "  <tbody>\n",
              "    <tr>\n",
              "      <th>0</th>\n",
              "      <td>NaN</td>\n",
              "      <td>2001-Aug.-18</td>\n",
              "      <td>900-907325 VIP LE</td>\n",
              "      <td>Bestbuy</td>\n",
              "      <td>11:00</td>\n",
              "      <td>14:00</td>\n",
              "      <td>CDS Warehouse 5811 46 Street SE</td>\n",
              "      <td>Calgary</td>\n",
              "      <td>James Attwood</td>\n",
              "      <td>Adam / Musa</td>\n",
              "      <td>GE 5.3CF TOP LD WSHR WH, GE 7.4 CF DRYER</td>\n",
              "      <td>NaN</td>\n",
              "      <td>nan</td>\n",
              "      <td>GE CF TOP LD WSHR WH,GE CF DRYER</td>\n",
              "      <td>GE TOP WSHR GE DRYER</td>\n",
              "      <td>Calgary</td>\n",
              "    </tr>\n",
              "    <tr>\n",
              "      <th>1</th>\n",
              "      <td>NaN</td>\n",
              "      <td>2001-Aug.-18</td>\n",
              "      <td>976-416905</td>\n",
              "      <td>Bestbuy</td>\n",
              "      <td>11:30</td>\n",
              "      <td>14:30</td>\n",
              "      <td>CDS Warehouse 5811 46 Street SE</td>\n",
              "      <td>CALGARY</td>\n",
              "      <td>lynch marilyn</td>\n",
              "      <td>Adam / Musa</td>\n",
              "      <td>BOSCH 24\" 300S BAR DISHWSH</td>\n",
              "      <td>1 X REMOVAL</td>\n",
              "      <td>nan</td>\n",
              "      <td>BOSCH S BAR DISHWSH</td>\n",
              "      <td>BOSCH BAR DISHWSH</td>\n",
              "      <td>Calgary</td>\n",
              "    </tr>\n",
              "    <tr>\n",
              "      <th>2</th>\n",
              "      <td>NaN</td>\n",
              "      <td>2001-Aug.-18</td>\n",
              "      <td>947-417497 PICK UP / RETURN</td>\n",
              "      <td>Bestbuy</td>\n",
              "      <td>12:00</td>\n",
              "      <td>15:00</td>\n",
              "      <td>127 CANTRELL PL SW *Call Cx 30 minutes before ...</td>\n",
              "      <td>CALGARY</td>\n",
              "      <td>Gevin Bebault</td>\n",
              "      <td>Adam / Musa</td>\n",
              "      <td>FRIGIDAIRE 24\" DISHWASHER</td>\n",
              "      <td>DAMAGE Was dropped (damaged). Exchanging for a...</td>\n",
              "      <td>nan</td>\n",
              "      <td>FRIGIDAIRE DISHWASHER</td>\n",
              "      <td>FRIGIDAIRE DISHWASHER</td>\n",
              "      <td>Calgary</td>\n",
              "    </tr>\n",
              "    <tr>\n",
              "      <th>3</th>\n",
              "      <td>NaN</td>\n",
              "      <td>2001-Aug.-18</td>\n",
              "      <td>947-417497 DELIVER</td>\n",
              "      <td>Bestbuy</td>\n",
              "      <td>12:00</td>\n",
              "      <td>15:00</td>\n",
              "      <td>CDS Warehouse 5811 46 Street SE</td>\n",
              "      <td>CALGARY</td>\n",
              "      <td>Gevin Bebault</td>\n",
              "      <td>Adam / Musa</td>\n",
              "      <td>FRIGIDAIRE 24\" DSHWSHR SS</td>\n",
              "      <td>NaN</td>\n",
              "      <td>nan</td>\n",
              "      <td>FRIGIDAIRE DSHWSHR SS</td>\n",
              "      <td>FRIGIDAIRE DSHWSHR</td>\n",
              "      <td>Calgary</td>\n",
              "    </tr>\n",
              "    <tr>\n",
              "      <th>4</th>\n",
              "      <td>NaN</td>\n",
              "      <td>2001-Aug.-18</td>\n",
              "      <td>900-905868</td>\n",
              "      <td>Bestbuy</td>\n",
              "      <td>13:00</td>\n",
              "      <td>16:00</td>\n",
              "      <td>CDS Warehouse 5811 46 Street SE</td>\n",
              "      <td>Calgary</td>\n",
              "      <td>George Popovic</td>\n",
              "      <td>Adam / Musa</td>\n",
              "      <td>INSIGNIA 18 TOP MOUNT FRIDGE</td>\n",
              "      <td>NO UNIT #?? and could not get intouch with cus...</td>\n",
              "      <td>nan</td>\n",
              "      <td>INSIGNIA TOP MOUNT FRIDGE</td>\n",
              "      <td>INSIGNIA TOP MOUNT FRIDGE</td>\n",
              "      <td>Calgary</td>\n",
              "    </tr>\n",
              "  </tbody>\n",
              "</table>\n",
              "</div>"
            ],
            "text/plain": [
              "  Client          Date  ...       Product Information2    City1\n",
              "0    NaN  2001-Aug.-18  ...       GE TOP WSHR GE DRYER  Calgary\n",
              "1    NaN  2001-Aug.-18  ...          BOSCH BAR DISHWSH  Calgary\n",
              "2    NaN  2001-Aug.-18  ...      FRIGIDAIRE DISHWASHER  Calgary\n",
              "3    NaN  2001-Aug.-18  ...         FRIGIDAIRE DSHWSHR  Calgary\n",
              "4    NaN  2001-Aug.-18  ...  INSIGNIA TOP MOUNT FRIDGE  Calgary\n",
              "\n",
              "[5 rows x 16 columns]"
            ]
          },
          "metadata": {
            "tags": []
          },
          "execution_count": 246
        }
      ]
    },
    {
      "cell_type": "markdown",
      "metadata": {
        "id": "bQNBU1AZxxht",
        "colab_type": "text"
      },
      "source": [
        "Observations\n",
        "\n",
        "Still a lot of misspelled words.\n",
        "Let's manually fix them"
      ]
    },
    {
      "cell_type": "code",
      "metadata": {
        "id": "1T0E6xSEtsik",
        "colab_type": "code",
        "colab": {}
      },
      "source": [
        "train_data_cleaned.loc[train_data_cleaned['City1']=='Calgary Called','City1']='Calgary'\n",
        "train_data_cleaned.loc[train_data_cleaned['City1']=='Calgary Cochrane','City1']='Cochrane'\n",
        "train_data_cleaned.loc[train_data_cleaned['City1']=='Calgary Priddis','City1']='Priddis'\n",
        "train_data_cleaned.loc[train_data_cleaned['City1']=='Foothills De','City1']='Foothills'\n",
        "train_data_cleaned.loc[train_data_cleaned['City1']=='Priddis Greens','City1']='Priddis'\n",
        "train_data_cleaned.loc[train_data_cleaned['City1']=='Rocky Mnt','City1']='Rocky Mountain House'\n",
        "train_data_cleaned.loc[train_data_cleaned['City1']=='Rocky View','City1']='Rocky Mountain House'\n",
        "train_data_cleaned.loc[train_data_cleaned['City1']=='Rockyview','City1']='Rocky Mountain House'\n",
        "train_data_cleaned.loc[train_data_cleaned['City1']=='Heritage Piont','City1']='Heritage Pointe'\n",
        "\n",
        "\n",
        "\n"
      ],
      "execution_count": 0,
      "outputs": []
    },
    {
      "cell_type": "code",
      "metadata": {
        "id": "Q-MmEEu3qEcs",
        "colab_type": "code",
        "outputId": "75a03e55-fdc4-40b2-9c89-517bec52c2b2",
        "colab": {
          "base_uri": "https://localhost:8080/",
          "height": 204
        }
      },
      "source": [
        "train_data_cleaned['City1'].value_counts().index.sort_values()"
      ],
      "execution_count": 0,
      "outputs": [
        {
          "output_type": "execute_result",
          "data": {
            "text/plain": [
              "Index(['', 'A', 'Acme', 'Airdrie', 'Alhambra', 'Banff', 'Bashaw',\n",
              "       'Bearspaw Area', 'Benalto', 'Bentley', 'Black Diamond', 'Blackfalds',\n",
              "       'Bragg Creek', 'Calgary', 'Canmore', 'Castor', 'Chestermere',\n",
              "       'Clear Water', 'Clive', 'Cochrane', 'Conrich', 'Crossfield', 'Dalmead',\n",
              "       'Dalroy', 'De Winton', 'Delburne', 'Edmonton', 'Foothills',\n",
              "       'Ghost Lake', 'Gull Lake', 'Heritage Pointe', 'High River', 'Hinton',\n",
              "       'Innisfail', 'Lacombe', 'Langdon', 'Langley', 'Lyalta', 'Millarville',\n",
              "       'Nan', 'Okotoks', 'Olds', 'Penhold', 'Ponoka', 'Priddis', 'Red Deer',\n",
              "       'Rimbey', 'Rocky Mountain House', 'Spruce View', 'Stettler',\n",
              "       'Strathmore', 'Sundre', 'Sylvan Lake', 'Turner Valley', 'Wheatland'],\n",
              "      dtype='object')"
            ]
          },
          "metadata": {
            "tags": []
          },
          "execution_count": 71
        }
      ]
    },
    {
      "cell_type": "markdown",
      "metadata": {
        "id": "ojiLoWH4faSf",
        "colab_type": "text"
      },
      "source": [
        "###3.4 WINDOW START"
      ]
    },
    {
      "cell_type": "code",
      "metadata": {
        "id": "Nza242Hcfeal",
        "colab_type": "code",
        "outputId": "0e066d95-fd76-4c5c-ead1-d51e84a4c622",
        "colab": {
          "base_uri": "https://localhost:8080/",
          "height": 1071
        }
      },
      "source": [
        "#Check different types of data\n",
        "\n",
        "train_data_cleaned['Window_Start'].value_counts()"
      ],
      "execution_count": 0,
      "outputs": [
        {
          "output_type": "execute_result",
          "data": {
            "text/plain": [
              "1:30 p.m.     312\n",
              "2:30 p.m.     294\n",
              "2:00 p.m.     287\n",
              "1:00 p.m.     284\n",
              "12:00 p.m.    283\n",
              "3:30 p.m.     282\n",
              "3:00 p.m.     280\n",
              "11:30 a.m.    278\n",
              "12:30 p.m.    277\n",
              "4:00 p.m.     252\n",
              "11:00 a.m.    248\n",
              "10:30 a.m.    224\n",
              "10:00 a.m.    211\n",
              "4:30 p.m.     210\n",
              "9:30 a.m.     157\n",
              "8:00 a.m.     155\n",
              "5:00 p.m.     153\n",
              "9:00 a.m.     150\n",
              "8:30 a.m.     121\n",
              "14:00         119\n",
              "11:30         116\n",
              "11:00         113\n",
              "13:00         112\n",
              "12:00         107\n",
              "15:00         105\n",
              "5:30 p.m.     102\n",
              "10:30         102\n",
              "15:30          94\n",
              "14:30          93\n",
              "13:30          92\n",
              "             ... \n",
              "11:05 a.m.      1\n",
              "13:54 PM        1\n",
              "9:18 a.m.       1\n",
              "5:57 p.m.       1\n",
              "12:30pmm        1\n",
              "7:00 p.m.       1\n",
              "3:59 p.m.       1\n",
              "12:22 a.m.      1\n",
              "5:06 p.m.       1\n",
              "10:35 a.m.      1\n",
              "3:06 p.m.       1\n",
              "11:02 a.m.      1\n",
              "3:33 p.m.       1\n",
              "07:30:00        1\n",
              "4:34 p.m.       1\n",
              "6:16 p.m.       1\n",
              "2:25 p.m.       1\n",
              "11:10 a.m.      1\n",
              "10:38 a.m.      1\n",
              "4:14 p.m.       1\n",
              "2:53 p.m.       1\n",
              "1:55 p.m.       1\n",
              "2:03 p.m.       1\n",
              "12:34 p.m.      1\n",
              "13:30 PM        1\n",
              "15:15           1\n",
              "13:00 PM        1\n",
              "9:35 a.m.       1\n",
              "10:29 a.m.      1\n",
              "3:23 p.m.       1\n",
              "Name: Window_Start, Length: 558, dtype: int64"
            ]
          },
          "metadata": {
            "tags": []
          },
          "execution_count": 72
        }
      ]
    },
    {
      "cell_type": "code",
      "metadata": {
        "id": "VSrrX_ddwYCm",
        "colab_type": "code",
        "colab": {}
      },
      "source": [
        "#Time cleaning\n",
        "def time_cleaning(x):\n",
        "#Convert everything to lowercase to standardize data\n",
        "  x=x.lower()\n",
        "  x=x.replace('.','')\n",
        "  pm=re.search(r'pm',x)\n",
        "  am=re.search(r'am',x)\n",
        "#Check if the data contains :,this allows us to split the time and take only the first character\n",
        "  if re.search(':',x):\n",
        "    x=x.split(':')\n",
        "    x=x[0]\n",
        "#Every time other than 12 pm is converted to 24 hour format\n",
        "    if pm and x<'12':\n",
        "      x=int(x)+12\n",
        "      return x\n",
        "#AM Times are retained as it is except for 12 am\n",
        "    elif am and x=='12':\n",
        "      return 0\n",
        "    else:\n",
        "      return x\n",
        "#For data that cannot be split,we remove the punctuation\n",
        "  else:\n",
        "    x=remove_punctuation(x)\n",
        "#Extract only the digit\n",
        "    try:\n",
        "      digit=re.findall('\\d+',x)\n",
        "#Findall returns a list, so we convert it into a string by extracting the first element\n",
        "      digit=digit[0]\n",
        "#If length of the string is 3,for example 143 PM,we extract only first character and add 12 to it\n",
        "      if len(digit)==3 and pm:\n",
        "        return int(digit[0][0])+12\n",
        "#if length of the string is 4,for example 1243PM,we extract first two digits\n",
        "      elif len(digit)==4 and pm:\n",
        "        return int(digit[0:2])\n",
        "#if it is am,we retain only the first digit\n",
        "      elif len(digit)==3 and am:\n",
        "        return int(digit[0][0])\n",
        "#For 10am and 11 am, we retain the first two digit\n",
        "      elif len(digit)==4 and am and digit[0:2]=='11' or digit[0:2]=='10':\n",
        "        return digit[0:2]\n",
        "#For 12 am, we reset it to zero\n",
        "      elif len(digit)==4 and am and digit[0:2]=='12':\n",
        "        return 0\n",
        "      else:\n",
        "        return digit[0][0]\n",
        "    except IndexError:\n",
        "      return x\n",
        "  "
      ],
      "execution_count": 0,
      "outputs": []
    },
    {
      "cell_type": "code",
      "metadata": {
        "id": "ufBAwBynPrio",
        "colab_type": "code",
        "colab": {}
      },
      "source": [
        "train_data_cleaned['Window_Start1']=train_data_cleaned['Window_Start'].astype('str').apply(time_cleaning)"
      ],
      "execution_count": 0,
      "outputs": []
    },
    {
      "cell_type": "code",
      "metadata": {
        "id": "pB98KvjhYDKl",
        "colab_type": "code",
        "outputId": "b78e6daf-81fb-453e-cab4-c70b57326691",
        "colab": {
          "base_uri": "https://localhost:8080/",
          "height": 34
        }
      },
      "source": [
        "train_data_cleaned['Window_Start'].loc[train_data_cleaned['Window_Start1']==7]"
      ],
      "execution_count": 0,
      "outputs": [
        {
          "output_type": "execute_result",
          "data": {
            "text/plain": [
              "Series([], Name: Window_Start, dtype: object)"
            ]
          },
          "metadata": {
            "tags": []
          },
          "execution_count": 89
        }
      ]
    },
    {
      "cell_type": "markdown",
      "metadata": {
        "id": "QMo5nPcT7iF-",
        "colab_type": "text"
      },
      "source": [
        "Splitting time allows us to standardize the data.\n",
        "We will group them into different timings such as morning,evening and afternoon."
      ]
    },
    {
      "cell_type": "markdown",
      "metadata": {
        "id": "s_H0KxQ1mHQS",
        "colab_type": "text"
      },
      "source": [
        "###4.5 WINDOW END"
      ]
    },
    {
      "cell_type": "code",
      "metadata": {
        "id": "2w-SvzW_mSPM",
        "colab_type": "code",
        "outputId": "c819bd00-01e9-431c-9dcd-bf55e81855f6",
        "colab": {
          "base_uri": "https://localhost:8080/",
          "height": 1071
        }
      },
      "source": [
        "#Checking the variations in data\n",
        "train_data_cleaned['Window_End'].value_counts()"
      ],
      "execution_count": 0,
      "outputs": [
        {
          "output_type": "execute_result",
          "data": {
            "text/plain": [
              "4:30 p.m.                          285\n",
              "5:00 p.m.                          274\n",
              "4:00 p.m.                          272\n",
              "3:00 p.m.                          272\n",
              "5:30 p.m.                          263\n",
              "2:30 p.m.                          262\n",
              "3:30 p.m.                          262\n",
              "6:00 p.m.                          256\n",
              "6:30 p.m.                          251\n",
              "2:00 p.m.                          229\n",
              "7:00 p.m.                          227\n",
              "7:30 p.m.                          198\n",
              "1:30 p.m.                          196\n",
              "1:00 p.m.                          184\n",
              "8:00 p.m.                          140\n",
              "12:30 p.m.                         137\n",
              "11:00 a.m.                         133\n",
              "12:00 p.m.                         124\n",
              "17:00                              115\n",
              "14:30                              112\n",
              "15:00                              111\n",
              "16:00                              108\n",
              "11:30 a.m.                         108\n",
              "18:00                              105\n",
              "14:00                              105\n",
              "13:30                              100\n",
              "17:30                               95\n",
              "16:30                               91\n",
              "18:30                               90\n",
              "8:30 p.m.                           89\n",
              "                                  ... \n",
              "6:58 p.m.                            1\n",
              "3pm\\                                 1\n",
              "02:15                                1\n",
              "4:04 P M                             1\n",
              "11:55 a.m.                           1\n",
              "12:26 p.m.                           1\n",
              "8:45 p.m.                            1\n",
              "2:53 p.m.                            1\n",
              "6:02 p.m.                            1\n",
              "20:00:00                             1\n",
              "4:22 p.m.                            1\n",
              "1:32 p.m.                            1\n",
              "11:49 a.m.                           1\n",
              "9:30 p.m.                            1\n",
              "6:22 p.m.                            1\n",
              "13:00:00                             1\n",
              "CDS Warehouse 5811 46 Street SE      1\n",
              "11:52 a.m.                           1\n",
              "7:30 a.m.                            1\n",
              "4:57 p.m.                            1\n",
              "4:43 p.m.                            1\n",
              "8:57 p.m.                            1\n",
              "3:33 p.m.                            1\n",
              "12:44 p.m.                           1\n",
              "4:56 p.m.                            1\n",
              "5:58 p.m.                            1\n",
              "13:41 PM                             1\n",
              "9:06 p.m.                            1\n",
              "3:43 p.m.                            1\n",
              "11:26 a.m.                           1\n",
              "Name: Window_End, Length: 484, dtype: int64"
            ]
          },
          "metadata": {
            "tags": []
          },
          "execution_count": 75
        }
      ]
    },
    {
      "cell_type": "code",
      "metadata": {
        "id": "3GV8bob6sm69",
        "colab_type": "code",
        "colab": {}
      },
      "source": [
        "#Clean the data similar way as Window Start\n",
        "train_data_cleaned['Window_End1']=train_data_cleaned['Window_End'].astype('str').apply(time_cleaning)"
      ],
      "execution_count": 0,
      "outputs": []
    },
    {
      "cell_type": "code",
      "metadata": {
        "id": "PFAWebM_mRFg",
        "colab_type": "code",
        "outputId": "13f9c744-cf18-459c-e443-e89ef6bf41fd",
        "colab": {
          "base_uri": "https://localhost:8080/",
          "height": 561
        }
      },
      "source": [
        "train_data_cleaned['Window_End1'].value_counts()"
      ],
      "execution_count": 0,
      "outputs": [
        {
          "output_type": "execute_result",
          "data": {
            "text/plain": [
              "nan         811\n",
              "4           654\n",
              "5           622\n",
              "3           611\n",
              "6           581\n",
              "2           571\n",
              "7           466\n",
              "13          465\n",
              "12          463\n",
              "11          392\n",
              "8           248\n",
              "14          226\n",
              "17          210\n",
              "16          203\n",
              "15          201\n",
              "18          197\n",
              "13          190\n",
              "19          169\n",
              "20          121\n",
              "9            53\n",
              "21           37\n",
              "23            4\n",
              "10            4\n",
              "2             3\n",
              "08            2\n",
              "              2\n",
              "04            1\n",
              "01            1\n",
              "02            1\n",
              "06            1\n",
              "0             1\n",
              "Name: Window_End1, dtype: int64"
            ]
          },
          "metadata": {
            "tags": []
          },
          "execution_count": 93
        }
      ]
    },
    {
      "cell_type": "markdown",
      "metadata": {
        "id": "sTPfF6Ti73jX",
        "colab_type": "text"
      },
      "source": [
        "###4.6) DELIVERY TEAM"
      ]
    },
    {
      "cell_type": "code",
      "metadata": {
        "id": "SRBidGTfEz-_",
        "colab_type": "code",
        "colab": {}
      },
      "source": [
        "#Check variation in data\n",
        "train_data_cleaned['Delivery Team'].value_counts()\n",
        "#Remove punctuations\n",
        "train_data_cleaned['Delivery Team']=train_data_cleaned['Delivery Team'].astype(str).apply(remove_punctuation)\n",
        "#Remove extra space\n",
        "train_data_cleaned['Delivery Team']=train_data_cleaned['Delivery Team'].astype(str).apply(remove_duplicatespaces)"
      ],
      "execution_count": 0,
      "outputs": []
    },
    {
      "cell_type": "code",
      "metadata": {
        "id": "QUivvSFQLu6K",
        "colab_type": "code",
        "outputId": "6581ffa9-d455-4b15-af01-838edc2d5785",
        "colab": {
          "base_uri": "https://localhost:8080/",
          "height": 1071
        }
      },
      "source": [
        "train_data_cleaned['Delivery Team'].value_counts()"
      ],
      "execution_count": 0,
      "outputs": [
        {
          "output_type": "execute_result",
          "data": {
            "text/plain": [
              "YYC8                                                                 1325\n",
              "YYC7                                                                  918\n",
              "YYC6                                                                  737\n",
              "Mombo                                                                 718\n",
              "nan                                                                   239\n",
              "Shyam Tr                                                              231\n",
              "Talon Sylvain                                                         140\n",
              "Adam Sylvain                                                          137\n",
              "Adam Musa                                                             128\n",
              "Talon Salam                                                           123\n",
              "Adam Shayne                                                           123\n",
              "Jordan Anthony                                                        115\n",
              "Alusie Demetrice                                                      112\n",
              "Alusie Anthony                                                        110\n",
              "Adam Tony K                                                            93\n",
              "Adam Shawn                                                             93\n",
              "Talon Cameron                                                          82\n",
              "Robin Shayne                                                           74\n",
              "Shyam TR                                                               73\n",
              "Alusie Shayne                                                          71\n",
              "Taravita                                                               62\n",
              "Alusie Sylvain                                                         55\n",
              "Kai                                                                    53\n",
              "Talon Demetrice                                                        52\n",
              "Alusie Shawn                                                           45\n",
              "Alusie Musa                                                            44\n",
              "Adam Demetrice                                                         37\n",
              "Alusie Cameron                                                         35\n",
              "Ben Adam                                                               35\n",
              "Ben Sylvain                                                            35\n",
              "                                                                     ... \n",
              "YYC 8                                                                   1\n",
              "0                                                                       1\n",
              "1030130 Update times then put notes in clear d                          1\n",
              "marshall                                                                1\n",
              "Alusie Sylvane                                                          1\n",
              "Robin Victor                                                            1\n",
              "Andrew Norman                                                           1\n",
              "January 25th                                                            1\n",
              "Marshal                                                                 1\n",
              "1130 230 Update times then put notes in clear d                         1\n",
              "L M stating we would be there at the end of there time frame LE         1\n",
              "customer wont bet home until closer to 5 15pm for delivery today        1\n",
              "                                                                        1\n",
              "4 30 7 30                                                               1\n",
              "Marshall Dan                                                            1\n",
              "Jordan Tony k lm                                                        1\n",
              "LM with time frame 12 30 18 KM                                          1\n",
              "12 3Update times then put notes in clear d                              1\n",
              "Entered march 13th waiting for product to arrive lvv                    1\n",
              "Cant be home after 3pm                                                  1\n",
              "Shayne AJ                                                               1\n",
              "called                                                                  1\n",
              "Chasson Anthony                                                         1\n",
              "INSIGNIA WASHER, INSIGNIA DRYER                                         1\n",
              "Victor Anthony                                                          1\n",
              "Warehouse                                                               1\n",
              "2 5 confirmed                                                           1\n",
              "deliver after 6 pm                                                      1\n",
              "10                                                                      1\n",
              "Might be moved to Friday                                                1\n",
              "Name: Delivery Team, Length: 182, dtype: int64"
            ]
          },
          "metadata": {
            "tags": []
          },
          "execution_count": 118
        }
      ]
    },
    {
      "cell_type": "markdown",
      "metadata": {
        "id": "wAmb5uBG8Ze4",
        "colab_type": "text"
      },
      "source": [
        "###Observations\n",
        "\n",
        "It looks like there are lot of text data and numbers\n",
        "\n",
        "Delivery team usually looks to be a combination of 2 names\n",
        "\n",
        "\n",
        "We will remove the rows which has more than two words or only numbers and append it to the comment section for future analysis\n",
        "\n"
      ]
    },
    {
      "cell_type": "code",
      "metadata": {
        "id": "-rPxbOAcZfdm",
        "colab_type": "code",
        "colab": {}
      },
      "source": [
        "def preprocess_deliveryteam(x):\n",
        "  word=x.split(' ')\n",
        "  if len(word) > 2 :\n",
        "    return ' '\n",
        "  else:\n",
        "    return x\n",
        "  "
      ],
      "execution_count": 0,
      "outputs": []
    },
    {
      "cell_type": "code",
      "metadata": {
        "id": "d0cYg-I7a-nH",
        "colab_type": "code",
        "colab": {}
      },
      "source": [
        "train_data_cleaned['Delivery Team1']=train_data_cleaned['Delivery Team'].astype(str).apply(preprocess_deliveryteam)"
      ],
      "execution_count": 0,
      "outputs": []
    },
    {
      "cell_type": "code",
      "metadata": {
        "id": "6UywIWY5bH8-",
        "colab_type": "code",
        "outputId": "65397790-9aec-43b5-b40c-82f9fe37e89c",
        "colab": {
          "base_uri": "https://localhost:8080/",
          "height": 1071
        }
      },
      "source": [
        "train_data_cleaned['Delivery Team1'].value_counts()"
      ],
      "execution_count": 0,
      "outputs": [
        {
          "output_type": "execute_result",
          "data": {
            "text/plain": [
              "YYC8                1325\n",
              "YYC7                 918\n",
              "YYC6                 737\n",
              "Mombo                718\n",
              "                     363\n",
              "nan                  239\n",
              "Shyam Tr             231\n",
              "Talon Sylvain        140\n",
              "Adam Sylvain         137\n",
              "Adam Musa            128\n",
              "Talon Salam          123\n",
              "Adam Shayne          123\n",
              "Jordan Anthony       115\n",
              "Alusie Demetrice     112\n",
              "Alusie Anthony       110\n",
              "Adam Shawn            93\n",
              "Talon Cameron         82\n",
              "Robin Shayne          74\n",
              "Shyam TR              73\n",
              "Alusie Shayne         71\n",
              "Taravita              62\n",
              "Alusie Sylvain        55\n",
              "Kai                   53\n",
              "Talon Demetrice       52\n",
              "Alusie Shawn          45\n",
              "Alusie Musa           44\n",
              "Adam Demetrice        37\n",
              "Ben Adam              35\n",
              "Alusie Cameron        35\n",
              "Ben Sylvain           35\n",
              "                    ... \n",
              "Victor Shayne          3\n",
              "Chasson                3\n",
              "Talon Jordan           3\n",
              "shayam                 2\n",
              "Victor Chasson         2\n",
              "Alusie Talon           2\n",
              "alusie shayne          2\n",
              "confirmed              2\n",
              "Talon Demmetrice       2\n",
              "Shayne Anthony         2\n",
              "Alusie Salam           2\n",
              "Confirmed              2\n",
              "530 830                2\n",
              "MK                     2\n",
              "Talon                  2\n",
              "Shyam Truck            2\n",
              "Marshall Dan           1\n",
              "Robin Victor           1\n",
              "Alusie Sylvane         1\n",
              "marshall               1\n",
              "Shayne AJ              1\n",
              "0                      1\n",
              "called                 1\n",
              "Marshal                1\n",
              "January 25th           1\n",
              "10                     1\n",
              "Chasson Anthony        1\n",
              "Warehouse              1\n",
              "Victor Anthony         1\n",
              "Andrew Norman          1\n",
              "Name: Delivery Team1, Length: 141, dtype: int64"
            ]
          },
          "metadata": {
            "tags": []
          },
          "execution_count": 125
        }
      ]
    },
    {
      "cell_type": "markdown",
      "metadata": {
        "id": "EQ-Hacl_F7fo",
        "colab_type": "text"
      },
      "source": [
        "###4.7 Customer Name"
      ]
    },
    {
      "cell_type": "code",
      "metadata": {
        "id": "7Ju29vBNGBQi",
        "colab_type": "code",
        "colab": {}
      },
      "source": [
        "#Standardize names by keeping first letter capital and rest small\n",
        "train_data_cleaned['Customer Name']=train_data_cleaned['Customer Name'].str.title()\n",
        "train_data_cleaned['Customer Name']=train_data_cleaned['Customer Name'].astype(str).apply(remove_punctuation)"
      ],
      "execution_count": 0,
      "outputs": []
    },
    {
      "cell_type": "code",
      "metadata": {
        "id": "KZpdhcrrJl1C",
        "colab_type": "code",
        "outputId": "4cc7d5da-0d2d-4505-c1ca-4ef3981eee5d",
        "colab": {
          "base_uri": "https://localhost:8080/",
          "height": 1071
        }
      },
      "source": [
        "train_data_cleaned['Customer Name'].value_counts()"
      ],
      "execution_count": 0,
      "outputs": [
        {
          "output_type": "execute_result",
          "data": {
            "text/plain": [
              "Shaheen Kassam          14\n",
              "Nazan Ogut              13\n",
              "Vilma Baria             11\n",
              "Barbara Robson          10\n",
              "Arshpreet Sandhu         9\n",
              "Abdul Rehmani            8\n",
              "Gary Iley                8\n",
              "Jason Clarkson           8\n",
              "Darren Price             7\n",
              "Brenda Gould             7\n",
              "Angelina Almond          7\n",
              "Kyle Logan               7\n",
              "Catherine Chow           7\n",
              "Kelash Kumar             7\n",
              "Ryan Erickson            6\n",
              "Igor Vidakovic           6\n",
              "Preston Orme             6\n",
              "Narayan Goswami          6\n",
              "Gerencher, Anne          6\n",
              "Thomas Sanders           6\n",
              "David Swann              6\n",
              "Craig Baun               6\n",
              "Ivan Magliotti           6\n",
              "Ian Mitchell             6\n",
              "Mark Wang                6\n",
              "Donna   Ernie Weber      6\n",
              "Diane Thorsell           6\n",
              "Simi Aliu                6\n",
              "Imran Khan               6\n",
              "Tanzah Holdings          6\n",
              "                        ..\n",
              "Rod Ruff                 1\n",
              "Andre Souza              1\n",
              "Cheryl David             1\n",
              "Maria Starkgraff         1\n",
              "Greg Jackson             1\n",
              "Brittany Allman          1\n",
              "Himel Razzak             1\n",
              "Sheldon Smith            1\n",
              "Khosla, Rohin            1\n",
              "Ali Syed                 1\n",
              "Paul Nuytten             1\n",
              "Belkacem Houari          1\n",
              "Abdul Majeed             1\n",
              "Jun Hou                  1\n",
              "Cindy Smits              1\n",
              "Rany Auyeung             1\n",
              "Robin Masih              1\n",
              "Allan Cameron            1\n",
              "Daniel Hernandez         1\n",
              "Jordan Wichorek          1\n",
              "Barrie Carpenter         1\n",
              "Dave Stattler            1\n",
              "Tony Yung                1\n",
              "Tomofumi Kamiike         1\n",
              "Anne Thomson             1\n",
              "Anmol Kapoor             1\n",
              "Xiaowen Zhang            1\n",
              "Preeminence Leung        1\n",
              "James Funtanilla         1\n",
              "Jamil Azfal              1\n",
              "Name: Customer Name, Length: 5584, dtype: int64"
            ]
          },
          "metadata": {
            "tags": []
          },
          "execution_count": 127
        }
      ]
    },
    {
      "cell_type": "markdown",
      "metadata": {
        "id": "mwjjPbPY9BrD",
        "colab_type": "text"
      },
      "source": [
        "###Observations\n",
        "\n",
        "It doesn't look like there is much cleaning needed for customer name.\n",
        "\n",
        "We will see later if we can remove or replace the null values"
      ]
    },
    {
      "cell_type": "markdown",
      "metadata": {
        "id": "lZ2NP6RGK3M_",
        "colab_type": "text"
      },
      "source": [
        "###4.8 PICKUP LOCATION"
      ]
    },
    {
      "cell_type": "code",
      "metadata": {
        "id": "qkLu7dIqK7xh",
        "colab_type": "code",
        "outputId": "1f8a539e-490a-426a-edeb-3d42396c6699",
        "colab": {
          "base_uri": "https://localhost:8080/",
          "height": 1071
        }
      },
      "source": [
        "#Checking different type of data\n",
        "train_data_cleaned['Pick Up Location'].value_counts()"
      ],
      "execution_count": 0,
      "outputs": [
        {
          "output_type": "execute_result",
          "data": {
            "text/plain": [
              "CDS Warehouse 5811 46 Street SE                                            5995\n",
              "SERVICE                                                                     146\n",
              "CDS WAREHOUSE                                                               113\n",
              "SERVICE                                                                      85\n",
              "SERVICE ( call manually )                                                    48\n",
              "CDS WAREHOUSE                                                                40\n",
              "CDS Warehouse                                                                28\n",
              "746 Beacon Hill                                                              27\n",
              "947 Deerfoot Meadows                                                         21\n",
              "976 Northlands                                                               19\n",
              "service                                                                      18\n",
              "cds wh                                                                       18\n",
              "960 RED DEER                                                                 17\n",
              "741 Shawnessy                                                                17\n",
              "945 Sunridge                                                                 14\n",
              "cds wh                                                                       14\n",
              "Best Buy Red Deer                                                            12\n",
              "CDS WH                                                                       12\n",
              "ON TRUCK                                                                     11\n",
              "746 Beacon Hill                                                              10\n",
              "CDS Warehouse 5700 44 St SE                                                   9\n",
              "Service                                                                       9\n",
              "service                                                                       8\n",
              "95 ROYAL BIRCH CIR NW                                                         6\n",
              "976 Northlands                                                                6\n",
              "Service                                                                       6\n",
              "741 Shawnessy                                                                 6\n",
              "\\t947 Deerfoot Meadows                                                        5\n",
              "\\t746 Beacon Hill                                                             5\n",
              "998 Calgary                                                                   5\n",
              "                                                                           ... \n",
              "7136 CALIFORNIA BLVD NE                                                       1\n",
              "290 FIRESIDE DR                                                               1\n",
              "2970 OAKMOOR CRES SW                                                          1\n",
              "26 HERITAGE VIEW                                                              1\n",
              "2000 CITADEL MEADOW PT NW, 2315 POINT, NW                                     1\n",
              "236 MIDLAKE BLVD SE                                                           1\n",
              "CDS WH P.U 04.26.19                                                           1\n",
              "CDS WH picked up by talon on  1.17.19                                         1\n",
              "12 ROYAL OAK GDNS NW                                                          1\n",
              "604 WENTWORTH VILLAS SW                                                       1\n",
              "10 ROYAL RIDGE HILL NW                                                        1\n",
              "2519 38 ST NE, SUITE 21\\nCALGARY                                              1\n",
              "CDS warehouse 5811 46 ST SE                                                   1\n",
              "366 Pantego Rd NW - CONFIRM PICK UP ADDRESS Fly by has Tantego Rd NW ??       1\n",
              "CDS WH PU 4.10.19                                                             1\n",
              "service Call manually                                                         1\n",
              "210 15 AVE SE, SUITE 2210                                                     1\n",
              "3307 CAROL DR NW                                                              1\n",
              "\\t998 17 AVE                                                                  1\n",
              "CDS WH picked up 03/08/19                                                     1\n",
              "947 Deerfoot Meadows  best buy                                                1\n",
              "218 SOMERSIDE PK SW                                                           1\n",
              "58 CHAPARRAL CLOSE SE, \\r\\nCALGARY                                            1\n",
              "84 ELBOW RIVER RD                                                             1\n",
              "11240 6 ST SW, SUITE 20\\nCALGARY                                              1\n",
              "cds wh picked up wednesday                                                    1\n",
              "248 SHAWINIGAN DR SW                                                          1\n",
              "CDS Warehouse p.u 02.27.19                                                    1\n",
              "CDS WH P.U  04.04.19                                                          1\n",
              "10201 SOUTHPORT RD SW, BAY SLP2                                               1\n",
              "Name: Pick Up Location, Length: 674, dtype: int64"
            ]
          },
          "metadata": {
            "tags": []
          },
          "execution_count": 128
        }
      ]
    },
    {
      "cell_type": "code",
      "metadata": {
        "id": "Qq_wHU0-Lb2V",
        "colab_type": "code",
        "colab": {}
      },
      "source": [
        "\n",
        "def clean_pickuptime(x):\n",
        "  x=x.lower()\n",
        "  x=x.strip()\n",
        "  find=re.search(r'cds',x)\n",
        "  if find:\n",
        "    return \"CDS Warehouse\"\n",
        "  elif re.search(r'service',x):\n",
        "    return \"Service\"\n",
        "  else:\n",
        "    return x\n",
        "  \n",
        "   "
      ],
      "execution_count": 0,
      "outputs": []
    },
    {
      "cell_type": "code",
      "metadata": {
        "id": "vwEy7ZwbL5R5",
        "colab_type": "code",
        "colab": {}
      },
      "source": [
        "train_data_cleaned['Pick Up Location1']=train_data_cleaned['Pick Up Location'].astype(str).apply(clean_pickuptime)"
      ],
      "execution_count": 0,
      "outputs": []
    },
    {
      "cell_type": "code",
      "metadata": {
        "id": "VwyW6iuqo3Qw",
        "colab_type": "code",
        "colab": {}
      },
      "source": [
        "train_data_cleaned['Pick Up Location1']=train_data_cleaned['Pick Up Location1'].astype(str).apply(remove_digits)\n",
        "train_data_cleaned['Pick Up Location1']=train_data_cleaned['Pick Up Location1'].astype(str).apply(remove_punctuation)\n",
        "train_data_cleaned['Pick Up Location1']=train_data_cleaned['Pick Up Location1'].str.strip()\n",
        "train_data_cleaned['Pick Up Location1']=train_data_cleaned['Pick Up Location1'].str.title()"
      ],
      "execution_count": 0,
      "outputs": []
    },
    {
      "cell_type": "code",
      "metadata": {
        "id": "HLtQ-83RMPG3",
        "colab_type": "code",
        "colab": {}
      },
      "source": [
        "def extract_firsttwowords(x):\n",
        "  word=x.split(' ')\n",
        "  if len(word)>1:\n",
        "    final_word=word[0]+ \" \" + word[1]\n",
        "  else:\n",
        "    final_word=word[0]\n",
        "  return final_word"
      ],
      "execution_count": 0,
      "outputs": []
    },
    {
      "cell_type": "code",
      "metadata": {
        "id": "mDDIWfWEry5d",
        "colab_type": "code",
        "colab": {}
      },
      "source": [
        "train_data_cleaned['Pick Up Location1']=train_data_cleaned['Pick Up Location1'].astype(str).apply(extract_firsttwowords)\n",
        "train_data_cleaned['Pick Up Location1']=train_data_cleaned['Pick Up Location1'].astype(str).apply(lambda x : x.replace(',',''))\n",
        "train_data_cleaned['Pick Up Location1']=train_data_cleaned['Pick Up Location1'].astype(str).apply(remove_duplicatespaces)"
      ],
      "execution_count": 0,
      "outputs": []
    },
    {
      "cell_type": "code",
      "metadata": {
        "id": "lO6I9WQKfIhd",
        "colab_type": "code",
        "outputId": "1fc7a31e-6bb2-4fb0-c480-8f779118234a",
        "colab": {
          "base_uri": "https://localhost:8080/",
          "height": 1071
        }
      },
      "source": [
        "train_data_cleaned['Pick Up Location1'].value_counts()"
      ],
      "execution_count": 0,
      "outputs": [
        {
          "output_type": "execute_result",
          "data": {
            "text/plain": [
              "Cds Warehouse        6337\n",
              "Service               340\n",
              "Beacon Hill            47\n",
              "Deerfoot Meadows       35\n",
              "Northlands             31\n",
              "Shawnessy              29\n",
              "Red Deer               27\n",
              "Sunridge               25\n",
              "Ave Sw                 24\n",
              "Best Buy               21\n",
              "On Truck               18\n",
              "St Nw                  12\n",
              "Ave Nw                 11\n",
              "St Sw                  10\n",
              "Royal Birch             9\n",
              "Ave Se                  7\n",
              "Discovery Ridge         7\n",
              "St Se                   7\n",
              "Coventry Rd             6\n",
              "St Ne                   6\n",
              "Calgary                 5\n",
              "Whitehorn Rd            4\n",
              "Auburn Glen             4\n",
              "Edelweiss Drive         4\n",
              "Custom Delivery         4\n",
              "Preswick Bay            4\n",
              "Westhills               4\n",
              "Sierra Morena           4\n",
              "Legacy Landng           4\n",
              "Ave                     4\n",
              "                     ... \n",
              "Whitlock Close          1\n",
              "Chaparral Ridge         1\n",
              "Skyview Shores          1\n",
              "Saddlecreek Pt          1\n",
              "Wentworth Villas        1\n",
              "Kincora Hts             1\n",
              "Woodfern Rise           1\n",
              "Castleridge Rd          1\n",
              "Schooner Close          1\n",
              "Edenstone Road          1\n",
              "Bby                     1\n",
              "Silverado Range         1\n",
              "Everglade Cir           1\n",
              "Coachwood Cres          1\n",
              "Christie Cairn          1\n",
              "Riverwood Cir           1\n",
              "Copperfield View        1\n",
              "Prestwick Acres         1\n",
              "Varscliff Rd            1\n",
              "Auburn Crest            1\n",
              "Raynard Cres            1\n",
              "Northland Drive         1\n",
              "Maitland Pl             1\n",
              "Legacy Cir              1\n",
              "Mt Mckenzie             1\n",
              "Silver Crest            1\n",
              "Gleneagles Landng       1\n",
              "Lysander Dr             1\n",
              "Arbour Summit           1\n",
              "Woodbrook Crt           1\n",
              "Name: Pick Up Location1, Length: 376, dtype: int64"
            ]
          },
          "metadata": {
            "tags": []
          },
          "execution_count": 153
        }
      ]
    },
    {
      "cell_type": "markdown",
      "metadata": {
        "id": "f-loxMdOvM9C",
        "colab_type": "text"
      },
      "source": [
        "###4.9 PRODUCT INFORMATION"
      ]
    },
    {
      "cell_type": "code",
      "metadata": {
        "id": "UTl4xs4DtBj3",
        "colab_type": "code",
        "outputId": "4b65dec8-2766-44d6-fdc9-908286329407",
        "colab": {
          "base_uri": "https://localhost:8080/",
          "height": 1071
        }
      },
      "source": [
        "train_data_cleaned['Product Information1'].value_counts()"
      ],
      "execution_count": 0,
      "outputs": [
        {
          "output_type": "execute_result",
          "data": {
            "text/plain": [
              "SAMSUNG K HDR LED SMT TV                                                                                                                    308\n",
              "LG K HDR SMT LED TV                                                                                                                         197\n",
              "INSIGNIA TOP MNT FRDG WH                                                                                                                    126\n",
              "X HAULAWAY                                                                                                                                  117\n",
              "SAMSUNG FRIDGE                                                                                                                              114\n",
              "INSIGNIA CF FREEZER WH                                                                                                                       99\n",
              "SHARP K HZ LED SMT                                                                                                                           91\n",
              "SAMSUNG K HDR SMT TV                                                                                                                         88\n",
              "INSIGNIA CU TL WASHER                                                                                                                        75\n",
              "HAULAWAY                                                                                                                                     73\n",
              "INSIGNIA TOP MNT FRIDGE WH                                                                                                                   71\n",
              "HAIER K LED TV                                                                                                                               70\n",
              "INSIGNIA CF CHEST FREEZER                                                                                                                    64\n",
              "SONY K HDR SMT LED TV                                                                                                                        59\n",
              "SONY K HDR SMT HDTV                                                                                                                          57\n",
              "INSIGNIA TOP MOUNT FRIDGE                                                                                                                    49\n",
              "INSIGNIA TOP MOUNT REFR SS                                                                                                                   44\n",
              "INSIGNIA DRYER CF FL WHT                                                                                                                     43\n",
              "INSIGNIA CF CHEST FRZR                                                                                                                       42\n",
              "BOSCH PKT DISHWSHR SS                                                                                                                        38\n",
              "SAMSUNG ELEC RANGE SS                                                                                                                        37\n",
              "INSIGNIA CU TL WASHER,INSIGNIA DRYER CF FL WHT                                                                                               34\n",
              "SAMSUNG K HDR SMART TV                                                                                                                       32\n",
              "BOSCH DISWASHER                                                                                                                              31\n",
              "PROFORM CST TREADMILL EA                                                                                                                     31\n",
              "LG K OLED HDR SMT TV                                                                                                                         31\n",
              "FRIGIDAIRE CU FT FREEZER                                                                                                                     29\n",
              "INSIGNIA DRYER CF FL WHT,INSIGNIA CU TL WASHER                                                                                               28\n",
              "INSIGNIA TOP MOUNT REFR                                                                                                                      27\n",
              "GE ELEC S C RANGE SS                                                                                                                         27\n",
              "                                                                                                                                           ... \n",
              "SAMSUNG OTR MIC SS,SAMSUNG CF FD FRIDGE,SAMSUNG ELEC RANGE SS                                                                                 1\n",
              "DRYER DUCT,SAMSUNG STAINLESS DISHWASHER,SAMSUNG FRIDGE,STEEL HOSES PK,SAMSUNG CF ELEC STEM DRYR,SAMSUNG CF FL STEAM WASHR,SAMSUNG RANGE       1\n",
              "SAMSUNG FRIDGE,SAMSUNG CF FLEXD RANGE                                                                                                         1\n",
              "WHIRLPOOL FRIDGE FRNCH DR SS,WHIRLPOOL CF OTR MICRO SS,WHIRLPOOL ELECTRIC RANGE                                                               1\n",
              "HARRISON QUEEN PANEL BED EA,HARRISON QUEEN KING RAILS EA,HARRISON QUEEN PANEL BED EA                                                          1\n",
              "FRIGIDAIRE ELEC RNG SS,FRIGIDARE DISHWASHER SS                                                                                                1\n",
              "INSIGNIA TOP MNT FRIDGE WH,INSIGNIA ELEC RNG WHT                                                                                              1\n",
              "FRIGDAIRE FS ELEC RANGE SS,SAMSUNG FRT LD DRYER WH,SAMSUNG FT LD WASHER WH,INSIGNIA TOP MNT FRIDGE WH                                         1\n",
              "FRIGIDAIRE CF FRDG SS,FRIGDAIRE FS ELEC RNGE SS,FRIGIDAIRE DISHWASHER                                                                         1\n",
              "SAMSUNG CF FL STEAM WASHR,STEEL HOSES PK,DRYER DUCT,SAMSUNG ELEC RANGE SS,BOSCH S DISH SS,SAMSUNG STACKING KIT,SAMSUNG CF ELEC STEM DRYR      1\n",
              "SAMSUNG LAUNDRY PEDESTAL,SAMSUNG CF ELEC STEM DRYR,KITCHENAID SLIDE IN RANGE,SAMSUNG CF FL STEAM WASHR                                        1\n",
              "INSIGNIA MCLN ELE RANGE                                                                                                                       1\n",
              "LG CU FT WASHER WH,LG OTR MICROWAVE CFM,STEEL HOSES PK,DRYER DUCT,LG FRIDGE,LG DRYER                                                          1\n",
              "SAMSUNG CF DUAL WASHR BKS,DRYER DUCT,SAMSUNG CF ELE FL DRY BKS,STEEL HOSES PK                                                                 1\n",
              "PIT BOSS FB SMOKER EA                                                                                                                         1\n",
              "SAMSUNG FRIDGE,SAMSUNG CF GAS RANGE SS                                                                                                        1\n",
              "AE DRYER DUCT                                                                                                                                 1\n",
              "STAINLESS STEEL HOSES PK,INSIGNIA CU TL WASHER                                                                                                1\n",
              "WHIRLPOOL BOTTOM FRZ REFER,KITCHENAID GAS CONV RANGE                                                                                          1\n",
              "WHIRL CF OTR MICRO SS,WHIRLPOOL FRIDGE FRNCH DR SS,WHIRLPOOL DISHWASHER,WHIRLPOOL CF ELEC RNG SS                                              1\n",
              "GE CLEANDESIGN ELEC CKTP                                                                                                                      1\n",
              "SAMSUNG BULTIN DISHWR SS,SAMSUNG FRIDGE CUFT FRENCH DOOR,SAMSUNG ELEC RANGE SS                                                                1\n",
              "INSIGNIA DRYER INSIGNIA WASHER                                                                                                                1\n",
              "SAMSUNG STACKING KIT,SAMSUNG CF FL WASHER WH,SAMSUNG DRYER                                                                                    1\n",
              "LG TRUE CONVECTION RANGE,LG SEMI INTEGRATED DISHWASHER,LG CF FRENCH DOOR FRIDGE                                                               1\n",
              "SAMSUNG K HDR SMT TV,SAMSUNG K HDR LED SMT TV,SAMSUNG K HDR SMT TV                                                                            1\n",
              "LG CF ELEC STEAM DRYER,LG CF HE TL WASHER WH,FRIGIDAIR CF SIDE FRDG SS,SAMSUNG ELEC RANGE SS                                                  1\n",
              "X HAULAWAY,WASHER CONNECTION,DRYER CONNECTION                                                                                                 1\n",
              "SAMSUNG STAINLESS DISHWASHER,SAMSUNG ELEC RANGE SS,SAMSUNG FRIDGE                                                                             1\n",
              "SERTA VDF ME III Q BASE                                                                                                                       1\n",
              "Name: Product Information1, Length: 2625, dtype: int64"
            ]
          },
          "metadata": {
            "tags": []
          },
          "execution_count": 65
        }
      ]
    },
    {
      "cell_type": "markdown",
      "metadata": {
        "id": "7-PcM4dbOxfz",
        "colab_type": "text"
      },
      "source": [
        "###Observations\n",
        "\n",
        "1)Remove digits\n",
        "\n",
        "2)Remove punctuation except comma as some customers has ordered more than 1 product\n",
        "\n",
        "3)Remove duplicate spaces\n",
        "\n",
        "4)Strip leading and trailing spaces\n",
        "\n",
        "5)Filter out one letter, two letter and three letter word\n",
        "\n",
        "6)Remove those words which are not actual words or irrelevant words\n"
      ]
    },
    {
      "cell_type": "code",
      "metadata": {
        "id": "dLNFWqif2UOk",
        "colab_type": "code",
        "colab": {}
      },
      "source": [
        "#Function to perform remove digits,normalize text, remove duplicate spaces,remove punctuation,remove stopwords\n",
        "def preprocess_product(x):\n",
        "  clean_text=remove_digits(x)\n",
        "  clean_text=clean_text.upper()\n",
        "  clean_text=remove_punctuation(clean_text)\n",
        "  clean_text=remove_stopwords(clean_text)\n",
        "  clean_text=remove_duplicatespaces(clean_text)\n",
        "  clean_text=remove_space_beforecomma(clean_text)\n",
        "  return clean_text\n",
        "train_data_cleaned['Product Information1']=train_data_cleaned['Product Information'].astype(str).apply(preprocess_product)"
      ],
      "execution_count": 0,
      "outputs": []
    },
    {
      "cell_type": "code",
      "metadata": {
        "id": "KffGW3mn4MTL",
        "colab_type": "code",
        "colab": {}
      },
      "source": [
        "#Strip leading and trailing spaces\n",
        "train_data_cleaned['Product Information1']=train_data_cleaned['Product Information1'].astype(str).str.strip()"
      ],
      "execution_count": 0,
      "outputs": []
    },
    {
      "cell_type": "markdown",
      "metadata": {
        "id": "YKOw7A2GuWiW",
        "colab_type": "text"
      },
      "source": [
        "##Observations\n",
        "\n",
        "Inorder to perform this function we need to identify the one letter,two letter and three letter words which occurs very rarely or many times but does not have any relevance\n",
        "\n",
        "Below steps are performed \n",
        "\n",
        "1) Extract unique sentences from the cleaned product information and convert that into a list\n",
        "\n",
        "2)Extract the one letter,two letter and three letter words\n",
        "\n",
        "\n"
      ]
    },
    {
      "cell_type": "code",
      "metadata": {
        "id": "KPRc9b8DUVAY",
        "colab_type": "code",
        "outputId": "7da26913-b086-4c9f-c9b8-58d8303ed31b",
        "colab": {
          "base_uri": "https://localhost:8080/",
          "height": 1071
        }
      },
      "source": [
        "#1) Convert cleaned product information into list\n",
        "cleaned_word_list=train_data_cleaned['Product Information1'].astype(str).apply(lambda x : x.replace(',',' '))\n",
        "cleaned_wordlist=pd.Series(cleaned_word_list.value_counts().index.to_list())\n",
        "print(cleaned_wordlist)"
      ],
      "execution_count": 0,
      "outputs": [
        {
          "output_type": "stream",
          "text": [
            "0                                SAMSUNG K HDR LED SMT TV\n",
            "1                                     LG K HDR SMT LED TV\n",
            "2                                INSIGNIA TOP MNT FRDG WH\n",
            "3                                              X HAULAWAY\n",
            "4                                          SAMSUNG FRIDGE\n",
            "5                                  INSIGNIA CF FREEZER WH\n",
            "6                                      SHARP K HZ LED SMT\n",
            "7                                    SAMSUNG K HDR SMT TV\n",
            "8                                   INSIGNIA CU TL WASHER\n",
            "9                                                HAULAWAY\n",
            "10                             INSIGNIA TOP MNT FRIDGE WH\n",
            "11                                         HAIER K LED TV\n",
            "12                              INSIGNIA CF CHEST FREEZER\n",
            "13                                  SONY K HDR SMT LED TV\n",
            "14                                    SONY K HDR SMT HDTV\n",
            "15                              INSIGNIA TOP MOUNT FRIDGE\n",
            "16                             INSIGNIA TOP MOUNT REFR SS\n",
            "17                               INSIGNIA DRYER CF FL WHT\n",
            "18                                 INSIGNIA CF CHEST FRZR\n",
            "19                                  BOSCH PKT DISHWSHR SS\n",
            "20                                  SAMSUNG ELEC RANGE SS\n",
            "21         INSIGNIA CU TL WASHER INSIGNIA DRYER CF FL WHT\n",
            "22                                 SAMSUNG K HDR SMART TV\n",
            "23                                        BOSCH DISWASHER\n",
            "24                                   LG K OLED HDR SMT TV\n",
            "25                               PROFORM CST TREADMILL EA\n",
            "26                               FRIGIDAIRE CU FT FREEZER\n",
            "27         INSIGNIA DRYER CF FL WHT INSIGNIA CU TL WASHER\n",
            "28                                           X SAMSUNG TV\n",
            "29                                INSIGNIA TOP MOUNT REFR\n",
            "                              ...                        \n",
            "2592    SAMSUNG SL IN GAS BKS SAMSUNG FRIDGE CF CTRDPT...\n",
            "2593    WHIRLPOOL CF ELEC RNG BKS WHIRLPOOL OTR MICRO ...\n",
            "2594    INSIGNIA TOP MOUNT REFR SS INSIGNIA MCLEAN RAN...\n",
            "2595    WHIRLPOOL ELECTRIC DRYER WHIRLPOOL TOP LOAD WA...\n",
            "2596                      SEALY SPLIT QUEEN LOW FOUND VDF\n",
            "2597    LG SEMI INTEGRATED DISHWASHER LG CF FRENCH DOO...\n",
            "2598    SAMSUNG BULTIN DISHWR SS SAMSUNG CF CONV RANGE...\n",
            "2599    GE BOTTOM FREEZER REF GE ELEC S C RANGE SS GE ...\n",
            "2600    SAMSUNG FRIDGE FR DOOR BKS SAMSUNG ELEC RANGE BKS\n",
            "2601    CORL PPO C PATIO CHAIR EA CORL PPO O PATIO OTT...\n",
            "2602                    STACKING LAUNDRY DRYER CONNECTION\n",
            "2603    LG CU FT STEAM WASHER LG STACKING KIT LG CU FT...\n",
            "2604    MS KENNETH WEDGE B EA MS KENNETH LFH LOVE EA M...\n",
            "2605        FRIGIDAIRE DSHWSHR SS FRIGIDAIRE CF FRIDGE SS\n",
            "2606              MOVE THIS UNIT TO THE REQUIRED LOCATION\n",
            "2607                            FRIGIDAIRE CF TOP FRZR SS\n",
            "2608    SAMSUNG ELEC RANGE SS SAMSUNG OTR MICROWAVE SS...\n",
            "2609    WHIRLPOOL TOP LOAD WASHER MAYTAG CF ELEC DRYER WH\n",
            "2610    X STACKING KIT X WASHER CONNECTION X DRYER CON...\n",
            "2611                               WHIRLPOOL DISHASHER SS\n",
            "2612     RETURN WASHER MACHINE PICKED UP YESTERDAY BY YYC\n",
            "2613                             MS LH CHAISE CHARCOAL EA\n",
            "2614                                INSIGNIA UPRIGHT FRZR\n",
            "2615    SAMSUNG SI INDUC RANGE ELECTROLUX CF FL ELC DR...\n",
            "2616                                      GE SCL RANGE SS\n",
            "2617                         BOSCH WASHR BOSCH ELEC DRYER\n",
            "2618    CL T T BUNK BROWN OF EA CL BUNK BROWN OF CL BD...\n",
            "2619        MAYTAG CF FL WASHER GR MAYTA CF ELEC DRYER GR\n",
            "2620                    LG LSE ST ELC SLD IN RG CU FT CON\n",
            "2621                         FRIGIDAIRE PRO ST ELEC RANGE\n",
            "Length: 2622, dtype: object\n"
          ],
          "name": "stdout"
        }
      ]
    },
    {
      "cell_type": "code",
      "metadata": {
        "id": "Rgv0Gprh7zx3",
        "colab_type": "code",
        "colab": {}
      },
      "source": [
        "\n",
        "def remove_threeletter(x,word_list):\n",
        "  new_list2=[]\n",
        "  if re.search(r',',x):\n",
        "    split_sentences=x.split(',')\n",
        "    for word in split_sentences:\n",
        "      split_words=word.split(' ')\n",
        "      new_list=[x for x in split_words if not x in word_list]\n",
        "      new_list.append(',')\n",
        "      new_string=' '.join(new_list)\n",
        "      new_list2.append(new_string)\n",
        "    result=' '.join(new_list2)\n",
        "    return result.rstrip(',')\n",
        "  else:\n",
        "    split_words=x.split(' ')\n",
        "    new_list=[x for x in split_words if not x in word_list]\n",
        "    result=' '.join(new_list)\n",
        "    return result"
      ],
      "execution_count": 0,
      "outputs": []
    },
    {
      "cell_type": "code",
      "metadata": {
        "id": "YSkwb8E3UyY6",
        "colab_type": "code",
        "colab": {}
      },
      "source": [
        "#2)Function to find one letter and three letter words\n",
        "def find_irrelevantwords(x,num):\n",
        "  new_list=[]\n",
        "  for i in range(0,len(x)):\n",
        "    split_word=x[i].split(' ')\n",
        "    for word in split_word:\n",
        "      if len(word)<=num:\n",
        "        new_list.append(word)\n",
        "  new_list=list(set(new_list)-{'LG','GE','TV','AE'})\n",
        "  return new_list"
      ],
      "execution_count": 0,
      "outputs": []
    },
    {
      "cell_type": "code",
      "metadata": {
        "id": "VGJZJDYpswUG",
        "colab_type": "code",
        "colab": {}
      },
      "source": [
        "\n",
        "word_list_delete1=find_irrelevantwords(cleaned_wordlist,2)\n",
        "word_list_delete=['SMT','HDR','LED','WHT','CDTH','CUFT','LTL','PKT','BKS','X']\n",
        "final_word_list=word_list_delete1+word_list_delete"
      ],
      "execution_count": 0,
      "outputs": []
    },
    {
      "cell_type": "code",
      "metadata": {
        "id": "oNG0sRTHTePM",
        "colab_type": "code",
        "colab": {}
      },
      "source": [
        "train_data_cleaned['Product Information2']=train_data_cleaned['Product Information1'].astype(str).apply(lambda x: remove_threeletter(x,final_word_list))\n",
        "train_data_cleaned['Product Information2']=train_data_cleaned['Product Information2'].astype(str).apply(remove_space_beforecomma)\n",
        "train_data_cleaned['Product Information2']=train_data_cleaned['Product Information2'].str.strip()"
      ],
      "execution_count": 0,
      "outputs": []
    },
    {
      "cell_type": "code",
      "metadata": {
        "id": "-OhZKR2wbqhu",
        "colab_type": "code",
        "outputId": "3c5ac864-607b-4d26-e0ee-7a0ec03d1e83",
        "colab": {
          "base_uri": "https://localhost:8080/",
          "height": 1071
        }
      },
      "source": [
        "train_data_cleaned['Product Information2']"
      ],
      "execution_count": 0,
      "outputs": [
        {
          "output_type": "execute_result",
          "data": {
            "text/plain": [
              "0                                    GE TOP WSHR,GE DRYER\n",
              "1                                       BOSCH BAR DISHWSH\n",
              "2                                   FRIGIDAIRE DISHWASHER\n",
              "3                                      FRIGIDAIRE DSHWSHR\n",
              "4                               INSIGNIA TOP MOUNT FRIDGE\n",
              "5                          LG STEAM DRYER,LG STEAM WASHER\n",
              "6                                         INSIGNIA FRIDGE\n",
              "7                                        SAMSUNG FRT WSHR\n",
              "8                                   KITCHENAID DISHWASHER\n",
              "9                                          FRIGID FREZEER\n",
              "10                                 SAMSUNG ELEC STEM DRYR\n",
              "11                                     SAMSUNG ELEC DRYER\n",
              "12                   SAMSUNG TV,SAMSUNG FRIDGE FAMILY HUB\n",
              "13                                      GE LAUNDRY CENTER\n",
              "14                                      GE LAUNDRY CENTER\n",
              "15                                             SAMSUNG TV\n",
              "16                                 MAYTAG ELEC RANGE CONV\n",
              "17      BOSCH BOSCH STACKING KIT WITH PULL OUT TRAY,BO...\n",
              "18      INSIGNIA FROST FREE UPRIGHT CONVERTIBLE FREEZE...\n",
              "19                      HAIER ELECTRIC WASHER DRYER COMBO\n",
              "20      INSIGNIA FROST FREE UPRIGHT CONVERTIBLE FREEZE...\n",
              "21                                             SAMSUNG TV\n",
              "22      BOSCH OTR STAINLESS STEEL,BOSCH CONNEC,BOSCH R...\n",
              "23      MAYTAG DISHWASHER,SAMSUNG FRIDGE,MAYTAG ELEC R...\n",
              "24      FRIGIDAIRE LAUNDRY CENTER,DRYER DUCT,GE ELEC R...\n",
              "25                                      FRIGIDAIRE FRIDGE\n",
              "26                                      FRIGIDAIRE FRIDGE\n",
              "27                    SAMSUNG FRNTLOAD WASHER,STEEL HOSES\n",
              "28                                   ELBA RECT TABLE GREY\n",
              "29                                   ELBA RECT TABLE GREY\n",
              "                              ...                        \n",
              "7490                                           SAMSUNG TV\n",
              "7491                                           SAMSUNG TV\n",
              "7492                                    NORDICTRACK TRDML\n",
              "7493                                     INSIGNIA FREEZER\n",
              "7494                                     INSIGNIA FREEZER\n",
              "7495                          WHIRLPOOL SENSOR DISHWASHER\n",
              "7496                                                LG TV\n",
              "7497                                           SAMSUNG TV\n",
              "7498                                  LG BTM MOUNT FRIDGE\n",
              "7499    DRYER CONNECTION CAUSING ELECTRICAL PROBLEMS C...\n",
              "7500                                    WHIRL FRENCH DOOR\n",
              "7501                              INSIGNIA TOP MOUNT REFR\n",
              "7502                                  LG BTM MOUNT FRIDGE\n",
              "7503                                                LG TV\n",
              "7504    SAMSUNG TOPF REF,SAMSUNG OTR MIC,RECYCLE,DOOR ...\n",
              "7505                                           BOSCH DISH\n",
              "7506                                     BROAN RANGE HOOD\n",
              "7507                                           SAMSUNG TV\n",
              "7508    LG STEAM DRYER,STEEL HOSES,LG FRONTLD WASHER,D...\n",
              "7509                     MAYTAGY ELEC DRYER,MAYTAG WASHER\n",
              "7510                                   WHIRLPOOL ELEC RNG\n",
              "7511    DELTA GRDRAILS RSTC GRY,DELTA DRSRCHG TOP GREY...\n",
              "7512    DRYER DUCT,LG STEAM DRYER,LG FRONTLD WASHER,ST...\n",
              "7513                                           LG OLED TV\n",
              "7514                                  WHIRLPOOL SIDE FRDG\n",
              "7515                       INSIGNIA WASHER,INSIGNIA DRYER\n",
              "7516                                      BOSCH DISWASHER\n",
              "7517                                             HAULAWAY\n",
              "7518                                      BOSCH DISWASHER\n",
              "7519                                             HAULAWAY\n",
              "Name: Product Information2, Length: 7511, dtype: object"
            ]
          },
          "metadata": {
            "tags": []
          },
          "execution_count": 69
        }
      ]
    },
    {
      "cell_type": "markdown",
      "metadata": {
        "id": "_1LIZ4hsX1um",
        "colab_type": "text"
      },
      "source": [
        "#FIND BRAND WORDS"
      ]
    },
    {
      "cell_type": "code",
      "metadata": {
        "id": "VRiqOCAcX3eL",
        "colab_type": "code",
        "colab": {}
      },
      "source": [
        "def find_brandsproducts1(key,index):\n",
        "  brand_products=pd.DataFrame()\n",
        "  brand_products[key]=train_data_cleaned['Product Information2'].loc[train_data_cleaned['Pick Up Location1']!='Service']\n",
        "  unique_list=list(set(brand_products[key].value_counts().index.sort_values()))\n",
        "  unique_list_dict=dict((pd.Series(extract_firsttwowords(unique_list,index)).value_counts()))\n",
        "  unique_list_df=pd.DataFrame(unique_list_dict.items(),columns=['Word','Count'])\n",
        "  return unique_list_df"
      ],
      "execution_count": 0,
      "outputs": []
    },
    {
      "cell_type": "code",
      "metadata": {
        "id": "yd0eThL3X6qR",
        "colab_type": "code",
        "colab": {}
      },
      "source": [
        "def extract_firsttwowords(x,index):\n",
        "  full_list=[]\n",
        "  for row in x:\n",
        "    if re.search(r',',row):\n",
        "      words=row.split(',')\n",
        "      for y in words:\n",
        "        y=y.split(' ')\n",
        "        full_list.append(y[index])\n",
        "    else:\n",
        "      full_list.append(row.split(' ')[index])\n",
        "  return full_list"
      ],
      "execution_count": 0,
      "outputs": []
    },
    {
      "cell_type": "code",
      "metadata": {
        "id": "Kw76mEMiX_iv",
        "colab_type": "code",
        "colab": {}
      },
      "source": [
        "merged_data_df=find_brandsproducts1('Brand',0)"
      ],
      "execution_count": 0,
      "outputs": []
    },
    {
      "cell_type": "code",
      "metadata": {
        "id": "f-bg5ahzo6Ic",
        "colab_type": "code",
        "outputId": "20e6a191-c633-4f29-bed4-45ab4dca8a4f",
        "colab": {
          "base_uri": "https://localhost:8080/",
          "height": 751
        }
      },
      "source": [
        "train_data_cleaned.head()"
      ],
      "execution_count": 0,
      "outputs": [
        {
          "output_type": "execute_result",
          "data": {
            "text/html": [
              "<div>\n",
              "<style scoped>\n",
              "    .dataframe tbody tr th:only-of-type {\n",
              "        vertical-align: middle;\n",
              "    }\n",
              "\n",
              "    .dataframe tbody tr th {\n",
              "        vertical-align: top;\n",
              "    }\n",
              "\n",
              "    .dataframe thead th {\n",
              "        text-align: right;\n",
              "    }\n",
              "</style>\n",
              "<table border=\"1\" class=\"dataframe\">\n",
              "  <thead>\n",
              "    <tr style=\"text-align: right;\">\n",
              "      <th></th>\n",
              "      <th>Client</th>\n",
              "      <th>Date</th>\n",
              "      <th>Invoice</th>\n",
              "      <th>Pick up</th>\n",
              "      <th>Window_Start</th>\n",
              "      <th>Window_End</th>\n",
              "      <th>Pick Up Location</th>\n",
              "      <th>City</th>\n",
              "      <th>Customer Name</th>\n",
              "      <th>Delivery Team</th>\n",
              "      <th>Product Information</th>\n",
              "      <th>Comments</th>\n",
              "      <th>Client1</th>\n",
              "      <th>Pick Up Location1</th>\n",
              "      <th>Product Information1</th>\n",
              "      <th>Product Information2</th>\n",
              "      <th>Products</th>\n",
              "      <th>Brand</th>\n",
              "    </tr>\n",
              "  </thead>\n",
              "  <tbody>\n",
              "    <tr>\n",
              "      <th>0</th>\n",
              "      <td>NaN</td>\n",
              "      <td>2001-Aug.-18</td>\n",
              "      <td>900-907325 VIP LE</td>\n",
              "      <td>Bestbuy</td>\n",
              "      <td>11:00</td>\n",
              "      <td>14:00</td>\n",
              "      <td>CDS Warehouse 5811 46 Street SE</td>\n",
              "      <td>Calgary</td>\n",
              "      <td>James Attwood</td>\n",
              "      <td>Adam / Musa</td>\n",
              "      <td>GE 5.3CF TOP LD WSHR WH, GE 7.4 CF DRYER</td>\n",
              "      <td>NaN</td>\n",
              "      <td>nan</td>\n",
              "      <td>Cds Warehouse</td>\n",
              "      <td>GE CF TOP LD WSHR WH,GE CF DRYER</td>\n",
              "      <td>GE TOP WSHR,GE DRYER</td>\n",
              "      <td>TOP WSHR,DRYER</td>\n",
              "      <td>[G, E, , T, O, P, , W, S, H, R, , , G, E, , D,...</td>\n",
              "    </tr>\n",
              "    <tr>\n",
              "      <th>1</th>\n",
              "      <td>NaN</td>\n",
              "      <td>2001-Aug.-18</td>\n",
              "      <td>976-416905</td>\n",
              "      <td>Bestbuy</td>\n",
              "      <td>11:30</td>\n",
              "      <td>14:30</td>\n",
              "      <td>CDS Warehouse 5811 46 Street SE</td>\n",
              "      <td>CALGARY</td>\n",
              "      <td>lynch marilyn</td>\n",
              "      <td>Adam / Musa</td>\n",
              "      <td>BOSCH 24\" 300S BAR DISHWSH</td>\n",
              "      <td>1 X REMOVAL</td>\n",
              "      <td>nan</td>\n",
              "      <td>Cds Warehouse</td>\n",
              "      <td>BOSCH S BAR DISHWSH</td>\n",
              "      <td>BOSCH BAR DISHWSH</td>\n",
              "      <td>BAR DISHWSH</td>\n",
              "      <td>[B, O, S, C, H, , B, A, R, , D, I, S, H, W, S, H]</td>\n",
              "    </tr>\n",
              "    <tr>\n",
              "      <th>2</th>\n",
              "      <td>NaN</td>\n",
              "      <td>2001-Aug.-18</td>\n",
              "      <td>947-417497 PICK UP / RETURN</td>\n",
              "      <td>Bestbuy</td>\n",
              "      <td>12:00</td>\n",
              "      <td>15:00</td>\n",
              "      <td>127 CANTRELL PL SW *Call Cx 30 minutes before ...</td>\n",
              "      <td>CALGARY</td>\n",
              "      <td>Gevin Bebault</td>\n",
              "      <td>Adam / Musa</td>\n",
              "      <td>FRIGIDAIRE 24\" DISHWASHER</td>\n",
              "      <td>DAMAGE Was dropped (damaged). Exchanging for a...</td>\n",
              "      <td>nan</td>\n",
              "      <td>Cantrell Pl Sw  Call Cx   Minutes Before Arrival</td>\n",
              "      <td>FRIGIDAIRE DISHWASHER</td>\n",
              "      <td>FRIGIDAIRE DISHWASHER</td>\n",
              "      <td>DISHWASHER</td>\n",
              "      <td>[F, R, I, G, I, D, A, I, R, E, , D, I, S, H, W...</td>\n",
              "    </tr>\n",
              "    <tr>\n",
              "      <th>3</th>\n",
              "      <td>NaN</td>\n",
              "      <td>2001-Aug.-18</td>\n",
              "      <td>947-417497 DELIVER</td>\n",
              "      <td>Bestbuy</td>\n",
              "      <td>12:00</td>\n",
              "      <td>15:00</td>\n",
              "      <td>CDS Warehouse 5811 46 Street SE</td>\n",
              "      <td>CALGARY</td>\n",
              "      <td>Gevin Bebault</td>\n",
              "      <td>Adam / Musa</td>\n",
              "      <td>FRIGIDAIRE 24\" DSHWSHR SS</td>\n",
              "      <td>NaN</td>\n",
              "      <td>nan</td>\n",
              "      <td>Cds Warehouse</td>\n",
              "      <td>FRIGIDAIRE DSHWSHR SS</td>\n",
              "      <td>FRIGIDAIRE DSHWSHR</td>\n",
              "      <td>DSHWSHR</td>\n",
              "      <td>[F, R, I, G, I, D, A, I, R, E, , D, S, H, W, S...</td>\n",
              "    </tr>\n",
              "    <tr>\n",
              "      <th>4</th>\n",
              "      <td>NaN</td>\n",
              "      <td>2001-Aug.-18</td>\n",
              "      <td>900-905868</td>\n",
              "      <td>Bestbuy</td>\n",
              "      <td>13:00</td>\n",
              "      <td>16:00</td>\n",
              "      <td>CDS Warehouse 5811 46 Street SE</td>\n",
              "      <td>Calgary</td>\n",
              "      <td>George Popovic</td>\n",
              "      <td>Adam / Musa</td>\n",
              "      <td>INSIGNIA 18 TOP MOUNT FRIDGE</td>\n",
              "      <td>NO UNIT #?? and could not get intouch with cus...</td>\n",
              "      <td>nan</td>\n",
              "      <td>Cds Warehouse</td>\n",
              "      <td>INSIGNIA TOP MOUNT FRIDGE</td>\n",
              "      <td>INSIGNIA TOP MOUNT FRIDGE</td>\n",
              "      <td>TOP MOUNT FRIDGE</td>\n",
              "      <td>[I, N, S, I, G, N, I, A, , T, O, P, , M, O, U,...</td>\n",
              "    </tr>\n",
              "  </tbody>\n",
              "</table>\n",
              "</div>"
            ],
            "text/plain": [
              "  Client  ...                                              Brand\n",
              "0    NaN  ...  [G, E, , T, O, P, , W, S, H, R, , , G, E, , D,...\n",
              "1    NaN  ...  [B, O, S, C, H, , B, A, R, , D, I, S, H, W, S, H]\n",
              "2    NaN  ...  [F, R, I, G, I, D, A, I, R, E, , D, I, S, H, W...\n",
              "3    NaN  ...  [F, R, I, G, I, D, A, I, R, E, , D, S, H, W, S...\n",
              "4    NaN  ...  [I, N, S, I, G, N, I, A, , T, O, P, , M, O, U,...\n",
              "\n",
              "[5 rows x 18 columns]"
            ]
          },
          "metadata": {
            "tags": []
          },
          "execution_count": 109
        }
      ]
    },
    {
      "cell_type": "code",
      "metadata": {
        "id": "D2TbzObOYyuT",
        "colab_type": "code",
        "outputId": "66ebd70d-bee5-420f-99ea-88c2926dac1e",
        "colab": {
          "base_uri": "https://localhost:8080/",
          "height": 1165
        }
      },
      "source": [
        "merged_brand_list[merged_brand_list['Count']>10]"
      ],
      "execution_count": 0,
      "outputs": [
        {
          "output_type": "execute_result",
          "data": {
            "text/html": [
              "<div>\n",
              "<style scoped>\n",
              "    .dataframe tbody tr th:only-of-type {\n",
              "        vertical-align: middle;\n",
              "    }\n",
              "\n",
              "    .dataframe tbody tr th {\n",
              "        vertical-align: top;\n",
              "    }\n",
              "\n",
              "    .dataframe thead th {\n",
              "        text-align: right;\n",
              "    }\n",
              "</style>\n",
              "<table border=\"1\" class=\"dataframe\">\n",
              "  <thead>\n",
              "    <tr style=\"text-align: right;\">\n",
              "      <th></th>\n",
              "      <th>Word</th>\n",
              "      <th>Count</th>\n",
              "    </tr>\n",
              "  </thead>\n",
              "  <tbody>\n",
              "    <tr>\n",
              "      <th>0</th>\n",
              "      <td>SAMSUNG</td>\n",
              "      <td>1080</td>\n",
              "    </tr>\n",
              "    <tr>\n",
              "      <th>1</th>\n",
              "      <td>LG</td>\n",
              "      <td>674</td>\n",
              "    </tr>\n",
              "    <tr>\n",
              "      <th>2</th>\n",
              "      <td>INSIGNIA</td>\n",
              "      <td>391</td>\n",
              "    </tr>\n",
              "    <tr>\n",
              "      <th>3</th>\n",
              "      <td>WHIRLPOOL</td>\n",
              "      <td>351</td>\n",
              "    </tr>\n",
              "    <tr>\n",
              "      <th>4</th>\n",
              "      <td>DRYER</td>\n",
              "      <td>262</td>\n",
              "    </tr>\n",
              "    <tr>\n",
              "      <th>5</th>\n",
              "      <td>GE</td>\n",
              "      <td>242</td>\n",
              "    </tr>\n",
              "    <tr>\n",
              "      <th>6</th>\n",
              "      <td>FRIGIDAIRE</td>\n",
              "      <td>230</td>\n",
              "    </tr>\n",
              "    <tr>\n",
              "      <th>7</th>\n",
              "      <td>STEEL</td>\n",
              "      <td>227</td>\n",
              "    </tr>\n",
              "    <tr>\n",
              "      <th>8</th>\n",
              "      <td>BOSCH</td>\n",
              "      <td>173</td>\n",
              "    </tr>\n",
              "    <tr>\n",
              "      <th>9</th>\n",
              "      <td>MAYTAG</td>\n",
              "      <td>120</td>\n",
              "    </tr>\n",
              "    <tr>\n",
              "      <th>10</th>\n",
              "      <td></td>\n",
              "      <td>88</td>\n",
              "    </tr>\n",
              "    <tr>\n",
              "      <th>11</th>\n",
              "      <td>KITCHENAID</td>\n",
              "      <td>78</td>\n",
              "    </tr>\n",
              "    <tr>\n",
              "      <th>12</th>\n",
              "      <td>STAINLESS</td>\n",
              "      <td>68</td>\n",
              "    </tr>\n",
              "    <tr>\n",
              "      <th>13</th>\n",
              "      <td>AMANA</td>\n",
              "      <td>55</td>\n",
              "    </tr>\n",
              "    <tr>\n",
              "      <th>14</th>\n",
              "      <td>FRIGIDARE</td>\n",
              "      <td>42</td>\n",
              "    </tr>\n",
              "    <tr>\n",
              "      <th>15</th>\n",
              "      <td>FRIGDAIRE</td>\n",
              "      <td>34</td>\n",
              "    </tr>\n",
              "    <tr>\n",
              "      <th>16</th>\n",
              "      <td>ELECTROLUX</td>\n",
              "      <td>32</td>\n",
              "    </tr>\n",
              "    <tr>\n",
              "      <th>17</th>\n",
              "      <td>WASHER</td>\n",
              "      <td>29</td>\n",
              "    </tr>\n",
              "    <tr>\n",
              "      <th>18</th>\n",
              "      <td>KATRINA</td>\n",
              "      <td>28</td>\n",
              "    </tr>\n",
              "    <tr>\n",
              "      <th>19</th>\n",
              "      <td>AE</td>\n",
              "      <td>28</td>\n",
              "    </tr>\n",
              "    <tr>\n",
              "      <th>20</th>\n",
              "      <td>HAIER</td>\n",
              "      <td>27</td>\n",
              "    </tr>\n",
              "    <tr>\n",
              "      <th>21</th>\n",
              "      <td>MARCO</td>\n",
              "      <td>24</td>\n",
              "    </tr>\n",
              "    <tr>\n",
              "      <th>22</th>\n",
              "      <td>BROAN</td>\n",
              "      <td>23</td>\n",
              "    </tr>\n",
              "    <tr>\n",
              "      <th>23</th>\n",
              "      <td>SEALY</td>\n",
              "      <td>20</td>\n",
              "    </tr>\n",
              "    <tr>\n",
              "      <th>24</th>\n",
              "      <td>NORDICTRACK</td>\n",
              "      <td>19</td>\n",
              "    </tr>\n",
              "    <tr>\n",
              "      <th>25</th>\n",
              "      <td>PROFORM</td>\n",
              "      <td>18</td>\n",
              "    </tr>\n",
              "    <tr>\n",
              "      <th>26</th>\n",
              "      <td>FRIDGE</td>\n",
              "      <td>18</td>\n",
              "    </tr>\n",
              "    <tr>\n",
              "      <th>27</th>\n",
              "      <td>ELECTROLX</td>\n",
              "      <td>17</td>\n",
              "    </tr>\n",
              "    <tr>\n",
              "      <th>28</th>\n",
              "      <td>WHIRL</td>\n",
              "      <td>16</td>\n",
              "    </tr>\n",
              "    <tr>\n",
              "      <th>29</th>\n",
              "      <td>PRIMO</td>\n",
              "      <td>15</td>\n",
              "    </tr>\n",
              "    <tr>\n",
              "      <th>30</th>\n",
              "      <td>KENNETH</td>\n",
              "      <td>15</td>\n",
              "    </tr>\n",
              "    <tr>\n",
              "      <th>31</th>\n",
              "      <td>OCTANE</td>\n",
              "      <td>14</td>\n",
              "    </tr>\n",
              "    <tr>\n",
              "      <th>32</th>\n",
              "      <td>PEDESTAL</td>\n",
              "      <td>14</td>\n",
              "    </tr>\n",
              "    <tr>\n",
              "      <th>33</th>\n",
              "      <td>RANGE</td>\n",
              "      <td>13</td>\n",
              "    </tr>\n",
              "    <tr>\n",
              "      <th>34</th>\n",
              "      <td>COASTER</td>\n",
              "      <td>13</td>\n",
              "    </tr>\n",
              "    <tr>\n",
              "      <th>35</th>\n",
              "      <td>DELTA</td>\n",
              "      <td>12</td>\n",
              "    </tr>\n",
              "  </tbody>\n",
              "</table>\n",
              "</div>"
            ],
            "text/plain": [
              "           Word  Count\n",
              "0       SAMSUNG   1080\n",
              "1            LG    674\n",
              "2      INSIGNIA    391\n",
              "3     WHIRLPOOL    351\n",
              "4         DRYER    262\n",
              "5            GE    242\n",
              "6    FRIGIDAIRE    230\n",
              "7         STEEL    227\n",
              "8         BOSCH    173\n",
              "9        MAYTAG    120\n",
              "10                  88\n",
              "11   KITCHENAID     78\n",
              "12    STAINLESS     68\n",
              "13        AMANA     55\n",
              "14    FRIGIDARE     42\n",
              "15    FRIGDAIRE     34\n",
              "16   ELECTROLUX     32\n",
              "17       WASHER     29\n",
              "18      KATRINA     28\n",
              "19           AE     28\n",
              "20        HAIER     27\n",
              "21        MARCO     24\n",
              "22        BROAN     23\n",
              "23        SEALY     20\n",
              "24  NORDICTRACK     19\n",
              "25      PROFORM     18\n",
              "26       FRIDGE     18\n",
              "27    ELECTROLX     17\n",
              "28        WHIRL     16\n",
              "29        PRIMO     15\n",
              "30      KENNETH     15\n",
              "31       OCTANE     14\n",
              "32     PEDESTAL     14\n",
              "33        RANGE     13\n",
              "34      COASTER     13\n",
              "35        DELTA     12"
            ]
          },
          "metadata": {
            "tags": []
          },
          "execution_count": 73
        }
      ]
    },
    {
      "cell_type": "code",
      "metadata": {
        "id": "9Nk0KQ0Xiy2x",
        "colab_type": "code",
        "colab": {}
      },
      "source": [
        "brands=merged_brand_list['Word'].loc[merged_brand_list['Count']>10]\n",
        "brands_to_remove=['FRIDGE','WASHER','BK','STAINLESS','DRYER','STEEL','','RANGE','PEDESTAL']"
      ],
      "execution_count": 0,
      "outputs": []
    },
    {
      "cell_type": "code",
      "metadata": {
        "id": "wMDD2yOAZruc",
        "colab_type": "code",
        "colab": {}
      },
      "source": [
        "brands=[word for word in brands if word not in brands_to_remove]"
      ],
      "execution_count": 0,
      "outputs": []
    },
    {
      "cell_type": "code",
      "metadata": {
        "id": "P_j5RJsbjRsj",
        "colab_type": "code",
        "colab": {}
      },
      "source": [
        "brands.append('SONY')"
      ],
      "execution_count": 0,
      "outputs": []
    },
    {
      "cell_type": "code",
      "metadata": {
        "id": "4-rtgivxuBgS",
        "colab_type": "code",
        "outputId": "a64d503a-56a1-4cc4-a953-eaeb7fef1980",
        "colab": {
          "base_uri": "https://localhost:8080/",
          "height": 510
        }
      },
      "source": [
        "brands"
      ],
      "execution_count": 0,
      "outputs": [
        {
          "output_type": "execute_result",
          "data": {
            "text/plain": [
              "['SAMSUNG',\n",
              " 'LG',\n",
              " 'INSIGNIA',\n",
              " 'WHIRLPOOL',\n",
              " 'GE',\n",
              " 'FRIGIDAIRE',\n",
              " 'BOSCH',\n",
              " 'MAYTAG',\n",
              " 'KITCHENAID',\n",
              " 'AMANA',\n",
              " 'FRIGIDARE',\n",
              " 'FRIGDAIRE',\n",
              " 'ELECTROLUX',\n",
              " 'KATRINA',\n",
              " 'AE',\n",
              " 'HAIER',\n",
              " 'MARCO',\n",
              " 'BROAN',\n",
              " 'SEALY',\n",
              " 'NORDICTRACK',\n",
              " 'PROFORM',\n",
              " 'ELECTROLX',\n",
              " 'WHIRL',\n",
              " 'PRIMO',\n",
              " 'KENNETH',\n",
              " 'OCTANE',\n",
              " 'COASTER',\n",
              " 'DELTA',\n",
              " 'SONY']"
            ]
          },
          "metadata": {
            "tags": []
          },
          "execution_count": 141
        }
      ]
    },
    {
      "cell_type": "markdown",
      "metadata": {
        "id": "rbt-viYvktV0",
        "colab_type": "text"
      },
      "source": [
        "#FIND JUST PRODUCTS"
      ]
    },
    {
      "cell_type": "code",
      "metadata": {
        "id": "eyztLQQUkwDL",
        "colab_type": "code",
        "colab": {}
      },
      "source": [
        "train_data_cleaned['Products']=train_data_cleaned['Product Information2'].astype(str).apply(lambda x :remove_threeletter(x,brands))\n",
        "train_data_cleaned['Products']=train_data_cleaned['Products'].astype(str).apply(remove_space_beforecomma)"
      ],
      "execution_count": 0,
      "outputs": []
    },
    {
      "cell_type": "code",
      "metadata": {
        "id": "Ub_2z1eIlJwO",
        "colab_type": "code",
        "outputId": "10bab815-507d-4c9f-df56-9c5fb89f056f",
        "colab": {
          "base_uri": "https://localhost:8080/",
          "height": 1071
        }
      },
      "source": [
        "train_data_cleaned['Products']"
      ],
      "execution_count": 0,
      "outputs": [
        {
          "output_type": "execute_result",
          "data": {
            "text/plain": [
              "0                                         TOP WSHR,DRYER \n",
              "1                                             BAR DISHWSH\n",
              "2                                              DISHWASHER\n",
              "3                                                 DSHWSHR\n",
              "4                                        TOP MOUNT FRIDGE\n",
              "5                               STEAM DRYER,STEAM WASHER \n",
              "6                                                  FRIDGE\n",
              "7                                                FRT WSHR\n",
              "8                                              DISHWASHER\n",
              "9                                          FRIGID FREZEER\n",
              "10                                         ELEC STEM DRYR\n",
              "11                                             ELEC DRYER\n",
              "12                                  TV,FRIDGE FAMILY HUB \n",
              "13                                         LAUNDRY CENTER\n",
              "14                                         LAUNDRY CENTER\n",
              "15                                                     TV\n",
              "16                                        ELEC RANGE CONV\n",
              "17      STACKING KIT WITH PULL OUT TRAY,FRONT LOAD WAS...\n",
              "18      FROST FREE UPRIGHT CONVERTIBLE FREEZER REFRIGE...\n",
              "19                            ELECTRIC WASHER DRYER COMBO\n",
              "20      FROST FREE UPRIGHT CONVERTIBLE FREEZER REFRIGE...\n",
              "21                                                     TV\n",
              "22        OTR STAINLESS STEEL,CONNEC,RANGE,FRIDGE FRENCH \n",
              "23                       DISHWASHER,FRIDGE,ELEC RNG CONV \n",
              "24      LAUNDRY CENTER,DRYER DUCT,ELEC RANGE,STEEL HOS...\n",
              "25                                                 FRIDGE\n",
              "26                                                 FRIDGE\n",
              "27                           FRNTLOAD WASHER,STEEL HOSES \n",
              "28                                   ELBA RECT TABLE GREY\n",
              "29                                   ELBA RECT TABLE GREY\n",
              "                              ...                        \n",
              "7490                                                   TV\n",
              "7491                                                   TV\n",
              "7492                                                TRDML\n",
              "7493                                              FREEZER\n",
              "7494                                              FREEZER\n",
              "7495                                    SENSOR DISHWASHER\n",
              "7496                                                   TV\n",
              "7497                                                   TV\n",
              "7498                                     BTM MOUNT FRIDGE\n",
              "7499    DRYER CONNECTION CAUSING ELECTRICAL PROBLEMS C...\n",
              "7500                                          FRENCH DOOR\n",
              "7501                                       TOP MOUNT REFR\n",
              "7502                                     BTM MOUNT FRIDGE\n",
              "7503                                                   TV\n",
              "7504    TOPF REF,OTR MIC,RECYCLE,DOOR REVERSAL DOOR SW...\n",
              "7505                                                 DISH\n",
              "7506                                           RANGE HOOD\n",
              "7507                                                   TV\n",
              "7508    STEAM DRYER,STEEL HOSES,FRONTLD WASHER,DRYER D...\n",
              "7509                           MAYTAGY ELEC DRYER,WASHER \n",
              "7510                                             ELEC RNG\n",
              "7511    GRDRAILS RSTC GRY,DRSRCHG TOP GREY,HARPER GLDR...\n",
              "7512    DRYER DUCT,STEAM DRYER,FRONTLD WASHER,STEEL HO...\n",
              "7513                                              OLED TV\n",
              "7514                                            SIDE FRDG\n",
              "7515                                        WASHER,DRYER \n",
              "7516                                            DISWASHER\n",
              "7517                                             HAULAWAY\n",
              "7518                                            DISWASHER\n",
              "7519                                             HAULAWAY\n",
              "Name: Products, Length: 7511, dtype: object"
            ]
          },
          "metadata": {
            "tags": []
          },
          "execution_count": 143
        }
      ]
    },
    {
      "cell_type": "markdown",
      "metadata": {
        "id": "3_cks6L3fgGn",
        "colab_type": "text"
      },
      "source": [
        "#EXPLORATORY DATA ANALYSIS"
      ]
    },
    {
      "cell_type": "code",
      "metadata": {
        "id": "x1pV_URTfiy2",
        "colab_type": "code",
        "outputId": "1efb0200-3a2b-4c13-8620-9af72cc2e0d5",
        "colab": {
          "base_uri": "https://localhost:8080/",
          "height": 547
        }
      },
      "source": [
        "train_data_cleaned.head()"
      ],
      "execution_count": 0,
      "outputs": [
        {
          "output_type": "execute_result",
          "data": {
            "text/html": [
              "<div>\n",
              "<style scoped>\n",
              "    .dataframe tbody tr th:only-of-type {\n",
              "        vertical-align: middle;\n",
              "    }\n",
              "\n",
              "    .dataframe tbody tr th {\n",
              "        vertical-align: top;\n",
              "    }\n",
              "\n",
              "    .dataframe thead th {\n",
              "        text-align: right;\n",
              "    }\n",
              "</style>\n",
              "<table border=\"1\" class=\"dataframe\">\n",
              "  <thead>\n",
              "    <tr style=\"text-align: right;\">\n",
              "      <th></th>\n",
              "      <th>Client</th>\n",
              "      <th>Date</th>\n",
              "      <th>Invoice</th>\n",
              "      <th>Pick up</th>\n",
              "      <th>Window_Start</th>\n",
              "      <th>Window_End</th>\n",
              "      <th>Pick Up Location</th>\n",
              "      <th>City</th>\n",
              "      <th>Customer Name</th>\n",
              "      <th>Delivery Team</th>\n",
              "      <th>Product Information</th>\n",
              "      <th>Comments</th>\n",
              "      <th>Client1</th>\n",
              "      <th>Date1</th>\n",
              "      <th>Invoice1</th>\n",
              "      <th>City1</th>\n",
              "      <th>Window_Start1</th>\n",
              "      <th>Window_End1</th>\n",
              "      <th>Delivery Team1</th>\n",
              "      <th>Pick Up Location1</th>\n",
              "    </tr>\n",
              "  </thead>\n",
              "  <tbody>\n",
              "    <tr>\n",
              "      <th>0</th>\n",
              "      <td>NaN</td>\n",
              "      <td>2001-Aug.-18</td>\n",
              "      <td>900907325</td>\n",
              "      <td>Bestbuy</td>\n",
              "      <td>11:00</td>\n",
              "      <td>14:00</td>\n",
              "      <td>CDS Warehouse 5811 46 Street SE</td>\n",
              "      <td>Calgary</td>\n",
              "      <td>James Attwood</td>\n",
              "      <td>Adam Musa</td>\n",
              "      <td>GE 5.3CF TOP LD WSHR WH, GE 7.4 CF DRYER</td>\n",
              "      <td>NaN</td>\n",
              "      <td>nan</td>\n",
              "      <td>Aug</td>\n",
              "      <td>VIPLE</td>\n",
              "      <td>Calgary</td>\n",
              "      <td>11</td>\n",
              "      <td>14</td>\n",
              "      <td>Adam Musa</td>\n",
              "      <td>Cds Warehouse</td>\n",
              "    </tr>\n",
              "    <tr>\n",
              "      <th>1</th>\n",
              "      <td>NaN</td>\n",
              "      <td>2001-Aug.-18</td>\n",
              "      <td>976416905</td>\n",
              "      <td>Bestbuy</td>\n",
              "      <td>11:30</td>\n",
              "      <td>14:30</td>\n",
              "      <td>CDS Warehouse 5811 46 Street SE</td>\n",
              "      <td>CALGARY</td>\n",
              "      <td>Lynch Marilyn</td>\n",
              "      <td>Adam Musa</td>\n",
              "      <td>BOSCH 24\" 300S BAR DISHWSH</td>\n",
              "      <td>1 X REMOVAL</td>\n",
              "      <td>nan</td>\n",
              "      <td>Aug</td>\n",
              "      <td></td>\n",
              "      <td>Calgary</td>\n",
              "      <td>11</td>\n",
              "      <td>14</td>\n",
              "      <td>Adam Musa</td>\n",
              "      <td>Cds Warehouse</td>\n",
              "    </tr>\n",
              "    <tr>\n",
              "      <th>2</th>\n",
              "      <td>NaN</td>\n",
              "      <td>2001-Aug.-18</td>\n",
              "      <td>947417497</td>\n",
              "      <td>Bestbuy</td>\n",
              "      <td>12:00</td>\n",
              "      <td>15:00</td>\n",
              "      <td>127 CANTRELL PL SW *Call Cx 30 minutes before ...</td>\n",
              "      <td>CALGARY</td>\n",
              "      <td>Gevin Bebault</td>\n",
              "      <td>Adam Musa</td>\n",
              "      <td>FRIGIDAIRE 24\" DISHWASHER</td>\n",
              "      <td>DAMAGE Was dropped (damaged). Exchanging for a...</td>\n",
              "      <td>nan</td>\n",
              "      <td>Aug</td>\n",
              "      <td>RETURN</td>\n",
              "      <td>Calgary</td>\n",
              "      <td>12</td>\n",
              "      <td>15</td>\n",
              "      <td>Adam Musa</td>\n",
              "      <td>Cantrell Pl</td>\n",
              "    </tr>\n",
              "    <tr>\n",
              "      <th>3</th>\n",
              "      <td>NaN</td>\n",
              "      <td>2001-Aug.-18</td>\n",
              "      <td>947417497</td>\n",
              "      <td>Bestbuy</td>\n",
              "      <td>12:00</td>\n",
              "      <td>15:00</td>\n",
              "      <td>CDS Warehouse 5811 46 Street SE</td>\n",
              "      <td>CALGARY</td>\n",
              "      <td>Gevin Bebault</td>\n",
              "      <td>Adam Musa</td>\n",
              "      <td>FRIGIDAIRE 24\" DSHWSHR SS</td>\n",
              "      <td>NaN</td>\n",
              "      <td>nan</td>\n",
              "      <td>Aug</td>\n",
              "      <td>DELIVER</td>\n",
              "      <td>Calgary</td>\n",
              "      <td>12</td>\n",
              "      <td>15</td>\n",
              "      <td>Adam Musa</td>\n",
              "      <td>Cds Warehouse</td>\n",
              "    </tr>\n",
              "    <tr>\n",
              "      <th>4</th>\n",
              "      <td>NaN</td>\n",
              "      <td>2001-Aug.-18</td>\n",
              "      <td>900905868</td>\n",
              "      <td>Bestbuy</td>\n",
              "      <td>13:00</td>\n",
              "      <td>16:00</td>\n",
              "      <td>CDS Warehouse 5811 46 Street SE</td>\n",
              "      <td>Calgary</td>\n",
              "      <td>George Popovic</td>\n",
              "      <td>Adam Musa</td>\n",
              "      <td>INSIGNIA 18 TOP MOUNT FRIDGE</td>\n",
              "      <td>NO UNIT #?? and could not get intouch with cus...</td>\n",
              "      <td>nan</td>\n",
              "      <td>Aug</td>\n",
              "      <td></td>\n",
              "      <td>Calgary</td>\n",
              "      <td>13</td>\n",
              "      <td>16</td>\n",
              "      <td>Adam Musa</td>\n",
              "      <td>Cds Warehouse</td>\n",
              "    </tr>\n",
              "  </tbody>\n",
              "</table>\n",
              "</div>"
            ],
            "text/plain": [
              "  Client          Date    Invoice  ... Window_End1 Delivery Team1 Pick Up Location1\n",
              "0    NaN  2001-Aug.-18  900907325  ...          14      Adam Musa     Cds Warehouse\n",
              "1    NaN  2001-Aug.-18  976416905  ...          14      Adam Musa     Cds Warehouse\n",
              "2    NaN  2001-Aug.-18  947417497  ...          15      Adam Musa       Cantrell Pl\n",
              "3    NaN  2001-Aug.-18  947417497  ...          15      Adam Musa     Cds Warehouse\n",
              "4    NaN  2001-Aug.-18  900905868  ...          16      Adam Musa     Cds Warehouse\n",
              "\n",
              "[5 rows x 20 columns]"
            ]
          },
          "metadata": {
            "tags": []
          },
          "execution_count": 135
        }
      ]
    },
    {
      "cell_type": "code",
      "metadata": {
        "id": "ySULYH3Pfnfu",
        "colab_type": "code",
        "colab": {}
      },
      "source": [
        ""
      ],
      "execution_count": 0,
      "outputs": []
    },
    {
      "cell_type": "markdown",
      "metadata": {
        "id": "juCuZhIcfoa8",
        "colab_type": "text"
      },
      "source": [
        "##Q1) Who is the major client?\n",
        "##Q2)What are the major differences between the difference types of client\n",
        "##Q3)Which is the peak time of delivery\n",
        "##Q4)Why is the delivery affected during non-peak times\n",
        "##Q5)Which are the major Pick up locations\n",
        "##Q6)Which cities do they operate?\n",
        "##Q7) Which city has the maximum number of delivery\n",
        "##Q8)Which city has the least number of delivery why?\n",
        "##Q9)Which delivery team operates the most?\n",
        "##Q10) In which City are they most common\n",
        "##Q11)Which is the most moving brand generally\n",
        "##Q12)Which product is sold the most\n",
        "##Q13)Same"
      ]
    },
    {
      "cell_type": "code",
      "metadata": {
        "id": "uCidyDfvgvTS",
        "colab_type": "code",
        "outputId": "d85f6a60-dec7-48c6-bab7-78613ed56870",
        "colab": {
          "base_uri": "https://localhost:8080/",
          "height": 119
        }
      },
      "source": [
        "train_data_cleaned.columns"
      ],
      "execution_count": 0,
      "outputs": [
        {
          "output_type": "execute_result",
          "data": {
            "text/plain": [
              "Index(['Client', 'Date', 'Invoice', 'Pick up', 'Window_Start', 'Window_End',\n",
              "       'Pick Up Location', 'City', 'Customer Name', 'Delivery Team',\n",
              "       'Product Information', 'Comments', 'Client1', 'Date1', 'Invoice1',\n",
              "       'City1', 'Window_Start1', 'Window_End1', 'Delivery Team1',\n",
              "       'Pick Up Location1'],\n",
              "      dtype='object')"
            ]
          },
          "metadata": {
            "tags": []
          },
          "execution_count": 136
        }
      ]
    },
    {
      "cell_type": "code",
      "metadata": {
        "id": "WRBJAEz0gzi2",
        "colab_type": "code",
        "outputId": "560a0bc0-ccf4-4b6a-c64e-407ea13f76ad",
        "colab": {
          "base_uri": "https://localhost:8080/",
          "height": 300
        }
      },
      "source": [
        "import seaborn as sns\n",
        "import matplotlib.pyplot as plt\n",
        "sns.countplot(train_data_cleaned['Client1'])\n",
        "plt.xlabel('Client Categories')\n",
        "plt.ylabel('Frequency')"
      ],
      "execution_count": 0,
      "outputs": [
        {
          "output_type": "execute_result",
          "data": {
            "text/plain": [
              "Text(0, 0.5, 'Frequency')"
            ]
          },
          "metadata": {
            "tags": []
          },
          "execution_count": 143
        },
        {
          "output_type": "display_data",
          "data": {
            "image/png": "[encoded data removed]",
            "text/plain": [
              "<Figure size 432x288 with 1 Axes>"
            ]
          },
          "metadata": {
            "tags": []
          }
        }
      ]
    },
    {
      "cell_type": "code",
      "metadata": {
        "id": "JZaKBRH7jZBS",
        "colab_type": "code",
        "outputId": "64373a74-4b67-4e68-fb34-a269bc00d498",
        "colab": {
          "base_uri": "https://localhost:8080/",
          "height": 300
        }
      },
      "source": [
        "#Create a data dictionary to plot the bar char in the order to get a sense of distribution\n",
        "di={\"Jan\":1,\"Feb\":2,\"Mar\":3,\"Apr\":4,\"May\":5,\"Jun\":6,\"Jul\":7,\"Aug\":8,\"Sep\":9,\"Oct\":10,\"Nov\":11,\"Dec\":12}\n",
        "#Plot the data\n",
        "sns.countplot(train_data_cleaned['Date1'],order=di.keys())\n",
        "plt.xlabel('Date')\n",
        "plt.ylabel('Frequency')"
      ],
      "execution_count": 0,
      "outputs": [
        {
          "output_type": "execute_result",
          "data": {
            "text/plain": [
              "Text(0, 0.5, 'Frequency')"
            ]
          },
          "metadata": {
            "tags": []
          },
          "execution_count": 145
        },
        {
          "output_type": "display_data",
          "data": {
            "image/png": "[encoded data removed]",
            "text/plain": [
              "<Figure size 432x288 with 1 Axes>"
            ]
          },
          "metadata": {
            "tags": []
          }
        }
      ]
    },
    {
      "cell_type": "markdown",
      "metadata": {
        "id": "uLFmhn86jyOF",
        "colab_type": "text"
      },
      "source": [
        "##Observations\n",
        "\n",
        "Peak time of delivery seems to be in January and December.\n",
        "\n",
        "May-July there seems to be no sales.\n",
        "\n",
        "It could be because of the missing data"
      ]
    },
    {
      "cell_type": "code",
      "metadata": {
        "id": "n4JIoEWpjKdd",
        "colab_type": "code",
        "outputId": "1eb543d5-5b60-4a2a-c8ce-a921620f7783",
        "colab": {
          "base_uri": "https://localhost:8080/",
          "height": 300
        }
      },
      "source": [
        "\n",
        "\n",
        "sns.countplot(y='Pick Up Location1',data=train_data_cleaned,palette='Greens_d',order=train_data_cleaned['Pick Up Location1'].value_counts().iloc[:10].index)"
      ],
      "execution_count": 0,
      "outputs": [
        {
          "output_type": "execute_result",
          "data": {
            "text/plain": [
              "<matplotlib.axes._subplots.AxesSubplot at 0x7efe7d5abb38>"
            ]
          },
          "metadata": {
            "tags": []
          },
          "execution_count": 161
        },
        {
          "output_type": "display_data",
          "data": {
            "image/png": "[encoded data removed]",
            "text/plain": [
              "<Figure size 432x288 with 1 Axes>"
            ]
          },
          "metadata": {
            "tags": []
          }
        }
      ]
    },
    {
      "cell_type": "code",
      "metadata": {
        "id": "QRJVf4lTrNRa",
        "colab_type": "code",
        "outputId": "ec7459ab-fe37-4df8-d145-8fa284d6fa16",
        "colab": {
          "base_uri": "https://localhost:8080/",
          "height": 317
        }
      },
      "source": [
        "sns.countplot(y='City1',data=train_data_cleaned,order=train_data_cleaned['City1'].value_counts().iloc[:20].index)\n",
        "plt.figure(figsize=(40, 40))"
      ],
      "execution_count": 0,
      "outputs": [
        {
          "output_type": "execute_result",
          "data": {
            "text/plain": [
              "<Figure size 2880x2880 with 0 Axes>"
            ]
          },
          "metadata": {
            "tags": []
          },
          "execution_count": 171
        },
        {
          "output_type": "display_data",
          "data": {
            "image/png": "[encoded data removed]",
            "text/plain": [
              "<Figure size 432x288 with 1 Axes>"
            ]
          },
          "metadata": {
            "tags": []
          }
        },
        {
          "output_type": "display_data",
          "data": {
            "text/plain": [
              "<Figure size 2880x2880 with 0 Axes>"
            ]
          },
          "metadata": {
            "tags": []
          }
        }
      ]
    },
    {
      "cell_type": "code",
      "metadata": {
        "id": "eq9Fkg1SvCdJ",
        "colab_type": "code",
        "outputId": "b5fbb572-29c0-4037-fdfd-23e03455f019",
        "colab": {
          "base_uri": "https://localhost:8080/",
          "height": 969
        }
      },
      "source": [
        "train_data_cleaned['City1'].value_counts()"
      ],
      "execution_count": 0,
      "outputs": [
        {
          "output_type": "execute_result",
          "data": {
            "text/plain": [
              "Calgary                 6228\n",
              "Red Deer                 265\n",
              "Langley                  250\n",
              "Cochrane                 152\n",
              "Airdrie                  125\n",
              "Chestermere               87\n",
              "Okotoks                   66\n",
              "Canmore                   44\n",
              "Lacombe                   40\n",
              "Banff                     32\n",
              "Sylvan Lake               30\n",
              "Strathmore                23\n",
              "High River                23\n",
              "Blackfalds                13\n",
              "Innisfail                 12\n",
              "De Winton                 12\n",
              "Foothills                 11\n",
              "Rocky Mountain House      11\n",
              "Priddis                    7\n",
              "Langdon                    7\n",
              "Sundre                     5\n",
              "Bentley                    5\n",
              "Heritage Pointe            4\n",
              "Rimbey                     4\n",
              "Stettler                   4\n",
              "Turner Valley              4\n",
              "Dalroy                     3\n",
              "Conrich                    3\n",
              "Black Diamond              3\n",
              "Penhold                    3\n",
              "Crossfield                 3\n",
              "Ponoka                     2\n",
              "Nan                        2\n",
              "Hinton                     2\n",
              "                           2\n",
              "Bragg Creek                2\n",
              "Gull Lake                  2\n",
              "Clive                      2\n",
              "Ghost Lake                 2\n",
              "Bashaw                     1\n",
              "Clear Water                1\n",
              "Olds                       1\n",
              "Benalto                    1\n",
              "A                          1\n",
              "Alhambra                   1\n",
              "Castor                     1\n",
              "Spruce View                1\n",
              "Lyalta                     1\n",
              "Bearspaw Area              1\n",
              "Wheatland                  1\n",
              "Millarville                1\n",
              "Delburne                   1\n",
              "Edmonton                   1\n",
              "Dalmead                    1\n",
              "Acme                       1\n",
              "Name: City1, dtype: int64"
            ]
          },
          "metadata": {
            "tags": []
          },
          "execution_count": 176
        }
      ]
    },
    {
      "cell_type": "markdown",
      "metadata": {
        "id": "Iun3H8oVPIhK",
        "colab_type": "text"
      },
      "source": [
        "## TEXT FEATURIZATION USING BOW AND TF-IDF"
      ]
    },
    {
      "cell_type": "code",
      "metadata": {
        "id": "gP9_7viLXiFG",
        "colab_type": "code",
        "colab": {}
      },
      "source": [
        "#Function to find frequency of words\n",
        "\n",
        "def find_frequencies(x,num):\n",
        "  word_list=tokenize_words(x)\n",
        "  words_grams=ngrams(word_list,num)\n",
        "  flat_list=pd.Series(Counter(words_grams))\n",
        "  flat_list=pd.DataFrame(flat_list).reset_index()\n",
        "  flat_list.rename(columns={'index':'Word',0:'WordCount'},inplace=True)\n",
        "  return flat_list"
      ],
      "execution_count": 0,
      "outputs": []
    },
    {
      "cell_type": "code",
      "metadata": {
        "id": "tdnviLcIhcBK",
        "colab_type": "code",
        "colab": {}
      },
      "source": [
        "def tokenize_words(x):\n",
        "  tokenized_words=x.apply(word_tokenize)\n",
        "  tokenized_words_list=tokenized_words.to_list()\n",
        "  flat_list=list(itertools.chain(*tokenized_words_list))\n",
        "  return flat_list\n",
        "  "
      ],
      "execution_count": 0,
      "outputs": []
    },
    {
      "cell_type": "code",
      "metadata": {
        "id": "RSx2IawchKqM",
        "colab_type": "code",
        "colab": {}
      },
      "source": [
        "train_data_cleaned['Products']=train_data_cleaned['Products'].str.replace(',','')\n",
        "one_word=find_frequencies(train_data_cleaned['Products'],1)\n",
        "two_word=find_frequencies(train_data_cleaned['Products'],2)\n",
        "three_word=find_frequencies(train_data_cleaned['Products'],3)\n",
        "four_word=find_frequencies(train_data_cleaned['Products'],4)"
      ],
      "execution_count": 0,
      "outputs": []
    },
    {
      "cell_type": "code",
      "metadata": {
        "id": "a9qMO1sQwSQm",
        "colab_type": "code",
        "outputId": "426062a4-ab51-4f77-9f7f-0b0a0882d234",
        "colab": {
          "base_uri": "https://localhost:8080/",
          "height": 1105
        }
      },
      "source": [
        "print(one_word[one_word['WordCount']>10])"
      ],
      "execution_count": 0,
      "outputs": [
        {
          "output_type": "stream",
          "text": [
            "          level_0  WordCount\n",
            "0             TOP        567\n",
            "1       WSHRDRYER         25\n",
            "2             BAR         18\n",
            "3         DISHWSH         45\n",
            "4      DISHWASHER        331\n",
            "6           MOUNT        262\n",
            "7          FRIDGE        783\n",
            "8           STEAM        190\n",
            "9      DRYERSTEAM         41\n",
            "10         WASHER        503\n",
            "11            FRT         66\n",
            "12           WSHR        107\n",
            "14        FREZEER         14\n",
            "15           ELEC        532\n",
            "16           STEM        118\n",
            "17           DRYR         84\n",
            "18          DRYER        503\n",
            "20         FAMILY         16\n",
            "21            HUB         13\n",
            "22        LAUNDRY         72\n",
            "23         CENTER         53\n",
            "24             TV        999\n",
            "25          RANGE        582\n",
            "26           CONV         41\n",
            "27       STACKING         40\n",
            "28            KIT         75\n",
            "29           WITH         19\n",
            "33           LOAD        324\n",
            "34      WASHRELEC         37\n",
            "37        UPRIGHT         44\n",
            "...           ...        ...\n",
            "748     ELECRNGSS         24\n",
            "751           BLT         13\n",
            "769      METDRYER         12\n",
            "785      KITSTEEL         12\n",
            "823    DRYERSTEEL         25\n",
            "831     DUCTSTEEL         50\n",
            "848        DISHWS         14\n",
            "854           NOT         17\n",
            "862          TRUE         38\n",
            "868   FRIDGIDAIRE         12\n",
            "903         MICRO         16\n",
            "906         PATIO         13\n",
            "939          BUNK         19\n",
            "962        CHAISE         14\n",
            "988           CAB         19\n",
            "990          MOVE         11\n",
            "1021       FREEZR         16\n",
            "1068          NAN         11\n",
            "1083      TRDMILL         16\n",
            "1095       UPRGHT         14\n",
            "1110        SOBRO         18\n",
            "1113      COMPACT         12\n",
            "1255        FLEXD         12\n",
            "1272         MCLN         27\n",
            "1327          COM         16\n",
            "1328       TREDML         17\n",
            "1368          RHF         14\n",
            "1374         GRAY         36\n",
            "1516          OLD         11\n",
            "1621         AMBL         12\n",
            "\n",
            "[228 rows x 2 columns]\n"
          ],
          "name": "stdout"
        }
      ]
    },
    {
      "cell_type": "code",
      "metadata": {
        "id": "6W0lmumMriVu",
        "colab_type": "code",
        "colab": {}
      },
      "source": [
        ""
      ],
      "execution_count": 0,
      "outputs": []
    },
    {
      "cell_type": "markdown",
      "metadata": {
        "id": "6oBT8PGhLJ3v",
        "colab_type": "text"
      },
      "source": [
        "#FEATURIZATION"
      ]
    },
    {
      "cell_type": "markdown",
      "metadata": {
        "id": "8rhT-R23RAFI",
        "colab_type": "text"
      },
      "source": [
        " ## 1) COUNT VECTORIZER\n",
        " \n",
        " LDA topic model algorithm requires a document word matrix as the main input.\n",
        "\n",
        "I have configured the CountVectorizer to consider words that has occurred at least 10 times (min_df), remove built-in english stopwords.\n",
        "So, to create the doc-word matrix, you need to first initialise the CountVectorizer class with the required configuration and then apply fit_transform to actually create the matrix.\n",
        "\n",
        "Since most cells contain zeros, the result will be in the form of a sparse matrix to save memory.\n",
        "\n",
        "If you want to materialize it in a 2D array format, call the todense() method of the sparse matrix like its done in the next step."
      ]
    },
    {
      "cell_type": "code",
      "metadata": {
        "id": "Vgj-JuXWLNYx",
        "colab_type": "code",
        "outputId": "6fb26b77-14e5-4536-f6d1-4af3d117d547",
        "colab": {
          "base_uri": "https://localhost:8080/",
          "height": 122
        }
      },
      "source": [
        "##Featurization using BOW\n",
        "from sklearn.feature_extraction.text import CountVectorizer\n",
        "vectorizer=CountVectorizer(min_df=20,stop_words='english',ngram_range=(2,2))\n",
        "vectorizer.fit(train_data_cleaned['Products'].values)\n",
        "print(\"some feature names \", vectorizer.get_feature_names()[:10])\n",
        "print('-'*100)\n",
        "\n",
        "data_vectorized=vectorizer.transform(train_data_cleaned['Products'].values)\n",
        "print(\"the type of count vectorizer \",type(data_vectorized))\n",
        "print(\"the shape of out text BOW vectorizer \",data_vectorized.get_shape())\n",
        "print(\"the number of unique words \", data_vectorized.get_shape()[1])"
      ],
      "execution_count": 0,
      "outputs": [
        {
          "output_type": "stream",
          "text": [
            "some feature names  ['ascenta dishwasher', 'bultin dishwr', 'chest freezer', 'chest frzr', 'coffee table', 'convection range', 'cst treadmill', 'door fridge', 'door ref', 'door refer']\n",
            "----------------------------------------------------------------------------------------------------\n",
            "the type of count vectorizer  <class 'scipy.sparse.csr.csr_matrix'>\n",
            "the shape of out text BOW vectorizer  (7511, 60)\n",
            "the number of unique words  60\n"
          ],
          "name": "stdout"
        }
      ]
    },
    {
      "cell_type": "markdown",
      "metadata": {
        "id": "71n0chq6RzlM",
        "colab_type": "text"
      },
      "source": [
        "##2) Check the Sparsicity"
      ]
    },
    {
      "cell_type": "code",
      "metadata": {
        "id": "h1b6hbXGRsHU",
        "colab_type": "code",
        "outputId": "a19cb3d5-8903-4ba0-b13c-ca1fe0dd7a75",
        "colab": {
          "base_uri": "https://localhost:8080/",
          "height": 34
        }
      },
      "source": [
        "data_dense=data_vectorized.todense()\n",
        "print(\"Sparsicity: \", ((data_dense > 0).sum()/data_dense.size)*100, \"%\")"
      ],
      "execution_count": 0,
      "outputs": [
        {
          "output_type": "stream",
          "text": [
            "Sparsicity:  1.8308631211857016 %\n"
          ],
          "name": "stdout"
        }
      ]
    },
    {
      "cell_type": "code",
      "metadata": {
        "id": "TYpvqvbdSk8q",
        "colab_type": "code",
        "outputId": "7a29f811-ba7a-430f-c300-64c540d3cd88",
        "colab": {
          "base_uri": "https://localhost:8080/",
          "height": 238
        }
      },
      "source": [
        "data_dense[0]"
      ],
      "execution_count": 0,
      "outputs": [
        {
          "output_type": "execute_result",
          "data": {
            "text/plain": [
              "matrix([[0, 0, 0, 0, 0, 0, 0, 0, 0, 0, 0, 0, 0, 0, 0, 0, 0, 0, 0, 0, 0,\n",
              "         0, 0, 0, 0, 0, 0, 0, 0, 0, 0, 0, 0, 0, 0, 0, 0, 0, 0, 0, 0, 0,\n",
              "         0, 0, 0, 0, 0, 0, 0, 0, 0, 0, 0, 0, 0, 0, 0, 0, 0, 0, 0, 0, 0,\n",
              "         0, 0, 0, 0, 0, 0, 0, 0, 0, 0, 0, 0, 0, 0, 0, 0, 0, 0, 0, 0, 0,\n",
              "         0, 0, 0, 0, 0, 0, 0, 0, 0, 0, 0, 0, 0, 0, 0, 0, 0, 0, 0, 0, 0,\n",
              "         0, 0, 0, 0, 0, 0, 0, 0, 0, 1, 0, 0, 0, 0, 0, 0, 0, 0, 0, 0, 0,\n",
              "         0, 0, 0, 0, 0, 0, 0, 0, 0, 0, 0, 0, 0, 0, 0, 0, 0, 0, 0, 0, 0,\n",
              "         0, 0, 0, 0, 0, 0, 0, 0, 0, 0, 0, 0, 0, 0, 0, 0, 0, 0, 0, 0, 0,\n",
              "         0, 0, 0, 0, 0, 0, 0, 0, 0, 0, 0, 0, 0, 0, 0, 0, 0, 0, 0, 0, 0,\n",
              "         0, 0, 0, 0, 0, 0, 0, 0, 0, 0, 0, 0, 0, 0, 0, 0, 0, 0, 0, 0, 0,\n",
              "         0, 0, 0, 0, 0, 0, 0, 0, 0, 0, 0, 0, 0, 0, 0, 0, 0, 0, 0, 0, 0,\n",
              "         0, 0, 0, 0, 0, 0, 0, 0, 0, 0, 0, 0, 0, 0, 0, 0, 0, 0, 0, 0, 0,\n",
              "         0, 0, 0, 0, 0, 0, 0, 1, 0]])"
            ]
          },
          "metadata": {
            "tags": []
          },
          "execution_count": 91
        }
      ]
    },
    {
      "cell_type": "code",
      "metadata": {
        "id": "Mv3jO6JCGXXh",
        "colab_type": "code",
        "outputId": "ad192161-727e-4855-b296-c599b5d3b16a",
        "colab": {
          "base_uri": "https://localhost:8080/",
          "height": 136
        }
      },
      "source": [
        "from sklearn.decomposition import LatentDirichletAllocation\n",
        "# Build LDA Model\n",
        "lda_model = LatentDirichletAllocation(n_components=8,               # Number of topics\n",
        "                                      max_iter=10,               # Max learning iterations\n",
        "                                      learning_method='online',   \n",
        "                                      random_state=100,          # Random state\n",
        "                                      batch_size=128,            # n docs in each learning iter\n",
        "                                      evaluate_every = -1,       # compute perplexity every n iters, default: Don't\n",
        "                                      n_jobs = -1,               # Use all available CPUs\n",
        "                                     )\n",
        "lda_output = lda_model.fit_transform(data_vectorized)\n",
        "\n",
        "print(lda_model)  # Model attributes"
      ],
      "execution_count": 0,
      "outputs": [
        {
          "output_type": "stream",
          "text": [
            "LatentDirichletAllocation(batch_size=128, doc_topic_prior=None,\n",
            "                          evaluate_every=-1, learning_decay=0.7,\n",
            "                          learning_method='online', learning_offset=10.0,\n",
            "                          max_doc_update_iter=100, max_iter=10,\n",
            "                          mean_change_tol=0.001, n_components=8, n_jobs=-1,\n",
            "                          perp_tol=0.1, random_state=100, topic_word_prior=None,\n",
            "                          total_samples=1000000.0, verbose=0)\n"
          ],
          "name": "stdout"
        }
      ]
    },
    {
      "cell_type": "markdown",
      "metadata": {
        "id": "WQwc0-BjUIwn",
        "colab_type": "text"
      },
      "source": [
        "##3)  Diagnose model performance with perplexity and log-likelihood\n",
        "A model with higher log-likelihood and lower perplexity (exp(-1. * log-likelihood per word)) is considered to be good. Let’s check for our model."
      ]
    },
    {
      "cell_type": "code",
      "metadata": {
        "id": "AKmWbjJMUQAf",
        "colab_type": "code",
        "outputId": "d6298099-5e61-4eaa-8697-e324aaef4a72",
        "colab": {
          "base_uri": "https://localhost:8080/",
          "height": 88
        }
      },
      "source": [
        "# Log Likelyhood: Higher the better\n",
        "print(\"Log Likelihood: \", lda_model.score(data_vectorized))\n",
        "\n",
        "\n",
        "# Perplexity: Lower the better. Perplexity = exp(-1. * log-likelihood per word)\n",
        "print(\"Perplexity: \", lda_model.perplexity(data_vectorized))\n",
        "\n",
        "# See model parameters\n",
        "print(lda_model.get_params())"
      ],
      "execution_count": 0,
      "outputs": [
        {
          "output_type": "stream",
          "text": [
            "Log Likelihood:  -9950.94481841906\n",
            "Perplexity:  56.0062400643129\n",
            "{'batch_size': 128, 'doc_topic_prior': None, 'evaluate_every': -1, 'learning_decay': 0.7, 'learning_method': 'online', 'learning_offset': 10.0, 'max_doc_update_iter': 100, 'max_iter': 10, 'mean_change_tol': 0.001, 'n_components': 8, 'n_jobs': -1, 'perp_tol': 0.1, 'random_state': 100, 'topic_word_prior': None, 'total_samples': 1000000.0, 'verbose': 0}\n"
          ],
          "name": "stdout"
        }
      ]
    },
    {
      "cell_type": "markdown",
      "metadata": {
        "id": "2EWBzMc2UiPG",
        "colab_type": "text"
      },
      "source": [
        "#4)How to GridSearch the best LDA model?\n",
        "\n",
        "The most important tuning parameter for LDA models is n_components (number of topics). In addition, I am going to search learning_decay (which controls the learning rate) as well.\n",
        "\n",
        "Besides these, other possible search params could be learning_offset (downweigh early iterations. Should be > 1) and max_iter. These could be worth experimenting if you have enough computing resources.\n",
        "\n",
        "Be warned, the grid search constructs multiple LDA models for all possible combinations of param values in the param_grid dict. So, this process can consume a lot of time and resources.\n",
        "\n"
      ]
    },
    {
      "cell_type": "code",
      "metadata": {
        "id": "5LIGaYLhUg57",
        "colab_type": "code",
        "outputId": "92581cf0-74a5-42cf-a82b-e4bc9ba4d83f",
        "colab": {
          "base_uri": "https://localhost:8080/",
          "height": 428
        }
      },
      "source": [
        "from sklearn.model_selection import GridSearchCV\n",
        "# Define Search Param\n",
        "search_params = {'n_components': [10, 15, 20, 25, 30], 'learning_decay': [.5, .7, .9]}\n",
        "\n",
        "# Init the Model\n",
        "lda = LatentDirichletAllocation()\n",
        "\n",
        "# Init Grid Search Class\n",
        "model = GridSearchCV(lda, param_grid=search_params)\n",
        "\n",
        "# Do the Grid Search\n",
        "model.fit(data_vectorized)"
      ],
      "execution_count": 0,
      "outputs": [
        {
          "output_type": "stream",
          "text": [
            "/usr/local/lib/python3.6/dist-packages/sklearn/model_selection/_split.py:1978: FutureWarning: The default value of cv will change from 3 to 5 in version 0.22. Specify it explicitly to silence this warning.\n",
            "  warnings.warn(CV_WARNING, FutureWarning)\n"
          ],
          "name": "stderr"
        },
        {
          "output_type": "execute_result",
          "data": {
            "text/plain": [
              "GridSearchCV(cv='warn', error_score='raise-deprecating',\n",
              "             estimator=LatentDirichletAllocation(batch_size=128,\n",
              "                                                 doc_topic_prior=None,\n",
              "                                                 evaluate_every=-1,\n",
              "                                                 learning_decay=0.7,\n",
              "                                                 learning_method='batch',\n",
              "                                                 learning_offset=10.0,\n",
              "                                                 max_doc_update_iter=100,\n",
              "                                                 max_iter=10,\n",
              "                                                 mean_change_tol=0.001,\n",
              "                                                 n_components=10, n_jobs=None,\n",
              "                                                 perp_tol=0.1,\n",
              "                                                 random_state=None,\n",
              "                                                 topic_word_prior=None,\n",
              "                                                 total_samples=1000000.0,\n",
              "                                                 verbose=0),\n",
              "             iid='warn', n_jobs=None,\n",
              "             param_grid={'learning_decay': [0.5, 0.7, 0.9],\n",
              "                         'n_components': [10, 15, 20, 25, 30]},\n",
              "             pre_dispatch='2*n_jobs', refit=True, return_train_score=False,\n",
              "             scoring=None, verbose=0)"
            ]
          },
          "metadata": {
            "tags": []
          },
          "execution_count": 159
        }
      ]
    },
    {
      "cell_type": "code",
      "metadata": {
        "id": "6XdDbzVzWn2e",
        "colab_type": "code",
        "outputId": "8746b36c-cd01-4837-a023-d26563768d5d",
        "colab": {
          "base_uri": "https://localhost:8080/",
          "height": 68
        }
      },
      "source": [
        "# Best Model\n",
        "best_lda_model = model.best_estimator_\n",
        "\n",
        "# Model Parameters\n",
        "print(\"Best Model's Params: \", model.best_params_)\n",
        "\n",
        "# Log Likelihood Score\n",
        "print(\"Best Log Likelihood Score: \", model.best_score_)\n",
        "\n",
        "# Perplexity\n",
        "print(\"Model Perplexity: \", best_lda_model.perplexity(data_vectorized))"
      ],
      "execution_count": 0,
      "outputs": [
        {
          "output_type": "stream",
          "text": [
            "Best Model's Params:  {'learning_decay': 0.9, 'n_components': 10}\n",
            "Best Log Likelihood Score:  -3629.304580192886\n",
            "Model Perplexity:  55.09668787904666\n"
          ],
          "name": "stdout"
        }
      ]
    },
    {
      "cell_type": "code",
      "metadata": {
        "id": "qaXgRf4hWRRb",
        "colab_type": "code",
        "outputId": "7ce11e19-e62f-4f79-8b45-1258e34f12ee",
        "colab": {
          "base_uri": "https://localhost:8080/",
          "height": 241
        }
      },
      "source": [
        "# Topic-Keyword Matrix\n",
        "df_topic_keywords = pd.DataFrame(best_lda_model.components_)\n",
        "\n",
        "# Assign Column and Index\n",
        "df_topic_keywords.columns = vectorizer.get_feature_names()\n",
        "\n",
        "# View\n",
        "df_topic_keywords.head()"
      ],
      "execution_count": 0,
      "outputs": [
        {
          "output_type": "execute_result",
          "data": {
            "text/html": [
              "<div>\n",
              "<style scoped>\n",
              "    .dataframe tbody tr th:only-of-type {\n",
              "        vertical-align: middle;\n",
              "    }\n",
              "\n",
              "    .dataframe tbody tr th {\n",
              "        vertical-align: top;\n",
              "    }\n",
              "\n",
              "    .dataframe thead th {\n",
              "        text-align: right;\n",
              "    }\n",
              "</style>\n",
              "<table border=\"1\" class=\"dataframe\">\n",
              "  <thead>\n",
              "    <tr style=\"text-align: right;\">\n",
              "      <th></th>\n",
              "      <th>ascenta dishwasher</th>\n",
              "      <th>bultin dishwr</th>\n",
              "      <th>chest freezer</th>\n",
              "      <th>chest frzr</th>\n",
              "      <th>coffee table</th>\n",
              "      <th>convection range</th>\n",
              "      <th>cst treadmill</th>\n",
              "      <th>door fridge</th>\n",
              "      <th>door ref</th>\n",
              "      <th>door refer</th>\n",
              "      <th>dryerdryer duct</th>\n",
              "      <th>dryerfront load</th>\n",
              "      <th>dryersteam washer</th>\n",
              "      <th>dryertop load</th>\n",
              "      <th>ele range</th>\n",
              "      <th>elec dryer</th>\n",
              "      <th>elec range</th>\n",
              "      <th>elec rng</th>\n",
              "      <th>elec rnge</th>\n",
              "      <th>elec stem</th>\n",
              "      <th>french door</th>\n",
              "      <th>fridge frnch</th>\n",
              "      <th>frnch fridge</th>\n",
              "      <th>frnt load</th>\n",
              "      <th>gas range</th>\n",
              "      <th>hosesdryer duct</th>\n",
              "      <th>integrated dishwasher</th>\n",
              "      <th>laundry center</th>\n",
              "      <th>load washer</th>\n",
              "      <th>load wshr</th>\n",
              "      <th>mclean elec</th>\n",
              "      <th>mcln ele</th>\n",
              "      <th>mnt frdg</th>\n",
              "      <th>mnt fridge</th>\n",
              "      <th>mount fridge</th>\n",
              "      <th>mount refr</th>\n",
              "      <th>oled tv</th>\n",
              "      <th>otr microwave</th>\n",
              "      <th>quadwash dishwasher</th>\n",
              "      <th>scp dishwsh</th>\n",
              "      <th>semi integrated</th>\n",
              "      <th>smart tv</th>\n",
              "      <th>stainless steel</th>\n",
              "      <th>steam dryer</th>\n",
              "      <th>steam washer</th>\n",
              "      <th>steam washerdryer</th>\n",
              "      <th>steam washrelec</th>\n",
              "      <th>steel hoses</th>\n",
              "      <th>steel hosesdryer</th>\n",
              "      <th>stem dryr</th>\n",
              "      <th>stem dryrsteam</th>\n",
              "      <th>tall tub</th>\n",
              "      <th>theframe tv</th>\n",
              "      <th>true convection</th>\n",
              "      <th>tub dish</th>\n",
              "      <th>upright frzr</th>\n",
              "      <th>wall oven</th>\n",
              "      <th>washer dryer</th>\n",
              "      <th>washersteel hoses</th>\n",
              "      <th>washrelec stem</th>\n",
              "    </tr>\n",
              "  </thead>\n",
              "  <tbody>\n",
              "    <tr>\n",
              "      <th>0</th>\n",
              "      <td>26.1</td>\n",
              "      <td>0.1</td>\n",
              "      <td>0.1</td>\n",
              "      <td>45.1</td>\n",
              "      <td>0.1</td>\n",
              "      <td>0.1</td>\n",
              "      <td>0.1</td>\n",
              "      <td>35.099997</td>\n",
              "      <td>25.099998</td>\n",
              "      <td>0.1</td>\n",
              "      <td>0.100001</td>\n",
              "      <td>0.100002</td>\n",
              "      <td>0.1</td>\n",
              "      <td>0.100000</td>\n",
              "      <td>0.1</td>\n",
              "      <td>0.1</td>\n",
              "      <td>0.100000</td>\n",
              "      <td>0.1</td>\n",
              "      <td>0.1</td>\n",
              "      <td>0.1</td>\n",
              "      <td>76.100332</td>\n",
              "      <td>0.1</td>\n",
              "      <td>0.1</td>\n",
              "      <td>0.1</td>\n",
              "      <td>0.1</td>\n",
              "      <td>0.100000</td>\n",
              "      <td>0.100001</td>\n",
              "      <td>45.1</td>\n",
              "      <td>0.100000</td>\n",
              "      <td>0.100001</td>\n",
              "      <td>0.100000</td>\n",
              "      <td>0.100000</td>\n",
              "      <td>0.100000</td>\n",
              "      <td>0.1</td>\n",
              "      <td>0.1</td>\n",
              "      <td>0.100000</td>\n",
              "      <td>0.1</td>\n",
              "      <td>0.100001</td>\n",
              "      <td>0.1</td>\n",
              "      <td>0.1</td>\n",
              "      <td>0.100001</td>\n",
              "      <td>0.1</td>\n",
              "      <td>0.100003</td>\n",
              "      <td>0.100000</td>\n",
              "      <td>0.1</td>\n",
              "      <td>27.1</td>\n",
              "      <td>0.1</td>\n",
              "      <td>32.099978</td>\n",
              "      <td>0.100000</td>\n",
              "      <td>0.1</td>\n",
              "      <td>0.100001</td>\n",
              "      <td>0.100000</td>\n",
              "      <td>0.1</td>\n",
              "      <td>0.100002</td>\n",
              "      <td>0.1</td>\n",
              "      <td>0.1</td>\n",
              "      <td>0.1</td>\n",
              "      <td>0.100000</td>\n",
              "      <td>0.100000</td>\n",
              "      <td>0.1</td>\n",
              "    </tr>\n",
              "    <tr>\n",
              "      <th>1</th>\n",
              "      <td>0.1</td>\n",
              "      <td>0.1</td>\n",
              "      <td>0.1</td>\n",
              "      <td>0.1</td>\n",
              "      <td>0.1</td>\n",
              "      <td>0.1</td>\n",
              "      <td>0.1</td>\n",
              "      <td>0.100000</td>\n",
              "      <td>0.100000</td>\n",
              "      <td>0.1</td>\n",
              "      <td>0.100000</td>\n",
              "      <td>0.100002</td>\n",
              "      <td>0.1</td>\n",
              "      <td>0.100000</td>\n",
              "      <td>0.1</td>\n",
              "      <td>0.1</td>\n",
              "      <td>0.100000</td>\n",
              "      <td>0.1</td>\n",
              "      <td>0.1</td>\n",
              "      <td>0.1</td>\n",
              "      <td>0.100000</td>\n",
              "      <td>30.1</td>\n",
              "      <td>0.1</td>\n",
              "      <td>0.1</td>\n",
              "      <td>0.1</td>\n",
              "      <td>0.100000</td>\n",
              "      <td>0.100000</td>\n",
              "      <td>0.1</td>\n",
              "      <td>0.100000</td>\n",
              "      <td>0.100000</td>\n",
              "      <td>0.100001</td>\n",
              "      <td>0.100003</td>\n",
              "      <td>139.099999</td>\n",
              "      <td>0.1</td>\n",
              "      <td>81.1</td>\n",
              "      <td>0.100000</td>\n",
              "      <td>0.1</td>\n",
              "      <td>0.100000</td>\n",
              "      <td>0.1</td>\n",
              "      <td>0.1</td>\n",
              "      <td>0.100002</td>\n",
              "      <td>0.1</td>\n",
              "      <td>0.100000</td>\n",
              "      <td>0.100000</td>\n",
              "      <td>0.1</td>\n",
              "      <td>0.1</td>\n",
              "      <td>0.1</td>\n",
              "      <td>0.100000</td>\n",
              "      <td>0.100000</td>\n",
              "      <td>0.1</td>\n",
              "      <td>0.100000</td>\n",
              "      <td>0.100000</td>\n",
              "      <td>0.1</td>\n",
              "      <td>0.100000</td>\n",
              "      <td>0.1</td>\n",
              "      <td>0.1</td>\n",
              "      <td>0.1</td>\n",
              "      <td>0.100000</td>\n",
              "      <td>32.099997</td>\n",
              "      <td>0.1</td>\n",
              "    </tr>\n",
              "    <tr>\n",
              "      <th>2</th>\n",
              "      <td>0.1</td>\n",
              "      <td>28.1</td>\n",
              "      <td>0.1</td>\n",
              "      <td>0.1</td>\n",
              "      <td>0.1</td>\n",
              "      <td>0.1</td>\n",
              "      <td>0.1</td>\n",
              "      <td>0.100000</td>\n",
              "      <td>0.100000</td>\n",
              "      <td>0.1</td>\n",
              "      <td>0.100001</td>\n",
              "      <td>0.100000</td>\n",
              "      <td>0.1</td>\n",
              "      <td>0.100001</td>\n",
              "      <td>0.1</td>\n",
              "      <td>0.1</td>\n",
              "      <td>0.100000</td>\n",
              "      <td>0.1</td>\n",
              "      <td>0.1</td>\n",
              "      <td>0.1</td>\n",
              "      <td>0.100000</td>\n",
              "      <td>0.1</td>\n",
              "      <td>0.1</td>\n",
              "      <td>0.1</td>\n",
              "      <td>0.1</td>\n",
              "      <td>0.100001</td>\n",
              "      <td>0.100000</td>\n",
              "      <td>0.1</td>\n",
              "      <td>0.100001</td>\n",
              "      <td>0.100000</td>\n",
              "      <td>0.100004</td>\n",
              "      <td>0.100000</td>\n",
              "      <td>0.100000</td>\n",
              "      <td>0.1</td>\n",
              "      <td>0.1</td>\n",
              "      <td>102.099999</td>\n",
              "      <td>0.1</td>\n",
              "      <td>0.100000</td>\n",
              "      <td>0.1</td>\n",
              "      <td>0.1</td>\n",
              "      <td>0.100000</td>\n",
              "      <td>0.1</td>\n",
              "      <td>38.099988</td>\n",
              "      <td>0.100000</td>\n",
              "      <td>0.1</td>\n",
              "      <td>0.1</td>\n",
              "      <td>0.1</td>\n",
              "      <td>0.100009</td>\n",
              "      <td>0.100009</td>\n",
              "      <td>0.1</td>\n",
              "      <td>0.100000</td>\n",
              "      <td>0.100000</td>\n",
              "      <td>0.1</td>\n",
              "      <td>0.100000</td>\n",
              "      <td>0.1</td>\n",
              "      <td>0.1</td>\n",
              "      <td>24.1</td>\n",
              "      <td>0.100000</td>\n",
              "      <td>0.100000</td>\n",
              "      <td>0.1</td>\n",
              "    </tr>\n",
              "    <tr>\n",
              "      <th>3</th>\n",
              "      <td>0.1</td>\n",
              "      <td>0.1</td>\n",
              "      <td>89.1</td>\n",
              "      <td>0.1</td>\n",
              "      <td>0.1</td>\n",
              "      <td>0.1</td>\n",
              "      <td>0.1</td>\n",
              "      <td>0.100000</td>\n",
              "      <td>0.100000</td>\n",
              "      <td>0.1</td>\n",
              "      <td>0.100000</td>\n",
              "      <td>24.099986</td>\n",
              "      <td>0.1</td>\n",
              "      <td>0.100001</td>\n",
              "      <td>0.1</td>\n",
              "      <td>0.1</td>\n",
              "      <td>0.100004</td>\n",
              "      <td>0.1</td>\n",
              "      <td>0.1</td>\n",
              "      <td>0.1</td>\n",
              "      <td>0.100000</td>\n",
              "      <td>0.1</td>\n",
              "      <td>0.1</td>\n",
              "      <td>0.1</td>\n",
              "      <td>0.1</td>\n",
              "      <td>0.100000</td>\n",
              "      <td>0.100000</td>\n",
              "      <td>0.1</td>\n",
              "      <td>0.100005</td>\n",
              "      <td>0.100000</td>\n",
              "      <td>26.099985</td>\n",
              "      <td>0.100000</td>\n",
              "      <td>0.100000</td>\n",
              "      <td>0.1</td>\n",
              "      <td>0.1</td>\n",
              "      <td>0.100001</td>\n",
              "      <td>0.1</td>\n",
              "      <td>0.100000</td>\n",
              "      <td>0.1</td>\n",
              "      <td>0.1</td>\n",
              "      <td>0.100000</td>\n",
              "      <td>0.1</td>\n",
              "      <td>0.100000</td>\n",
              "      <td>21.099999</td>\n",
              "      <td>0.1</td>\n",
              "      <td>0.1</td>\n",
              "      <td>0.1</td>\n",
              "      <td>0.100003</td>\n",
              "      <td>0.100001</td>\n",
              "      <td>0.1</td>\n",
              "      <td>0.100000</td>\n",
              "      <td>37.099997</td>\n",
              "      <td>0.1</td>\n",
              "      <td>0.100000</td>\n",
              "      <td>22.1</td>\n",
              "      <td>0.1</td>\n",
              "      <td>0.1</td>\n",
              "      <td>0.100000</td>\n",
              "      <td>0.100002</td>\n",
              "      <td>0.1</td>\n",
              "    </tr>\n",
              "    <tr>\n",
              "      <th>4</th>\n",
              "      <td>0.1</td>\n",
              "      <td>0.1</td>\n",
              "      <td>0.1</td>\n",
              "      <td>0.1</td>\n",
              "      <td>0.1</td>\n",
              "      <td>0.1</td>\n",
              "      <td>37.1</td>\n",
              "      <td>0.100000</td>\n",
              "      <td>0.100000</td>\n",
              "      <td>0.1</td>\n",
              "      <td>0.100000</td>\n",
              "      <td>0.100000</td>\n",
              "      <td>0.1</td>\n",
              "      <td>0.100003</td>\n",
              "      <td>0.1</td>\n",
              "      <td>0.1</td>\n",
              "      <td>0.100000</td>\n",
              "      <td>0.1</td>\n",
              "      <td>0.1</td>\n",
              "      <td>0.1</td>\n",
              "      <td>0.100000</td>\n",
              "      <td>0.1</td>\n",
              "      <td>0.1</td>\n",
              "      <td>0.1</td>\n",
              "      <td>0.1</td>\n",
              "      <td>0.100000</td>\n",
              "      <td>0.100000</td>\n",
              "      <td>0.1</td>\n",
              "      <td>0.100001</td>\n",
              "      <td>0.100000</td>\n",
              "      <td>0.100000</td>\n",
              "      <td>0.100000</td>\n",
              "      <td>0.100000</td>\n",
              "      <td>95.1</td>\n",
              "      <td>0.1</td>\n",
              "      <td>0.100000</td>\n",
              "      <td>0.1</td>\n",
              "      <td>0.100000</td>\n",
              "      <td>0.1</td>\n",
              "      <td>0.1</td>\n",
              "      <td>0.100000</td>\n",
              "      <td>0.1</td>\n",
              "      <td>0.100000</td>\n",
              "      <td>0.100000</td>\n",
              "      <td>0.1</td>\n",
              "      <td>0.1</td>\n",
              "      <td>0.1</td>\n",
              "      <td>0.100000</td>\n",
              "      <td>0.100000</td>\n",
              "      <td>0.1</td>\n",
              "      <td>0.100000</td>\n",
              "      <td>0.100001</td>\n",
              "      <td>0.1</td>\n",
              "      <td>0.100000</td>\n",
              "      <td>0.1</td>\n",
              "      <td>22.1</td>\n",
              "      <td>0.1</td>\n",
              "      <td>35.099998</td>\n",
              "      <td>0.100000</td>\n",
              "      <td>0.1</td>\n",
              "    </tr>\n",
              "  </tbody>\n",
              "</table>\n",
              "</div>"
            ],
            "text/plain": [
              "   ascenta dishwasher  bultin dishwr  ...  washersteel hoses  washrelec stem\n",
              "0                26.1            0.1  ...           0.100000             0.1\n",
              "1                 0.1            0.1  ...          32.099997             0.1\n",
              "2                 0.1           28.1  ...           0.100000             0.1\n",
              "3                 0.1            0.1  ...           0.100002             0.1\n",
              "4                 0.1            0.1  ...           0.100000             0.1\n",
              "\n",
              "[5 rows x 60 columns]"
            ]
          },
          "metadata": {
            "tags": []
          },
          "execution_count": 161
        }
      ]
    },
    {
      "cell_type": "code",
      "metadata": {
        "id": "dJhAH9Z3W1vZ",
        "colab_type": "code",
        "outputId": "96fbadfa-8110-4711-8df9-402655542866",
        "colab": {
          "base_uri": "https://localhost:8080/",
          "height": 566
        }
      },
      "source": [
        "import numpy as np\n",
        "# Show top n keywords for each topic\n",
        "def show_topics(vectorizer=vectorizer, lda_model=lda_model, n_words=20):\n",
        "    keywords = np.array(vectorizer.get_feature_names())\n",
        "    topic_keywords = []\n",
        "    for topic_weights in lda_model.components_:\n",
        "        top_keyword_locs = (-topic_weights).argsort()[:n_words]\n",
        "        topic_keywords.append(keywords.take(top_keyword_locs))\n",
        "    return topic_keywords\n",
        "\n",
        "topic_keywords = show_topics(vectorizer=vectorizer, lda_model=best_lda_model, n_words=15)        \n",
        "\n",
        "# Topic - Keywords Dataframe\n",
        "df_topic_keywords = pd.DataFrame(topic_keywords)\n",
        "df_topic_keywords.columns = ['Word '+str(i) for i in range(df_topic_keywords.shape[1])]\n",
        "df_topic_keywords.index = ['Topic '+str(i) for i in range(df_topic_keywords.shape[0])]\n",
        "df_topic_keywords"
      ],
      "execution_count": 0,
      "outputs": [
        {
          "output_type": "execute_result",
          "data": {
            "text/html": [
              "<div>\n",
              "<style scoped>\n",
              "    .dataframe tbody tr th:only-of-type {\n",
              "        vertical-align: middle;\n",
              "    }\n",
              "\n",
              "    .dataframe tbody tr th {\n",
              "        vertical-align: top;\n",
              "    }\n",
              "\n",
              "    .dataframe thead th {\n",
              "        text-align: right;\n",
              "    }\n",
              "</style>\n",
              "<table border=\"1\" class=\"dataframe\">\n",
              "  <thead>\n",
              "    <tr style=\"text-align: right;\">\n",
              "      <th></th>\n",
              "      <th>Word 0</th>\n",
              "      <th>Word 1</th>\n",
              "      <th>Word 2</th>\n",
              "      <th>Word 3</th>\n",
              "      <th>Word 4</th>\n",
              "      <th>Word 5</th>\n",
              "      <th>Word 6</th>\n",
              "      <th>Word 7</th>\n",
              "      <th>Word 8</th>\n",
              "      <th>Word 9</th>\n",
              "      <th>Word 10</th>\n",
              "      <th>Word 11</th>\n",
              "      <th>Word 12</th>\n",
              "      <th>Word 13</th>\n",
              "      <th>Word 14</th>\n",
              "    </tr>\n",
              "  </thead>\n",
              "  <tbody>\n",
              "    <tr>\n",
              "      <th>Topic 0</th>\n",
              "      <td>french door</td>\n",
              "      <td>chest frzr</td>\n",
              "      <td>laundry center</td>\n",
              "      <td>door fridge</td>\n",
              "      <td>steel hoses</td>\n",
              "      <td>steam washerdryer</td>\n",
              "      <td>ascenta dishwasher</td>\n",
              "      <td>door ref</td>\n",
              "      <td>stainless steel</td>\n",
              "      <td>dryerfront load</td>\n",
              "      <td>true convection</td>\n",
              "      <td>semi integrated</td>\n",
              "      <td>stem dryrsteam</td>\n",
              "      <td>integrated dishwasher</td>\n",
              "      <td>dryerdryer duct</td>\n",
              "    </tr>\n",
              "    <tr>\n",
              "      <th>Topic 1</th>\n",
              "      <td>mnt frdg</td>\n",
              "      <td>mount fridge</td>\n",
              "      <td>washersteel hoses</td>\n",
              "      <td>fridge frnch</td>\n",
              "      <td>mcln ele</td>\n",
              "      <td>semi integrated</td>\n",
              "      <td>dryerfront load</td>\n",
              "      <td>mclean elec</td>\n",
              "      <td>steel hosesdryer</td>\n",
              "      <td>oled tv</td>\n",
              "      <td>elec range</td>\n",
              "      <td>french door</td>\n",
              "      <td>frnch fridge</td>\n",
              "      <td>ascenta dishwasher</td>\n",
              "      <td>steam washerdryer</td>\n",
              "    </tr>\n",
              "    <tr>\n",
              "      <th>Topic 2</th>\n",
              "      <td>mount refr</td>\n",
              "      <td>stainless steel</td>\n",
              "      <td>bultin dishwr</td>\n",
              "      <td>wall oven</td>\n",
              "      <td>steel hosesdryer</td>\n",
              "      <td>steel hoses</td>\n",
              "      <td>mclean elec</td>\n",
              "      <td>load washer</td>\n",
              "      <td>dryerdryer duct</td>\n",
              "      <td>dryertop load</td>\n",
              "      <td>hosesdryer duct</td>\n",
              "      <td>washrelec stem</td>\n",
              "      <td>stem dryr</td>\n",
              "      <td>oled tv</td>\n",
              "      <td>elec range</td>\n",
              "    </tr>\n",
              "    <tr>\n",
              "      <th>Topic 3</th>\n",
              "      <td>chest freezer</td>\n",
              "      <td>tall tub</td>\n",
              "      <td>mclean elec</td>\n",
              "      <td>dryerfront load</td>\n",
              "      <td>tub dish</td>\n",
              "      <td>steam dryer</td>\n",
              "      <td>load washer</td>\n",
              "      <td>elec range</td>\n",
              "      <td>steel hoses</td>\n",
              "      <td>washersteel hoses</td>\n",
              "      <td>steel hosesdryer</td>\n",
              "      <td>dryertop load</td>\n",
              "      <td>mount refr</td>\n",
              "      <td>mount fridge</td>\n",
              "      <td>load wshr</td>\n",
              "    </tr>\n",
              "    <tr>\n",
              "      <th>Topic 4</th>\n",
              "      <td>mnt fridge</td>\n",
              "      <td>cst treadmill</td>\n",
              "      <td>washer dryer</td>\n",
              "      <td>upright frzr</td>\n",
              "      <td>dryertop load</td>\n",
              "      <td>load washer</td>\n",
              "      <td>tall tub</td>\n",
              "      <td>steel hosesdryer</td>\n",
              "      <td>oled tv</td>\n",
              "      <td>elec range</td>\n",
              "      <td>french door</td>\n",
              "      <td>frnch fridge</td>\n",
              "      <td>ascenta dishwasher</td>\n",
              "      <td>steam washerdryer</td>\n",
              "      <td>smart tv</td>\n",
              "    </tr>\n",
              "    <tr>\n",
              "      <th>Topic 5</th>\n",
              "      <td>load washer</td>\n",
              "      <td>smart tv</td>\n",
              "      <td>true convection</td>\n",
              "      <td>integrated dishwasher</td>\n",
              "      <td>convection range</td>\n",
              "      <td>frnch fridge</td>\n",
              "      <td>semi integrated</td>\n",
              "      <td>dryerfront load</td>\n",
              "      <td>dryertop load</td>\n",
              "      <td>door fridge</td>\n",
              "      <td>stainless steel</td>\n",
              "      <td>washer dryer</td>\n",
              "      <td>steel hoses</td>\n",
              "      <td>washersteel hoses</td>\n",
              "      <td>otr microwave</td>\n",
              "    </tr>\n",
              "    <tr>\n",
              "      <th>Topic 6</th>\n",
              "      <td>gas range</td>\n",
              "      <td>elec rnge</td>\n",
              "      <td>dryersteam washer</td>\n",
              "      <td>elec stem</td>\n",
              "      <td>stem dryrsteam</td>\n",
              "      <td>quadwash dishwasher</td>\n",
              "      <td>stem dryr</td>\n",
              "      <td>steel hoses</td>\n",
              "      <td>hosesdryer duct</td>\n",
              "      <td>steel hosesdryer</td>\n",
              "      <td>load wshr</td>\n",
              "      <td>oled tv</td>\n",
              "      <td>elec range</td>\n",
              "      <td>french door</td>\n",
              "      <td>frnch fridge</td>\n",
              "    </tr>\n",
              "    <tr>\n",
              "      <th>Topic 7</th>\n",
              "      <td>elec range</td>\n",
              "      <td>stem dryr</td>\n",
              "      <td>hosesdryer duct</td>\n",
              "      <td>oled tv</td>\n",
              "      <td>washrelec stem</td>\n",
              "      <td>steam washrelec</td>\n",
              "      <td>steel hosesdryer</td>\n",
              "      <td>mclean elec</td>\n",
              "      <td>stainless steel</td>\n",
              "      <td>elec stem</td>\n",
              "      <td>frnt load</td>\n",
              "      <td>stem dryrsteam</td>\n",
              "      <td>french door</td>\n",
              "      <td>frnch fridge</td>\n",
              "      <td>ascenta dishwasher</td>\n",
              "    </tr>\n",
              "    <tr>\n",
              "      <th>Topic 8</th>\n",
              "      <td>load wshr</td>\n",
              "      <td>elec dryer</td>\n",
              "      <td>otr microwave</td>\n",
              "      <td>scp dishwsh</td>\n",
              "      <td>frnt load</td>\n",
              "      <td>door refer</td>\n",
              "      <td>french door</td>\n",
              "      <td>dryertop load</td>\n",
              "      <td>steel hoses</td>\n",
              "      <td>steel hosesdryer</td>\n",
              "      <td>door ref</td>\n",
              "      <td>convection range</td>\n",
              "      <td>hosesdryer duct</td>\n",
              "      <td>stem dryrsteam</td>\n",
              "      <td>tall tub</td>\n",
              "    </tr>\n",
              "    <tr>\n",
              "      <th>Topic 9</th>\n",
              "      <td>elec rng</td>\n",
              "      <td>dryertop load</td>\n",
              "      <td>dryerdryer duct</td>\n",
              "      <td>mcln ele</td>\n",
              "      <td>ele range</td>\n",
              "      <td>steel hosesdryer</td>\n",
              "      <td>steam washer</td>\n",
              "      <td>theframe tv</td>\n",
              "      <td>coffee table</td>\n",
              "      <td>load wshr</td>\n",
              "      <td>load washer</td>\n",
              "      <td>stainless steel</td>\n",
              "      <td>stem dryrsteam</td>\n",
              "      <td>washer dryer</td>\n",
              "      <td>steam dryer</td>\n",
              "    </tr>\n",
              "  </tbody>\n",
              "</table>\n",
              "</div>"
            ],
            "text/plain": [
              "                Word 0  ...             Word 14\n",
              "Topic 0    french door  ...     dryerdryer duct\n",
              "Topic 1       mnt frdg  ...   steam washerdryer\n",
              "Topic 2     mount refr  ...          elec range\n",
              "Topic 3  chest freezer  ...           load wshr\n",
              "Topic 4     mnt fridge  ...            smart tv\n",
              "Topic 5    load washer  ...       otr microwave\n",
              "Topic 6      gas range  ...        frnch fridge\n",
              "Topic 7     elec range  ...  ascenta dishwasher\n",
              "Topic 8      load wshr  ...            tall tub\n",
              "Topic 9       elec rng  ...         steam dryer\n",
              "\n",
              "[10 rows x 15 columns]"
            ]
          },
          "metadata": {
            "tags": []
          },
          "execution_count": 162
        }
      ]
    },
    {
      "cell_type": "markdown",
      "metadata": {
        "id": "SKeN2UZf7csl",
        "colab_type": "text"
      },
      "source": [
        "# USING K MEANS CLUSTERING"
      ]
    },
    {
      "cell_type": "code",
      "metadata": {
        "id": "kCSgkT3m7fCv",
        "colab_type": "code",
        "outputId": "993af752-e8be-4709-fe20-d7b17e32710c",
        "colab": {
          "base_uri": "https://localhost:8080/",
          "height": 295
        }
      },
      "source": [
        "import matplotlib.pyplot as plt\n",
        "from sklearn.cluster import KMeans\n",
        "wcss = []\n",
        "for i in range(1,11):\n",
        "    kmeans = KMeans(n_clusters=i,init='k-means++',max_iter=300,n_init=10,random_state=0)\n",
        "    kmeans.fit(data_vectorized)\n",
        "    wcss.append(kmeans.inertia_)\n",
        "plt.plot(range(1,11),wcss)\n",
        "plt.title('The Elbow Method')\n",
        "plt.xlabel('Number of clusters')\n",
        "plt.ylabel('WCSS')\n",
        "plt.savefig('elbow.png')\n",
        "plt.show()"
      ],
      "execution_count": 0,
      "outputs": [
        {
          "output_type": "display_data",
          "data": {
            "image/png": "[encoded data removed]",
            "text/plain": [
              "<Figure size 432x288 with 1 Axes>"
            ]
          },
          "metadata": {
            "tags": []
          }
        }
      ]
    },
    {
      "cell_type": "code",
      "metadata": {
        "id": "aU2QGSO88eVi",
        "colab_type": "code",
        "outputId": "c6062e22-e7ca-4203-c752-5032721fc5a3",
        "colab": {
          "base_uri": "https://localhost:8080/",
          "height": 139
        }
      },
      "source": [
        "from sklearn.cluster import KMeans\n",
        "kmeans = KMeans(n_clusters = 6, n_init = 20, n_jobs = 1) # n_init(number of iterations for clsutering) n_jobs(number of cpu cores to use)\n",
        "kmeans.fit(data_vectorized)\n",
        "words=vectorizer.get_feature_names()\n",
        "# We look at 3 the clusters generated by k-means.\n",
        "common_words = kmeans.cluster_centers_.argsort()[:,-1:-26:-1]\n",
        "for num, centroid in enumerate(common_words):\n",
        "    print(str(num) + ' : ' + ', '.join(words[word] for word in centroid))"
      ],
      "execution_count": 0,
      "outputs": [
        {
          "output_type": "stream",
          "text": [
            "0 : mount refr, mclean elec, washrelec stem, elec dryer, integrated dishwasher, hosesdryer duct, gas range, frnt load, frnch fridge, fridge frnch, french door, elec stem, elec rnge, elec rng, elec range, ele range, load washer, dryertop load, dryersteam washer, dryerfront load, dryerdryer duct, door refer, door ref, door fridge, cst treadmill\n",
            "1 : mnt fridge, chest freezer, french door, mount fridge, load wshr, smart tv, laundry center, chest frzr, stem dryr, elec dryer, hosesdryer duct, cst treadmill, tall tub, steel hosesdryer, oled tv, true convection, stainless steel, gas range, door fridge, convection range, washer dryer, integrated dishwasher, washersteel hoses, elec rnge, otr microwave\n",
            "2 : mnt frdg, mcln ele, semi integrated, washrelec stem, elec dryer, hosesdryer duct, gas range, frnt load, frnch fridge, fridge frnch, french door, elec stem, elec rnge, elec rng, elec range, ele range, laundry center, dryertop load, dryersteam washer, dryerfront load, dryerdryer duct, door refer, door ref, door fridge, cst treadmill\n",
            "3 : elec range, mclean elec, load washer, laundry center, integrated dishwasher, hosesdryer duct, gas range, frnt load, frnch fridge, fridge frnch, french door, elec stem, elec rnge, elec rng, elec dryer, washrelec stem, dryertop load, dryersteam washer, dryerfront load, dryerdryer duct, door refer, door ref, door fridge, cst treadmill, convection range\n",
            "4 : elec rng, washrelec stem, washersteel hoses, laundry center, integrated dishwasher, hosesdryer duct, gas range, frnt load, frnch fridge, fridge frnch, french door, elec stem, elec rnge, elec range, elec dryer, ele range, dryertop load, dryersteam washer, dryerfront load, dryerdryer duct, door refer, door ref, door fridge, cst treadmill, convection range\n",
            "5 : load washer, dryerfront load, dryertop load, stainless steel, true convection, washer dryer, steel hoses, hosesdryer duct, gas range, frnt load, frnch fridge, fridge frnch, ele range, elec stem, elec rnge, elec rng, elec range, elec dryer, french door, washrelec stem, integrated dishwasher, dryerdryer duct, door refer, door ref, door fridge\n"
          ],
          "name": "stdout"
        }
      ]
    }
  ]
}